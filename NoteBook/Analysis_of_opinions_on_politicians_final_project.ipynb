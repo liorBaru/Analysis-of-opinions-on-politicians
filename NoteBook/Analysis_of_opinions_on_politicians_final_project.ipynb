{
  "nbformat": 4,
  "nbformat_minor": 0,
  "metadata": {
    "colab": {
      "provenance": [],
      "collapsed_sections": [
        "J9a0A1GN0N3l",
        "3sr-JZK80ccX",
        "hgaHVxiDCrah",
        "tueVI-hsC0sd",
        "wilBQfDSWsJD",
        "cZ8SuIL7SiUN",
        "gYNiUiQ2Sl87",
        "3yxU5pVrTVpQ",
        "jBz0GVZwpy-o",
        "ZddKILiwZW-O",
        "TUuGmUG4O9RX",
        "08Bi2aE9CEDM",
        "rdsVDXWu7UxM"
      ]
    },
    "kernelspec": {
      "name": "python3",
      "display_name": "Python 3"
    },
    "language_info": {
      "name": "python"
    }
  },
  "cells": [
    {
      "cell_type": "markdown",
      "metadata": {
        "id": "dIXSI00_QC_Q"
      },
      "source": [
        "**Our project deals with the analysis of various politicians on social networks and the analysis of their popularity on the various platforms**\n",
        "\n",
        "*   Part 1 - Trump VS Biden analasys\n",
        "    This section we compared the popularity of the politician by comparing\n",
        "    the  number of repeated tweets of each politician by date.\n",
        "\n",
        "*   Part 2 - In this section we explored whether there is a match between \n",
        "    politicians' popularity on different news sites versus people's reactions\n",
        "    and their tweets on Twitter.\n",
        "\n",
        "*   Part 3 - In this section we have created a model for predicting the \n",
        "    popularity and sentiment of politicians.\n",
        "\n",
        "\n",
        "\n",
        "\n"
      ]
    },
    {
      "cell_type": "markdown",
      "metadata": {
        "id": "J9a0A1GN0N3l"
      },
      "source": [
        "# **imports**"
      ]
    },
    {
      "cell_type": "code",
      "metadata": {
        "id": "l9WQd253oG2r"
      },
      "source": [
        "!pip install panda\n",
        "\n",
        "!pip install tweepy\n",
        "!pip install turicreate\n",
        "!pip install kaggle \n",
        "!pip install spaCy\n",
        "!pip install nltk"
      ],
      "execution_count": null,
      "outputs": []
    },
    {
      "cell_type": "code",
      "metadata": {
        "id": "05RxkeLqCGCt"
      },
      "source": [
        "!pip install turicreate"
      ],
      "execution_count": null,
      "outputs": []
    },
    {
      "cell_type": "code",
      "metadata": {
        "id": "qoybXzvdzLiR"
      },
      "source": [
        "!python -m spacy download en_core_web_lg #restart run time"
      ],
      "execution_count": null,
      "outputs": []
    },
    {
      "cell_type": "code",
      "metadata": {
        "id": "SSzV_L2_zMpc"
      },
      "source": [
        "import os\n",
        "import tweepy as tw\n",
        "import pandas as pd\n",
        "import turicreate as tc\n",
        "import spacy\n",
        "from spacy import displacy\n",
        "import datetime\n",
        "import turicreate as tc\n",
        "import pandas as pd\n",
        "import time"
      ],
      "execution_count": null,
      "outputs": []
    },
    {
      "cell_type": "code",
      "metadata": {
        "id": "mSAjq_OLDF7P"
      },
      "source": [
        "!pip install Afinn"
      ],
      "execution_count": null,
      "outputs": []
    },
    {
      "cell_type": "code",
      "metadata": {
        "id": "ugDc6I_8DGHL"
      },
      "source": [
        "from afinn import Afinn\n",
        "afinn = Afinn()"
      ],
      "execution_count": null,
      "outputs": []
    },
    {
      "cell_type": "markdown",
      "metadata": {
        "id": "3sr-JZK80ccX"
      },
      "source": [
        "# **Part 1 - Trump VS Biden analasys**\n"
      ]
    },
    {
      "cell_type": "markdown",
      "metadata": {
        "id": "QzvlOVoEOMEz"
      },
      "source": [
        "## data"
      ]
    },
    {
      "cell_type": "code",
      "metadata": {
        "id": "MRg4OARG0acH"
      },
      "source": [
        "#setting up Kaggle & TuriCreate package s\n",
        "import json\n",
        "import os\n",
        "\n",
        "!mkdir /root/.kaggle/\n",
        "# Installing the Kaggle package\n",
        "\n",
        "#Important Note: complete this with your own key - after running this for the first time remmember to **remove** your API_KEY\n",
        "api_token = {\"username\":\"ayalonazlan\",\"key\":\"7749c6f0cc677bb6d123679631499d78\"}\n",
        "\n",
        "# creating kaggle.json file with the personal API-Key details \n",
        "# You can also put this file on your Google Drive\n",
        "\n",
        "with open('/root/.kaggle/kaggle.json', 'w') as file:\n",
        "  json.dump(api_token, file)\n",
        "!chmod 600 /root/.kaggle/kaggle.json"
      ],
      "execution_count": null,
      "outputs": []
    },
    {
      "cell_type": "code",
      "metadata": {
        "id": "YHAhpz1N0jfX",
        "colab": {
          "base_uri": "https://localhost:8080/"
        },
        "outputId": "6551a6dc-274c-45f0-abb3-7d26092c7282"
      },
      "source": [
        "import json\n",
        "import os\n",
        "\n",
        "\n",
        "\n",
        "\n",
        "# https://www.kaggle.com/austinreese/trump-tweets\n",
        "\n",
        "!mkdir ./datasets\n",
        "!mkdir ./datasets/tweets\n",
        "\n",
        "!kaggle datasets download austinreese/trump-tweets -p ./datasets/tweets/\n",
        "!unzip ./datasets/tweets/*.zip -d ./datasets/tweets\n",
        "\n",
        "!ls ./datasets/tweets"
      ],
      "execution_count": null,
      "outputs": [
        {
          "output_type": "stream",
          "text": [
            "Downloading trump-tweets.zip to ./datasets/tweets\n",
            "  0% 0.00/6.88M [00:00<?, ?B/s]\n",
            "100% 6.88M/6.88M [00:00<00:00, 63.9MB/s]\n",
            "Archive:  ./datasets/tweets/trump-tweets.zip\n",
            "  inflating: ./datasets/tweets/realdonaldtrump.csv  \n",
            "  inflating: ./datasets/tweets/trumptweets.csv  \n",
            "realdonaldtrump.csv  trumptweets.csv  trump-tweets.zip\n"
          ],
          "name": "stdout"
        }
      ]
    },
    {
      "cell_type": "code",
      "metadata": {
        "id": "0NHEVP-O0lmh"
      },
      "source": [
        "DATA_SETS_PATH = \"./datasets/tweets\"\n",
        "\n",
        "#getting a blog post\n",
        "sf_posts = tc.SFrame.read_csv(f\"{DATA_SETS_PATH}/trumptweets.csv\")\n",
        "relevant_tweets_of_trump=sf_posts['date','retweets','favorites']\n",
        "\n",
        "relevant_tweets_of_trump"
      ],
      "execution_count": null,
      "outputs": []
    },
    {
      "cell_type": "code",
      "metadata": {
        "id": "v36d2L6u0nSK"
      },
      "source": [
        "relevant_tweets_of_trump_copy=relevant_tweets_of_trump"
      ],
      "execution_count": null,
      "outputs": []
    },
    {
      "cell_type": "code",
      "metadata": {
        "id": "2EGHew4W0o03"
      },
      "source": [
        "##choose only the date we need\n",
        "def choosen_date(date):\n",
        "    \n",
        "    split_date=date.split(\" \")\n",
        "    relevant_date=split_date[0].split('-')\n",
        "    year=int(relevant_date[0])\n",
        "    month=int(relevant_date[1])\n",
        "    day=int(relevant_date[2])\n",
        "  \n",
        "    # \n",
        "    if (year == 2012 and month == 10) and (day == 1 or day == 2 or day== 3 or day == 4):  \n",
        "      \n",
        "      return 1 \n",
        "      \n",
        "    else:\n",
        "      \n",
        "      return 0  \n",
        " \n",
        "relevant_tweets_of_trump_copy['relevant_date'] = relevant_tweets_of_trump['date'].apply(lambda date: choosen_date(date)) \n",
        "relevant_tweets_of_trump_copy=relevant_tweets_of_trump_copy[relevant_tweets_of_trump_copy['relevant_date'].apply(lambda s: s==1)]"
      ],
      "execution_count": null,
      "outputs": []
    },
    {
      "cell_type": "code",
      "metadata": {
        "id": "ZFoxZIf80tW8"
      },
      "source": [
        "import turicreate.aggregate as agg\n",
        "\n",
        "def dates_we_need(tweets):\n",
        "  list_of_dates=[]\n",
        "  for row in tweets:\n",
        "    date_we_need=row['date'].split(' ')[0]\n",
        "    list_of_dates.append(date_we_need)\n",
        "    date_we_need=\"\"\n",
        "  return list_of_dates"
      ],
      "execution_count": null,
      "outputs": []
    },
    {
      "cell_type": "code",
      "metadata": {
        "id": "I0qLWM1O0vft"
      },
      "source": [
        "relevant_tweets_of_trump_copy['Date'] = dates_we_need(relevant_tweets_of_trump_copy) "
      ],
      "execution_count": null,
      "outputs": []
    },
    {
      "cell_type": "code",
      "metadata": {
        "id": "EAQJuaXo0xAZ"
      },
      "source": [
        "most_trump_relevant_tweets=relevant_tweets_of_trump_copy['retweets','favorites','Date']"
      ],
      "execution_count": null,
      "outputs": []
    },
    {
      "cell_type": "code",
      "metadata": {
        "id": "t2d2tnm00ynP",
        "colab": {
          "base_uri": "https://localhost:8080/",
          "height": 279
        },
        "outputId": "609d500b-aa89-464c-82b8-4412db7dc301"
      },
      "source": [
        "most_trump_relevant_tweets"
      ],
      "execution_count": null,
      "outputs": [
        {
          "output_type": "execute_result",
          "data": {
            "text/html": [
              "<div style=\"max-height:1000px;max-width:1500px;overflow:auto;\"><table frame=\"box\" rules=\"cols\">\n",
              "    <tr>\n",
              "        <th style=\"padding-left: 1em; padding-right: 1em; text-align: center\">retweets</th>\n",
              "        <th style=\"padding-left: 1em; padding-right: 1em; text-align: center\">favorites</th>\n",
              "        <th style=\"padding-left: 1em; padding-right: 1em; text-align: center\">Date</th>\n",
              "    </tr>\n",
              "    <tr>\n",
              "        <td style=\"padding-left: 1em; padding-right: 1em; text-align: center; vertical-align: top\">2</td>\n",
              "        <td style=\"padding-left: 1em; padding-right: 1em; text-align: center; vertical-align: top\">1</td>\n",
              "        <td style=\"padding-left: 1em; padding-right: 1em; text-align: center; vertical-align: top\">2012-10-01</td>\n",
              "    </tr>\n",
              "    <tr>\n",
              "        <td style=\"padding-left: 1em; padding-right: 1em; text-align: center; vertical-align: top\">640</td>\n",
              "        <td style=\"padding-left: 1em; padding-right: 1em; text-align: center; vertical-align: top\">180</td>\n",
              "        <td style=\"padding-left: 1em; padding-right: 1em; text-align: center; vertical-align: top\">2012-10-01</td>\n",
              "    </tr>\n",
              "    <tr>\n",
              "        <td style=\"padding-left: 1em; padding-right: 1em; text-align: center; vertical-align: top\">634</td>\n",
              "        <td style=\"padding-left: 1em; padding-right: 1em; text-align: center; vertical-align: top\">232</td>\n",
              "        <td style=\"padding-left: 1em; padding-right: 1em; text-align: center; vertical-align: top\">2012-10-01</td>\n",
              "    </tr>\n",
              "    <tr>\n",
              "        <td style=\"padding-left: 1em; padding-right: 1em; text-align: center; vertical-align: top\">30</td>\n",
              "        <td style=\"padding-left: 1em; padding-right: 1em; text-align: center; vertical-align: top\">12</td>\n",
              "        <td style=\"padding-left: 1em; padding-right: 1em; text-align: center; vertical-align: top\">2012-10-01</td>\n",
              "    </tr>\n",
              "    <tr>\n",
              "        <td style=\"padding-left: 1em; padding-right: 1em; text-align: center; vertical-align: top\">14</td>\n",
              "        <td style=\"padding-left: 1em; padding-right: 1em; text-align: center; vertical-align: top\">9</td>\n",
              "        <td style=\"padding-left: 1em; padding-right: 1em; text-align: center; vertical-align: top\">2012-10-01</td>\n",
              "    </tr>\n",
              "    <tr>\n",
              "        <td style=\"padding-left: 1em; padding-right: 1em; text-align: center; vertical-align: top\">12</td>\n",
              "        <td style=\"padding-left: 1em; padding-right: 1em; text-align: center; vertical-align: top\">12</td>\n",
              "        <td style=\"padding-left: 1em; padding-right: 1em; text-align: center; vertical-align: top\">2012-10-01</td>\n",
              "    </tr>\n",
              "    <tr>\n",
              "        <td style=\"padding-left: 1em; padding-right: 1em; text-align: center; vertical-align: top\">130</td>\n",
              "        <td style=\"padding-left: 1em; padding-right: 1em; text-align: center; vertical-align: top\">28</td>\n",
              "        <td style=\"padding-left: 1em; padding-right: 1em; text-align: center; vertical-align: top\">2012-10-01</td>\n",
              "    </tr>\n",
              "    <tr>\n",
              "        <td style=\"padding-left: 1em; padding-right: 1em; text-align: center; vertical-align: top\">54</td>\n",
              "        <td style=\"padding-left: 1em; padding-right: 1em; text-align: center; vertical-align: top\">4</td>\n",
              "        <td style=\"padding-left: 1em; padding-right: 1em; text-align: center; vertical-align: top\">2012-10-01</td>\n",
              "    </tr>\n",
              "    <tr>\n",
              "        <td style=\"padding-left: 1em; padding-right: 1em; text-align: center; vertical-align: top\">11</td>\n",
              "        <td style=\"padding-left: 1em; padding-right: 1em; text-align: center; vertical-align: top\">4</td>\n",
              "        <td style=\"padding-left: 1em; padding-right: 1em; text-align: center; vertical-align: top\">2012-10-01</td>\n",
              "    </tr>\n",
              "    <tr>\n",
              "        <td style=\"padding-left: 1em; padding-right: 1em; text-align: center; vertical-align: top\">27</td>\n",
              "        <td style=\"padding-left: 1em; padding-right: 1em; text-align: center; vertical-align: top\">12</td>\n",
              "        <td style=\"padding-left: 1em; padding-right: 1em; text-align: center; vertical-align: top\">2012-10-01</td>\n",
              "    </tr>\n",
              "</table>\n",
              "[99 rows x 3 columns]<br/>Note: Only the head of the SFrame is printed.<br/>You can use print_rows(num_rows=m, num_columns=n) to print more rows and columns.\n",
              "</div>"
            ],
            "text/plain": [
              "Columns:\n",
              "\tretweets\tint\n",
              "\tfavorites\tint\n",
              "\tDate\tstr\n",
              "\n",
              "Rows: 99\n",
              "\n",
              "Data:\n",
              "+----------+-----------+------------+\n",
              "| retweets | favorites |    Date    |\n",
              "+----------+-----------+------------+\n",
              "|    2     |     1     | 2012-10-01 |\n",
              "|   640    |    180    | 2012-10-01 |\n",
              "|   634    |    232    | 2012-10-01 |\n",
              "|    30    |     12    | 2012-10-01 |\n",
              "|    14    |     9     | 2012-10-01 |\n",
              "|    12    |     12    | 2012-10-01 |\n",
              "|   130    |     28    | 2012-10-01 |\n",
              "|    54    |     4     | 2012-10-01 |\n",
              "|    11    |     4     | 2012-10-01 |\n",
              "|    27    |     12    | 2012-10-01 |\n",
              "+----------+-----------+------------+\n",
              "[99 rows x 3 columns]\n",
              "Note: Only the head of the SFrame is printed.\n",
              "You can use print_rows(num_rows=m, num_columns=n) to print more rows and columns."
            ]
          },
          "metadata": {},
          "execution_count": 114
        }
      ]
    },
    {
      "cell_type": "code",
      "metadata": {
        "id": "kGXgo5O-00VC"
      },
      "source": [
        "def five_tweets_from_each_date(data):\n",
        "\n",
        "  dates=[]\n",
        "  retweets=[]\n",
        "  dates_and_retweets=[]\n",
        "  counter=0\n",
        "  for row in data:   \n",
        "      relevant_date_from_table=row['Date']\n",
        "      relevant_retweet=row['retweets']\n",
        "      split_date=relevant_date_from_table.split(\" \")\n",
        "      relevant_date=split_date[0].split('-')\n",
        "      day=int(relevant_date[2])\n",
        "      counter+=1\n",
        "      if counter<=5:\n",
        "        dates.append(relevant_date)\n",
        "        retweets.append(relevant_retweet)\n",
        "        dates_and_retweets.append([relevant_date_from_table,relevant_retweet])\n",
        "      else:\n",
        "        if relevant_date in dates:\n",
        "          continue\n",
        "        else:\n",
        "          counter=1\n",
        "          dates.append(relevant_date)\n",
        "          retweets.append(relevant_retweet)\n",
        "          dates_and_retweets.append([relevant_date_from_table,relevant_retweet])\n",
        "          continue\n",
        "  new_df = pd.DataFrame(data=dates_and_retweets, \n",
        "                    columns=['Date', \"retweets\"])\n",
        "  return new_df      "
      ],
      "execution_count": null,
      "outputs": []
    },
    {
      "cell_type": "code",
      "metadata": {
        "id": "ADbLVWN3030C",
        "colab": {
          "base_uri": "https://localhost:8080/",
          "height": 669
        },
        "outputId": "efcaf09d-4618-4e92-8022-ac0dd16fb321"
      },
      "source": [
        "five_relevant_tweets_from_each_date_Trump=five_tweets_from_each_date(most_trump_relevant_tweets)\n",
        "five_relevant_tweets_from_each_date_Trump"
      ],
      "execution_count": null,
      "outputs": [
        {
          "output_type": "execute_result",
          "data": {
            "text/html": [
              "<div>\n",
              "<style scoped>\n",
              "    .dataframe tbody tr th:only-of-type {\n",
              "        vertical-align: middle;\n",
              "    }\n",
              "\n",
              "    .dataframe tbody tr th {\n",
              "        vertical-align: top;\n",
              "    }\n",
              "\n",
              "    .dataframe thead th {\n",
              "        text-align: right;\n",
              "    }\n",
              "</style>\n",
              "<table border=\"1\" class=\"dataframe\">\n",
              "  <thead>\n",
              "    <tr style=\"text-align: right;\">\n",
              "      <th></th>\n",
              "      <th>Date</th>\n",
              "      <th>retweets</th>\n",
              "    </tr>\n",
              "  </thead>\n",
              "  <tbody>\n",
              "    <tr>\n",
              "      <th>0</th>\n",
              "      <td>2012-10-01</td>\n",
              "      <td>2</td>\n",
              "    </tr>\n",
              "    <tr>\n",
              "      <th>1</th>\n",
              "      <td>2012-10-01</td>\n",
              "      <td>640</td>\n",
              "    </tr>\n",
              "    <tr>\n",
              "      <th>2</th>\n",
              "      <td>2012-10-01</td>\n",
              "      <td>634</td>\n",
              "    </tr>\n",
              "    <tr>\n",
              "      <th>3</th>\n",
              "      <td>2012-10-01</td>\n",
              "      <td>30</td>\n",
              "    </tr>\n",
              "    <tr>\n",
              "      <th>4</th>\n",
              "      <td>2012-10-01</td>\n",
              "      <td>14</td>\n",
              "    </tr>\n",
              "    <tr>\n",
              "      <th>5</th>\n",
              "      <td>2012-10-02</td>\n",
              "      <td>526</td>\n",
              "    </tr>\n",
              "    <tr>\n",
              "      <th>6</th>\n",
              "      <td>2012-10-02</td>\n",
              "      <td>485</td>\n",
              "    </tr>\n",
              "    <tr>\n",
              "      <th>7</th>\n",
              "      <td>2012-10-02</td>\n",
              "      <td>2223</td>\n",
              "    </tr>\n",
              "    <tr>\n",
              "      <th>8</th>\n",
              "      <td>2012-10-02</td>\n",
              "      <td>248</td>\n",
              "    </tr>\n",
              "    <tr>\n",
              "      <th>9</th>\n",
              "      <td>2012-10-02</td>\n",
              "      <td>340</td>\n",
              "    </tr>\n",
              "    <tr>\n",
              "      <th>10</th>\n",
              "      <td>2012-10-03</td>\n",
              "      <td>168</td>\n",
              "    </tr>\n",
              "    <tr>\n",
              "      <th>11</th>\n",
              "      <td>2012-10-03</td>\n",
              "      <td>325</td>\n",
              "    </tr>\n",
              "    <tr>\n",
              "      <th>12</th>\n",
              "      <td>2012-10-03</td>\n",
              "      <td>284</td>\n",
              "    </tr>\n",
              "    <tr>\n",
              "      <th>13</th>\n",
              "      <td>2012-10-03</td>\n",
              "      <td>2801</td>\n",
              "    </tr>\n",
              "    <tr>\n",
              "      <th>14</th>\n",
              "      <td>2012-10-03</td>\n",
              "      <td>494</td>\n",
              "    </tr>\n",
              "    <tr>\n",
              "      <th>15</th>\n",
              "      <td>2012-10-04</td>\n",
              "      <td>3669</td>\n",
              "    </tr>\n",
              "    <tr>\n",
              "      <th>16</th>\n",
              "      <td>2012-10-04</td>\n",
              "      <td>1402</td>\n",
              "    </tr>\n",
              "    <tr>\n",
              "      <th>17</th>\n",
              "      <td>2012-10-04</td>\n",
              "      <td>229</td>\n",
              "    </tr>\n",
              "    <tr>\n",
              "      <th>18</th>\n",
              "      <td>2012-10-04</td>\n",
              "      <td>4</td>\n",
              "    </tr>\n",
              "    <tr>\n",
              "      <th>19</th>\n",
              "      <td>2012-10-04</td>\n",
              "      <td>59</td>\n",
              "    </tr>\n",
              "  </tbody>\n",
              "</table>\n",
              "</div>"
            ],
            "text/plain": [
              "          Date  retweets\n",
              "0   2012-10-01         2\n",
              "1   2012-10-01       640\n",
              "2   2012-10-01       634\n",
              "3   2012-10-01        30\n",
              "4   2012-10-01        14\n",
              "5   2012-10-02       526\n",
              "6   2012-10-02       485\n",
              "7   2012-10-02      2223\n",
              "8   2012-10-02       248\n",
              "9   2012-10-02       340\n",
              "10  2012-10-03       168\n",
              "11  2012-10-03       325\n",
              "12  2012-10-03       284\n",
              "13  2012-10-03      2801\n",
              "14  2012-10-03       494\n",
              "15  2012-10-04      3669\n",
              "16  2012-10-04      1402\n",
              "17  2012-10-04       229\n",
              "18  2012-10-04         4\n",
              "19  2012-10-04        59"
            ]
          },
          "metadata": {},
          "execution_count": 116
        }
      ]
    },
    {
      "cell_type": "code",
      "metadata": {
        "id": "qX0Vbql805sO",
        "colab": {
          "base_uri": "https://localhost:8080/",
          "height": 173
        },
        "outputId": "e4333fde-fc9b-41e9-9f84-5caf9bbdf9df"
      },
      "source": [
        "count_retweets_Trump=five_relevant_tweets_from_each_date_Trump.groupby(['Date']).sum().reset_index()\n",
        "count_retweets_Trump"
      ],
      "execution_count": null,
      "outputs": [
        {
          "output_type": "execute_result",
          "data": {
            "text/html": [
              "<div>\n",
              "<style scoped>\n",
              "    .dataframe tbody tr th:only-of-type {\n",
              "        vertical-align: middle;\n",
              "    }\n",
              "\n",
              "    .dataframe tbody tr th {\n",
              "        vertical-align: top;\n",
              "    }\n",
              "\n",
              "    .dataframe thead th {\n",
              "        text-align: right;\n",
              "    }\n",
              "</style>\n",
              "<table border=\"1\" class=\"dataframe\">\n",
              "  <thead>\n",
              "    <tr style=\"text-align: right;\">\n",
              "      <th></th>\n",
              "      <th>Date</th>\n",
              "      <th>retweets</th>\n",
              "    </tr>\n",
              "  </thead>\n",
              "  <tbody>\n",
              "    <tr>\n",
              "      <th>0</th>\n",
              "      <td>2012-10-01</td>\n",
              "      <td>1320</td>\n",
              "    </tr>\n",
              "    <tr>\n",
              "      <th>1</th>\n",
              "      <td>2012-10-02</td>\n",
              "      <td>3822</td>\n",
              "    </tr>\n",
              "    <tr>\n",
              "      <th>2</th>\n",
              "      <td>2012-10-03</td>\n",
              "      <td>4072</td>\n",
              "    </tr>\n",
              "    <tr>\n",
              "      <th>3</th>\n",
              "      <td>2012-10-04</td>\n",
              "      <td>5363</td>\n",
              "    </tr>\n",
              "  </tbody>\n",
              "</table>\n",
              "</div>"
            ],
            "text/plain": [
              "         Date  retweets\n",
              "0  2012-10-01      1320\n",
              "1  2012-10-02      3822\n",
              "2  2012-10-03      4072\n",
              "3  2012-10-04      5363"
            ]
          },
          "metadata": {},
          "execution_count": 117
        }
      ]
    },
    {
      "cell_type": "markdown",
      "metadata": {
        "id": "KHJR0qiN09rM"
      },
      "source": [
        "ביידן\n"
      ]
    },
    {
      "cell_type": "code",
      "metadata": {
        "id": "yNjcqeRZ07sI"
      },
      "source": [
        "# https://www.kaggle.com/rohanrao/joe-biden-tweets\n",
        "!kaggle datasets download rohanrao/joe-biden-tweets -p ./datasets/tweets_of_joe/\n",
        "!unzip ./datasets/tweets_of_joe/*.zip -d ./datasets/tweets_of_joe\n",
        "\n",
        "!ls ./datasets/tweets_of_joe"
      ],
      "execution_count": null,
      "outputs": []
    },
    {
      "cell_type": "code",
      "metadata": {
        "id": "onOtbYLc1ALU"
      },
      "source": [
        "DATA_SETS_PATH = \"./datasets/tweets_of_joe\"\n",
        "\n",
        "#getting a blog post\n",
        "sf_posts = tc.SFrame.read_csv(f\"{DATA_SETS_PATH}/JoeBidenTweets.csv\")\n",
        "relevant_tweets_of_Biden=sf_posts['timestamp','retweets']\n",
        "\n",
        "sf_posts"
      ],
      "execution_count": null,
      "outputs": []
    },
    {
      "cell_type": "code",
      "metadata": {
        "id": "Rxph6k_P1ByQ"
      },
      "source": [
        "relevant_tweets_of_Biden_copy=relevant_tweets_of_Biden"
      ],
      "execution_count": null,
      "outputs": []
    },
    {
      "cell_type": "code",
      "metadata": {
        "id": "fpDCpe--1Egj"
      },
      "source": [
        "relevant_tweets_of_Biden_copy['relevant_date'] = relevant_tweets_of_Biden['timestamp'].apply(lambda date: choosen_date(date)) "
      ],
      "execution_count": null,
      "outputs": []
    },
    {
      "cell_type": "code",
      "metadata": {
        "id": "kqGD8tFG1FPE"
      },
      "source": [
        "relevant_tweets_of_Biden_copy=relevant_tweets_of_Biden_copy[relevant_tweets_of_Biden_copy['relevant_date'].apply(lambda s: s==1)]"
      ],
      "execution_count": null,
      "outputs": []
    },
    {
      "cell_type": "code",
      "metadata": {
        "id": "eX4Sa8xv1GoX",
        "colab": {
          "base_uri": "https://localhost:8080/",
          "height": 279
        },
        "outputId": "ca658961-d867-4c6a-c61e-68639934f28f"
      },
      "source": [
        "relevant_tweets_of_Biden_copy = relevant_tweets_of_Biden_copy.rename({'timestamp': 'date'})\n",
        "relevant_tweets_of_Biden_copy"
      ],
      "execution_count": null,
      "outputs": [
        {
          "output_type": "execute_result",
          "data": {
            "text/html": [
              "<div style=\"max-height:1000px;max-width:1500px;overflow:auto;\"><table frame=\"box\" rules=\"cols\">\n",
              "    <tr>\n",
              "        <th style=\"padding-left: 1em; padding-right: 1em; text-align: center\">date</th>\n",
              "        <th style=\"padding-left: 1em; padding-right: 1em; text-align: center\">retweets</th>\n",
              "        <th style=\"padding-left: 1em; padding-right: 1em; text-align: center\">relevant_date</th>\n",
              "    </tr>\n",
              "    <tr>\n",
              "        <td style=\"padding-left: 1em; padding-right: 1em; text-align: center; vertical-align: top\">2012-10-01 03:16</td>\n",
              "        <td style=\"padding-left: 1em; padding-right: 1em; text-align: center; vertical-align: top\">133</td>\n",
              "        <td style=\"padding-left: 1em; padding-right: 1em; text-align: center; vertical-align: top\">1</td>\n",
              "    </tr>\n",
              "    <tr>\n",
              "        <td style=\"padding-left: 1em; padding-right: 1em; text-align: center; vertical-align: top\">2012-10-01 15:59</td>\n",
              "        <td style=\"padding-left: 1em; padding-right: 1em; text-align: center; vertical-align: top\">44</td>\n",
              "        <td style=\"padding-left: 1em; padding-right: 1em; text-align: center; vertical-align: top\">1</td>\n",
              "    </tr>\n",
              "    <tr>\n",
              "        <td style=\"padding-left: 1em; padding-right: 1em; text-align: center; vertical-align: top\">2012-10-01 19:05</td>\n",
              "        <td style=\"padding-left: 1em; padding-right: 1em; text-align: center; vertical-align: top\">52</td>\n",
              "        <td style=\"padding-left: 1em; padding-right: 1em; text-align: center; vertical-align: top\">1</td>\n",
              "    </tr>\n",
              "    <tr>\n",
              "        <td style=\"padding-left: 1em; padding-right: 1em; text-align: center; vertical-align: top\">2012-10-01 19:29</td>\n",
              "        <td style=\"padding-left: 1em; padding-right: 1em; text-align: center; vertical-align: top\">43</td>\n",
              "        <td style=\"padding-left: 1em; padding-right: 1em; text-align: center; vertical-align: top\">1</td>\n",
              "    </tr>\n",
              "    <tr>\n",
              "        <td style=\"padding-left: 1em; padding-right: 1em; text-align: center; vertical-align: top\">2012-10-01 23:07</td>\n",
              "        <td style=\"padding-left: 1em; padding-right: 1em; text-align: center; vertical-align: top\">17</td>\n",
              "        <td style=\"padding-left: 1em; padding-right: 1em; text-align: center; vertical-align: top\">1</td>\n",
              "    </tr>\n",
              "    <tr>\n",
              "        <td style=\"padding-left: 1em; padding-right: 1em; text-align: center; vertical-align: top\">2012-10-02 19:20</td>\n",
              "        <td style=\"padding-left: 1em; padding-right: 1em; text-align: center; vertical-align: top\">23</td>\n",
              "        <td style=\"padding-left: 1em; padding-right: 1em; text-align: center; vertical-align: top\">1</td>\n",
              "    </tr>\n",
              "    <tr>\n",
              "        <td style=\"padding-left: 1em; padding-right: 1em; text-align: center; vertical-align: top\">2012-10-02 19:34</td>\n",
              "        <td style=\"padding-left: 1em; padding-right: 1em; text-align: center; vertical-align: top\">61</td>\n",
              "        <td style=\"padding-left: 1em; padding-right: 1em; text-align: center; vertical-align: top\">1</td>\n",
              "    </tr>\n",
              "    <tr>\n",
              "        <td style=\"padding-left: 1em; padding-right: 1em; text-align: center; vertical-align: top\">2012-10-02 19:41</td>\n",
              "        <td style=\"padding-left: 1em; padding-right: 1em; text-align: center; vertical-align: top\">52</td>\n",
              "        <td style=\"padding-left: 1em; padding-right: 1em; text-align: center; vertical-align: top\">1</td>\n",
              "    </tr>\n",
              "    <tr>\n",
              "        <td style=\"padding-left: 1em; padding-right: 1em; text-align: center; vertical-align: top\">2012-10-02 21:50</td>\n",
              "        <td style=\"padding-left: 1em; padding-right: 1em; text-align: center; vertical-align: top\">109</td>\n",
              "        <td style=\"padding-left: 1em; padding-right: 1em; text-align: center; vertical-align: top\">1</td>\n",
              "    </tr>\n",
              "    <tr>\n",
              "        <td style=\"padding-left: 1em; padding-right: 1em; text-align: center; vertical-align: top\">2012-10-02 22:15</td>\n",
              "        <td style=\"padding-left: 1em; padding-right: 1em; text-align: center; vertical-align: top\">58</td>\n",
              "        <td style=\"padding-left: 1em; padding-right: 1em; text-align: center; vertical-align: top\">1</td>\n",
              "    </tr>\n",
              "</table>\n",
              "[? rows x 3 columns]<br/>Note: Only the head of the SFrame is printed. This SFrame is lazily evaluated.<br/>You can use sf.materialize() to force materialization.\n",
              "</div>"
            ],
            "text/plain": [
              "Columns:\n",
              "\tdate\tstr\n",
              "\tretweets\tint\n",
              "\trelevant_date\tint\n",
              "\n",
              "Rows: Unknown\n",
              "\n",
              "Data:\n",
              "+------------------+----------+---------------+\n",
              "|       date       | retweets | relevant_date |\n",
              "+------------------+----------+---------------+\n",
              "| 2012-10-01 03:16 |   133    |       1       |\n",
              "| 2012-10-01 15:59 |    44    |       1       |\n",
              "| 2012-10-01 19:05 |    52    |       1       |\n",
              "| 2012-10-01 19:29 |    43    |       1       |\n",
              "| 2012-10-01 23:07 |    17    |       1       |\n",
              "| 2012-10-02 19:20 |    23    |       1       |\n",
              "| 2012-10-02 19:34 |    61    |       1       |\n",
              "| 2012-10-02 19:41 |    52    |       1       |\n",
              "| 2012-10-02 21:50 |   109    |       1       |\n",
              "| 2012-10-02 22:15 |    58    |       1       |\n",
              "+------------------+----------+---------------+\n",
              "[? rows x 3 columns]\n",
              "Note: Only the head of the SFrame is printed. This SFrame is lazily evaluated.\n",
              "You can use sf.materialize() to force materialization."
            ]
          },
          "metadata": {
            "tags": []
          },
          "execution_count": 32
        }
      ]
    },
    {
      "cell_type": "code",
      "metadata": {
        "id": "9s_OjasE1IQ2"
      },
      "source": [
        "relevant_tweets_of_Biden_copy['Date'] = dates_we_need(relevant_tweets_of_Biden_copy) \n",
        "most_Biden_relevant_tweets=relevant_tweets_of_Biden_copy['retweets','Date']"
      ],
      "execution_count": null,
      "outputs": []
    },
    {
      "cell_type": "code",
      "metadata": {
        "id": "wCg4mlRb1LAY",
        "colab": {
          "base_uri": "https://localhost:8080/",
          "height": 669
        },
        "outputId": "46ce76dd-ba29-46fd-a819-a68354c2a462"
      },
      "source": [
        "five_relevant_tweets_from_each_date_Biden=five_tweets_from_each_date(most_Biden_relevant_tweets)\n",
        "\n",
        "five_relevant_tweets_from_each_date_Biden"
      ],
      "execution_count": null,
      "outputs": [
        {
          "output_type": "execute_result",
          "data": {
            "text/html": [
              "<div>\n",
              "<style scoped>\n",
              "    .dataframe tbody tr th:only-of-type {\n",
              "        vertical-align: middle;\n",
              "    }\n",
              "\n",
              "    .dataframe tbody tr th {\n",
              "        vertical-align: top;\n",
              "    }\n",
              "\n",
              "    .dataframe thead th {\n",
              "        text-align: right;\n",
              "    }\n",
              "</style>\n",
              "<table border=\"1\" class=\"dataframe\">\n",
              "  <thead>\n",
              "    <tr style=\"text-align: right;\">\n",
              "      <th></th>\n",
              "      <th>Date</th>\n",
              "      <th>retweets</th>\n",
              "    </tr>\n",
              "  </thead>\n",
              "  <tbody>\n",
              "    <tr>\n",
              "      <th>0</th>\n",
              "      <td>2012-10-01</td>\n",
              "      <td>133</td>\n",
              "    </tr>\n",
              "    <tr>\n",
              "      <th>1</th>\n",
              "      <td>2012-10-01</td>\n",
              "      <td>44</td>\n",
              "    </tr>\n",
              "    <tr>\n",
              "      <th>2</th>\n",
              "      <td>2012-10-01</td>\n",
              "      <td>52</td>\n",
              "    </tr>\n",
              "    <tr>\n",
              "      <th>3</th>\n",
              "      <td>2012-10-01</td>\n",
              "      <td>43</td>\n",
              "    </tr>\n",
              "    <tr>\n",
              "      <th>4</th>\n",
              "      <td>2012-10-01</td>\n",
              "      <td>17</td>\n",
              "    </tr>\n",
              "    <tr>\n",
              "      <th>5</th>\n",
              "      <td>2012-10-02</td>\n",
              "      <td>23</td>\n",
              "    </tr>\n",
              "    <tr>\n",
              "      <th>6</th>\n",
              "      <td>2012-10-02</td>\n",
              "      <td>61</td>\n",
              "    </tr>\n",
              "    <tr>\n",
              "      <th>7</th>\n",
              "      <td>2012-10-02</td>\n",
              "      <td>52</td>\n",
              "    </tr>\n",
              "    <tr>\n",
              "      <th>8</th>\n",
              "      <td>2012-10-02</td>\n",
              "      <td>109</td>\n",
              "    </tr>\n",
              "    <tr>\n",
              "      <th>9</th>\n",
              "      <td>2012-10-02</td>\n",
              "      <td>58</td>\n",
              "    </tr>\n",
              "    <tr>\n",
              "      <th>10</th>\n",
              "      <td>2012-10-03</td>\n",
              "      <td>39</td>\n",
              "    </tr>\n",
              "    <tr>\n",
              "      <th>11</th>\n",
              "      <td>2012-10-03</td>\n",
              "      <td>178</td>\n",
              "    </tr>\n",
              "    <tr>\n",
              "      <th>12</th>\n",
              "      <td>2012-10-03</td>\n",
              "      <td>68</td>\n",
              "    </tr>\n",
              "    <tr>\n",
              "      <th>13</th>\n",
              "      <td>2012-10-03</td>\n",
              "      <td>127</td>\n",
              "    </tr>\n",
              "    <tr>\n",
              "      <th>14</th>\n",
              "      <td>2012-10-03</td>\n",
              "      <td>53</td>\n",
              "    </tr>\n",
              "    <tr>\n",
              "      <th>15</th>\n",
              "      <td>2012-10-04</td>\n",
              "      <td>73</td>\n",
              "    </tr>\n",
              "    <tr>\n",
              "      <th>16</th>\n",
              "      <td>2012-10-04</td>\n",
              "      <td>685</td>\n",
              "    </tr>\n",
              "    <tr>\n",
              "      <th>17</th>\n",
              "      <td>2012-10-04</td>\n",
              "      <td>925</td>\n",
              "    </tr>\n",
              "    <tr>\n",
              "      <th>18</th>\n",
              "      <td>2012-10-04</td>\n",
              "      <td>278</td>\n",
              "    </tr>\n",
              "    <tr>\n",
              "      <th>19</th>\n",
              "      <td>2012-10-04</td>\n",
              "      <td>315</td>\n",
              "    </tr>\n",
              "  </tbody>\n",
              "</table>\n",
              "</div>"
            ],
            "text/plain": [
              "          Date  retweets\n",
              "0   2012-10-01       133\n",
              "1   2012-10-01        44\n",
              "2   2012-10-01        52\n",
              "3   2012-10-01        43\n",
              "4   2012-10-01        17\n",
              "5   2012-10-02        23\n",
              "6   2012-10-02        61\n",
              "7   2012-10-02        52\n",
              "8   2012-10-02       109\n",
              "9   2012-10-02        58\n",
              "10  2012-10-03        39\n",
              "11  2012-10-03       178\n",
              "12  2012-10-03        68\n",
              "13  2012-10-03       127\n",
              "14  2012-10-03        53\n",
              "15  2012-10-04        73\n",
              "16  2012-10-04       685\n",
              "17  2012-10-04       925\n",
              "18  2012-10-04       278\n",
              "19  2012-10-04       315"
            ]
          },
          "metadata": {
            "tags": []
          },
          "execution_count": 34
        }
      ]
    },
    {
      "cell_type": "code",
      "metadata": {
        "id": "An9OlNmc1MyH",
        "colab": {
          "base_uri": "https://localhost:8080/",
          "height": 173
        },
        "outputId": "2b289325-53c7-454d-eb93-03934d5a9694"
      },
      "source": [
        "count_retweets_Biden=five_relevant_tweets_from_each_date_Biden.groupby(['Date']).sum().reset_index()\n",
        "count_retweets_Biden"
      ],
      "execution_count": null,
      "outputs": [
        {
          "output_type": "execute_result",
          "data": {
            "text/html": [
              "<div>\n",
              "<style scoped>\n",
              "    .dataframe tbody tr th:only-of-type {\n",
              "        vertical-align: middle;\n",
              "    }\n",
              "\n",
              "    .dataframe tbody tr th {\n",
              "        vertical-align: top;\n",
              "    }\n",
              "\n",
              "    .dataframe thead th {\n",
              "        text-align: right;\n",
              "    }\n",
              "</style>\n",
              "<table border=\"1\" class=\"dataframe\">\n",
              "  <thead>\n",
              "    <tr style=\"text-align: right;\">\n",
              "      <th></th>\n",
              "      <th>Date</th>\n",
              "      <th>retweets</th>\n",
              "    </tr>\n",
              "  </thead>\n",
              "  <tbody>\n",
              "    <tr>\n",
              "      <th>0</th>\n",
              "      <td>2012-10-01</td>\n",
              "      <td>289</td>\n",
              "    </tr>\n",
              "    <tr>\n",
              "      <th>1</th>\n",
              "      <td>2012-10-02</td>\n",
              "      <td>303</td>\n",
              "    </tr>\n",
              "    <tr>\n",
              "      <th>2</th>\n",
              "      <td>2012-10-03</td>\n",
              "      <td>465</td>\n",
              "    </tr>\n",
              "    <tr>\n",
              "      <th>3</th>\n",
              "      <td>2012-10-04</td>\n",
              "      <td>2276</td>\n",
              "    </tr>\n",
              "  </tbody>\n",
              "</table>\n",
              "</div>"
            ],
            "text/plain": [
              "         Date  retweets\n",
              "0  2012-10-01       289\n",
              "1  2012-10-02       303\n",
              "2  2012-10-03       465\n",
              "3  2012-10-04      2276"
            ]
          },
          "metadata": {
            "tags": []
          },
          "execution_count": 35
        }
      ]
    },
    {
      "cell_type": "code",
      "metadata": {
        "id": "m6Z4s1kaSEVg"
      },
      "source": [],
      "execution_count": null,
      "outputs": []
    },
    {
      "cell_type": "markdown",
      "metadata": {
        "id": "HBVhFW9FOQ8R"
      },
      "source": [
        "## Analasys"
      ]
    },
    {
      "cell_type": "code",
      "metadata": {
        "id": "z0vKwPNZ1SMp",
        "colab": {
          "base_uri": "https://localhost:8080/",
          "height": 354
        },
        "outputId": "24fa4d05-ef12-4847-af0f-705f63b193fa"
      },
      "source": [
        "##topic by date in graph\n",
        "import matplotlib.pyplot as plt\n",
        "import numpy as np\n",
        "\n",
        "fig = plt.figure(1, figsize=(10,10))\n",
        "ax2 = fig.add_subplot(2,1,2)\n",
        "y_axis = count_retweets_Biden['retweets'].tolist()\n",
        "x_axis = count_retweets_Biden['Date'].tolist()\n",
        "plt.xticks(fontsize = 15)\n",
        "plt.ylabel(\"number of retweets\", fontsize = 24, labelpad = 0)\n",
        "plt.xlabel('Date', fontsize = 24, labelpad = 0)\n",
        "ax2.bar(x_axis, y_axis, align = 'center', color='b', width=0.08)\n",
        "plt.title(\"number of retweets_on_Biden_tweets_per_day\",bbox={'facecolor':'k', 'pad':5},color='w',fontsize = 30)\n",
        "plt.show()"
      ],
      "execution_count": null,
      "outputs": [
        {
          "output_type": "display_data",
          "data": {
            "image/png": "[encoded data removed]",
            "text/plain": [
              "<Figure size 720x720 with 1 Axes>"
            ]
          },
          "metadata": {
            "tags": [],
            "needs_background": "light"
          }
        }
      ]
    },
    {
      "cell_type": "code",
      "metadata": {
        "colab": {
          "base_uri": "https://localhost:8080/",
          "height": 354
        },
        "id": "gj9JKpsbRpfQ",
        "outputId": "ee228d3e-934b-4aaa-a2f2-0a10dec31c2f"
      },
      "source": [
        "##topic by date in graph\n",
        "import matplotlib.pyplot as plt\n",
        "import numpy as np\n",
        "\n",
        "fig = plt.figure(1, figsize=(10,10))\n",
        "ax2 = fig.add_subplot(2,1,2)\n",
        "y_axis = count_retweets_Trump['retweets'].tolist()\n",
        "x_axis = count_retweets_Trump['Date'].tolist()\n",
        "plt.xticks(fontsize = 15)\n",
        "plt.ylabel(\"number of retweets\", fontsize = 24, labelpad = 0)\n",
        "plt.xlabel('Date', fontsize = 24, labelpad = 0)\n",
        "ax2.bar(x_axis, y_axis, align = 'center', color='b', width=0.08)\n",
        "plt.title(\"number of retweets_on_Trump_tweets_per_day\",bbox={'facecolor':'k', 'pad':5},color='w',fontsize = 30)\n",
        "plt.show()"
      ],
      "execution_count": null,
      "outputs": [
        {
          "output_type": "display_data",
          "data": {
            "image/png": "[encoded data removed]",
            "text/plain": [
              "<Figure size 720x720 with 1 Axes>"
            ]
          },
          "metadata": {
            "needs_background": "light"
          }
        }
      ]
    },
    {
      "cell_type": "markdown",
      "metadata": {
        "id": "PCOe15BPCXSj"
      },
      "source": [
        "# **Part 2 - Analasys of politicians popularity - Articles and Twitts**\n",
        "The **New York Time** website and the **BBC** website"
      ]
    },
    {
      "cell_type": "markdown",
      "metadata": {
        "id": "obu0Q1w8mzpm"
      },
      "source": [
        "## **get twitts**"
      ]
    },
    {
      "cell_type": "markdown",
      "metadata": {
        "id": "hgaHVxiDCrah"
      },
      "source": [
        "### twitter data"
      ]
    },
    {
      "cell_type": "code",
      "metadata": {
        "id": "aRl3esClzQOu"
      },
      "source": [
        "consumer_key= 'DrrjziYCG9of91tnOLKANDhab'\n",
        "consumer_secret= 'aOuTMIXru0sT4ESjZqn6NhxN1nE1tVkhx8WtqUyPDOyJk7wD3j'\n",
        "access_token= '1356649018890342400-mOwUTiLxSkj1tEnJNinzZFRKKOZtha'\n",
        "access_token_secret= 'BpMhwD4iMNFFSS3uGJ3Tje5t39LK16iXPdmnqfA9zalm9'"
      ],
      "execution_count": null,
      "outputs": []
    },
    {
      "cell_type": "code",
      "metadata": {
        "id": "I1zELdGTzRAI"
      },
      "source": [
        "auth = tw.OAuthHandler(consumer_key, consumer_secret)\n",
        "auth.set_access_token(access_token, access_token_secret)\n",
        "api = tw.API(auth, wait_on_rate_limit=True,wait_on_rate_limit_notify=True)"
      ],
      "execution_count": null,
      "outputs": []
    },
    {
      "cell_type": "code",
      "metadata": {
        "id": "Gz27XHAzzSdC",
        "colab": {
          "base_uri": "https://localhost:8080/"
        },
        "outputId": "320c2860-201a-4f79-db03-63ea8f7dc527"
      },
      "source": [
        "date_since = \"2021-7-01\"\n",
        "# search_words = \"#@realDonaldTrump\"\n",
        "all_politicions=[]\n",
        "# search_words = \"#@KamalaHarris\"\n",
        "Mitt = \"#@MittRomney\"\n",
        "Donald=\"#@DonaldTrump\"\n",
        "Biden=\"#@JoeBiden\"\n",
        "John=\"#@JohnKerry\"\n",
        "all_politicions.append(Mitt)\n",
        "all_politicions.append(Donald)\n",
        "all_politicions.append(Biden)\n",
        "all_politicions.append(John)\n",
        "all_politicions"
      ],
      "execution_count": null,
      "outputs": [
        {
          "output_type": "execute_result",
          "data": {
            "text/plain": [
              "['#@MittRomney', '#@DonaldTrump', '#@JoeBiden', '#@JohnKerry']"
            ]
          },
          "metadata": {},
          "execution_count": 8
        }
      ]
    },
    {
      "cell_type": "code",
      "metadata": {
        "id": "0cPWXsQM-SPX"
      },
      "source": [
        "import pandas as pd\n",
        "import turicreate.aggregate as agg"
      ],
      "execution_count": null,
      "outputs": []
    },
    {
      "cell_type": "code",
      "metadata": {
        "id": "CLNiCd8t-UpS"
      },
      "source": [
        "num_of_twitts_MittRomney = 2000\n",
        "num_of_twitts_DonaldTrump = 2000\n",
        "num_of_twitts_JoeBiden = 1900\n",
        "num_of_twitts_JohnKerry = 2000"
      ],
      "execution_count": null,
      "outputs": []
    },
    {
      "cell_type": "code",
      "metadata": {
        "id": "yQ7e5fDZzULm"
      },
      "source": [
        "for politician in all_politicions: \n",
        "  try:\n",
        "      if 'MittRomney' in politician:\n",
        "        tweets = tw.Cursor(api.search,\n",
        "                    q=politician,           \n",
        "                    since=date_since).items(num_of_twitts_MittRomney)\n",
        "      if 'DonaldTrump' in politician:\n",
        "        tweets = tw.Cursor(api.search,\n",
        "                    q=politician,           \n",
        "                    since=date_since).items(num_of_twitts_DonaldTrump)\n",
        "      if 'JoeBiden' in politician:\n",
        "        tweets = tw.Cursor(api.search,\n",
        "                    q=politician,           \n",
        "                    since=date_since).items(num_of_twitts_JoeBiden)\n",
        "      if 'JohnKerry' in politician:\n",
        "        tweets = tw.Cursor(api.search,\n",
        "                    q=politician,           \n",
        "                    since=date_since).items(num_of_twitts_JohnKerry)\n",
        "\n",
        "      ##############################################################################      \n",
        "      all_tweets = []\n",
        "      for tweet in tweets:\n",
        "          all_tweets.append(tweet.text) \n",
        "\n",
        "      all_tweets_in_lists=[]   \n",
        "    # users_locs = [[tweet.user.screen_name, tweet.user.location] for tweet in tweets]\n",
        "      for term in all_tweets:\n",
        "        term=[politician, term]\n",
        "        all_tweets_in_lists.append(term)   \n",
        "      \n",
        "      if politician is Mitt: \n",
        "        tweets_text = pd.DataFrame(data=all_tweets_in_lists, \n",
        "                          columns=['politician', \"comment_for_tweet\"])                    \n",
        "      else:\n",
        "        # print(True)\n",
        "        tweets = pd.DataFrame(data=all_tweets_in_lists, \n",
        "                          columns=['politician', \"comment_for_tweet\"])  \n",
        "        tweets_text=tweets_text.append(tweets)\n",
        "  except tw.TweepError:\n",
        "        time.sleep(60 * 15)\n",
        "        tweets = tw.Cursor(api.search,\n",
        "                    q=politician,           \n",
        "                    since=date_since).items(20)\n",
        "        all_tweets = []\n",
        "        for tweet in tweets:\n",
        "            all_tweets.append(tweet.text) \n",
        "        if politician is Mike: \n",
        "          tweets_text = pd.DataFrame(data=all_tweets_in_lists, \n",
        "                          columns=['politician', \"comment_for_tweet\"])                    \n",
        "        else:\n",
        "        # print(True)\n",
        "          \n",
        "          tweets = pd.DataFrame(data=all_tweets_in_lists, \n",
        "                          columns=['politician', \"comment_for_tweet\"])  \n",
        "          tweets_text=tweets_text.append(tweets)\n",
        "        continue\n",
        "  except StopIteration:\n",
        "        break        \n"
      ],
      "execution_count": null,
      "outputs": []
    },
    {
      "cell_type": "code",
      "metadata": {
        "colab": {
          "base_uri": "https://localhost:8080/",
          "height": 419
        },
        "id": "Lxn1rg-uySwl",
        "outputId": "eab27fe4-335a-4860-ff16-5cb368976fb5"
      },
      "source": [
        "tweets_text"
      ],
      "execution_count": null,
      "outputs": [
        {
          "output_type": "execute_result",
          "data": {
            "text/html": [
              "<div>\n",
              "<style scoped>\n",
              "    .dataframe tbody tr th:only-of-type {\n",
              "        vertical-align: middle;\n",
              "    }\n",
              "\n",
              "    .dataframe tbody tr th {\n",
              "        vertical-align: top;\n",
              "    }\n",
              "\n",
              "    .dataframe thead th {\n",
              "        text-align: right;\n",
              "    }\n",
              "</style>\n",
              "<table border=\"1\" class=\"dataframe\">\n",
              "  <thead>\n",
              "    <tr style=\"text-align: right;\">\n",
              "      <th></th>\n",
              "      <th>politician</th>\n",
              "      <th>comment_for_tweet</th>\n",
              "    </tr>\n",
              "  </thead>\n",
              "  <tbody>\n",
              "    <tr>\n",
              "      <th>0</th>\n",
              "      <td>#@MittRomney</td>\n",
              "      <td>RT @MittRomney: They represented the very best...</td>\n",
              "    </tr>\n",
              "    <tr>\n",
              "      <th>1</th>\n",
              "      <td>#@MittRomney</td>\n",
              "      <td>RT @MittRomney: They represented the very best...</td>\n",
              "    </tr>\n",
              "    <tr>\n",
              "      <th>2</th>\n",
              "      <td>#@MittRomney</td>\n",
              "      <td>RT @mary92226897: @MittRomney @JRubinBlogger h...</td>\n",
              "    </tr>\n",
              "    <tr>\n",
              "      <th>3</th>\n",
              "      <td>#@MittRomney</td>\n",
              "      <td>RT @MittRomney: They represented the very best...</td>\n",
              "    </tr>\n",
              "    <tr>\n",
              "      <th>4</th>\n",
              "      <td>#@MittRomney</td>\n",
              "      <td>RT @MittRomney: They represented the very best...</td>\n",
              "    </tr>\n",
              "    <tr>\n",
              "      <th>...</th>\n",
              "      <td>...</td>\n",
              "      <td>...</td>\n",
              "    </tr>\n",
              "    <tr>\n",
              "      <th>1995</th>\n",
              "      <td>#@JohnKerry</td>\n",
              "      <td>RT @PaulEDawson: Failing to address climate ch...</td>\n",
              "    </tr>\n",
              "    <tr>\n",
              "      <th>1996</th>\n",
              "      <td>#@JohnKerry</td>\n",
              "      <td>RT @PaulEDawson: Failing to address climate ch...</td>\n",
              "    </tr>\n",
              "    <tr>\n",
              "      <th>1997</th>\n",
              "      <td>#@JohnKerry</td>\n",
              "      <td>@JohnKerry we need a renewable energy and carb...</td>\n",
              "    </tr>\n",
              "    <tr>\n",
              "      <th>1998</th>\n",
              "      <td>#@JohnKerry</td>\n",
              "      <td>@OlafScholz @ArminLaschet @ABaerbock \\n@EskenS...</td>\n",
              "    </tr>\n",
              "    <tr>\n",
              "      <th>1999</th>\n",
              "      <td>#@JohnKerry</td>\n",
              "      <td>Greenhouse #emissions must peak by 2025: \\nLea...</td>\n",
              "    </tr>\n",
              "  </tbody>\n",
              "</table>\n",
              "<p>6923 rows × 2 columns</p>\n",
              "</div>"
            ],
            "text/plain": [
              "        politician                                  comment_for_tweet\n",
              "0     #@MittRomney  RT @MittRomney: They represented the very best...\n",
              "1     #@MittRomney  RT @MittRomney: They represented the very best...\n",
              "2     #@MittRomney  RT @mary92226897: @MittRomney @JRubinBlogger h...\n",
              "3     #@MittRomney  RT @MittRomney: They represented the very best...\n",
              "4     #@MittRomney  RT @MittRomney: They represented the very best...\n",
              "...            ...                                                ...\n",
              "1995   #@JohnKerry  RT @PaulEDawson: Failing to address climate ch...\n",
              "1996   #@JohnKerry  RT @PaulEDawson: Failing to address climate ch...\n",
              "1997   #@JohnKerry  @JohnKerry we need a renewable energy and carb...\n",
              "1998   #@JohnKerry  @OlafScholz @ArminLaschet @ABaerbock \\n@EskenS...\n",
              "1999   #@JohnKerry  Greenhouse #emissions must peak by 2025: \\nLea...\n",
              "\n",
              "[6923 rows x 2 columns]"
            ]
          },
          "metadata": {},
          "execution_count": 370
        }
      ]
    },
    {
      "cell_type": "code",
      "metadata": {
        "colab": {
          "base_uri": "https://localhost:8080/"
        },
        "id": "plaNObHKlYTc",
        "outputId": "ec72d3e3-2e5d-491f-ae72-2d0a57adfbe5"
      },
      "source": [
        "for politician in all_politicions: \n",
        "  try:\n",
        "      if 'MittRomney' in politician:\n",
        "        tweets = tw.Cursor(api.search,\n",
        "                    q=politician,           \n",
        "                    since=date_since).items(1)\n",
        "      if 'DonaldTrump' in politician:\n",
        "        tweets = tw.Cursor(api.search,\n",
        "                    q=politician,           \n",
        "                    since=date_since).items(1000) #1000\n",
        "      if 'JoeBiden' in politician:\n",
        "        tweets = tw.Cursor(api.search,\n",
        "                    q=politician,           \n",
        "                    since=date_since).items(1)\n",
        "      if 'JohnKerry' in politician:\n",
        "        tweets = tw.Cursor(api.search,\n",
        "                    q=politician,           \n",
        "                    since=date_since).items(500) #500\n",
        "\n",
        "      ##############################################################################      \n",
        "      all_tweets = []\n",
        "      for tweet in tweets:\n",
        "          all_tweets.append(tweet.text) \n",
        "\n",
        "      all_tweets_in_lists=[]   \n",
        "    # users_locs = [[tweet.user.screen_name, tweet.user.location] for tweet in tweets]\n",
        "      for term in all_tweets:\n",
        "        term=[politician, term]\n",
        "        all_tweets_in_lists.append(term)   \n",
        "      \n",
        "      if politician is Mitt: \n",
        "        tweets_text_sml = pd.DataFrame(data=all_tweets_in_lists, \n",
        "                          columns=['politician', \"comment_for_tweet\"])                    \n",
        "      else:\n",
        "        # print(True)\n",
        "        tweets = pd.DataFrame(data=all_tweets_in_lists, \n",
        "                          columns=['politician', \"comment_for_tweet\"])  \n",
        "        tweets_text_sml = tweets_text_sml.append(tweets)\n",
        "  except tw.TweepError:\n",
        "        time.sleep(60 * 15)\n",
        "        tweets = tw.Cursor(api.search,\n",
        "                    q=politician,           \n",
        "                    since=date_since).items(20)\n",
        "        all_tweets = []\n",
        "        for tweet in tweets:\n",
        "            all_tweets.append(tweet.text) \n",
        "        if politician is Mike: \n",
        "          tweets_text_sml = pd.DataFrame(data=all_tweets_in_lists, \n",
        "                          columns=['politician', \"comment_for_tweet\"])                    \n",
        "        else:\n",
        "        # print(True)\n",
        "          \n",
        "          tweets = pd.DataFrame(data=all_tweets_in_lists, \n",
        "                          columns=['politician', \"comment_for_tweet\"])  \n",
        "          tweets_text_sml = tweets_text_sml.append(tweets)\n",
        "        continue\n",
        "  except StopIteration:\n",
        "        break        \n"
      ],
      "execution_count": null,
      "outputs": [
        {
          "output_type": "stream",
          "text": [
            "Rate limit reached. Sleeping for: 770\n"
          ],
          "name": "stderr"
        }
      ]
    },
    {
      "cell_type": "code",
      "metadata": {
        "colab": {
          "base_uri": "https://localhost:8080/",
          "height": 419
        },
        "id": "sbGVguQ9l518",
        "outputId": "99113fa9-3029-42ba-a99d-75758c8d9dba"
      },
      "source": [
        "tweets_text_sml   \n"
      ],
      "execution_count": null,
      "outputs": [
        {
          "output_type": "execute_result",
          "data": {
            "text/html": [
              "<div>\n",
              "<style scoped>\n",
              "    .dataframe tbody tr th:only-of-type {\n",
              "        vertical-align: middle;\n",
              "    }\n",
              "\n",
              "    .dataframe tbody tr th {\n",
              "        vertical-align: top;\n",
              "    }\n",
              "\n",
              "    .dataframe thead th {\n",
              "        text-align: right;\n",
              "    }\n",
              "</style>\n",
              "<table border=\"1\" class=\"dataframe\">\n",
              "  <thead>\n",
              "    <tr style=\"text-align: right;\">\n",
              "      <th></th>\n",
              "      <th>politician</th>\n",
              "      <th>comment_for_tweet</th>\n",
              "    </tr>\n",
              "  </thead>\n",
              "  <tbody>\n",
              "    <tr>\n",
              "      <th>0</th>\n",
              "      <td>#@MittRomney</td>\n",
              "      <td>RT @MittRomney: They represented the very best...</td>\n",
              "    </tr>\n",
              "    <tr>\n",
              "      <th>0</th>\n",
              "      <td>#@DonaldTrump</td>\n",
              "      <td>@DonaldTrump fuck me I am famous</td>\n",
              "    </tr>\n",
              "    <tr>\n",
              "      <th>1</th>\n",
              "      <td>#@DonaldTrump</td>\n",
              "      <td>@FoxNews @donaldtrump https://t.co/22WpDy6An4</td>\n",
              "    </tr>\n",
              "    <tr>\n",
              "      <th>2</th>\n",
              "      <td>#@DonaldTrump</td>\n",
              "      <td>Sabrán Uds. que esto con @DonaldTrump no estar...</td>\n",
              "    </tr>\n",
              "    <tr>\n",
              "      <th>3</th>\n",
              "      <td>#@DonaldTrump</td>\n",
              "      <td>RT @rahulpandit1881: अमेरिका को याद आये @Donal...</td>\n",
              "    </tr>\n",
              "    <tr>\n",
              "      <th>...</th>\n",
              "      <td>...</td>\n",
              "      <td>...</td>\n",
              "    </tr>\n",
              "    <tr>\n",
              "      <th>495</th>\n",
              "      <td>#@JohnKerry</td>\n",
              "      <td>RT @byadavbjp: Had a telephonic conversation w...</td>\n",
              "    </tr>\n",
              "    <tr>\n",
              "      <th>496</th>\n",
              "      <td>#@JohnKerry</td>\n",
              "      <td>👋 @POTUS @JohnKerry the US can help poorer nat...</td>\n",
              "    </tr>\n",
              "    <tr>\n",
              "      <th>497</th>\n",
              "      <td>#@JohnKerry</td>\n",
              "      <td>👋 @POTUS @JohnKerry @Gina_McCarthy I want you ...</td>\n",
              "    </tr>\n",
              "    <tr>\n",
              "      <th>498</th>\n",
              "      <td>#@JohnKerry</td>\n",
              "      <td>RT @moefcc: HMEFCC Shri @byadavbjp had a telep...</td>\n",
              "    </tr>\n",
              "    <tr>\n",
              "      <th>499</th>\n",
              "      <td>#@JohnKerry</td>\n",
              "      <td>👏 👏 @vonderleyen @JohnKerry will you tackle cl...</td>\n",
              "    </tr>\n",
              "  </tbody>\n",
              "</table>\n",
              "<p>1439 rows × 2 columns</p>\n",
              "</div>"
            ],
            "text/plain": [
              "        politician                                  comment_for_tweet\n",
              "0     #@MittRomney  RT @MittRomney: They represented the very best...\n",
              "0    #@DonaldTrump                   @DonaldTrump fuck me I am famous\n",
              "1    #@DonaldTrump      @FoxNews @donaldtrump https://t.co/22WpDy6An4\n",
              "2    #@DonaldTrump  Sabrán Uds. que esto con @DonaldTrump no estar...\n",
              "3    #@DonaldTrump  RT @rahulpandit1881: अमेरिका को याद आये @Donal...\n",
              "..             ...                                                ...\n",
              "495    #@JohnKerry  RT @byadavbjp: Had a telephonic conversation w...\n",
              "496    #@JohnKerry  👋 @POTUS @JohnKerry the US can help poorer nat...\n",
              "497    #@JohnKerry  👋 @POTUS @JohnKerry @Gina_McCarthy I want you ...\n",
              "498    #@JohnKerry  RT @moefcc: HMEFCC Shri @byadavbjp had a telep...\n",
              "499    #@JohnKerry  👏 👏 @vonderleyen @JohnKerry will you tackle cl...\n",
              "\n",
              "[1439 rows x 2 columns]"
            ]
          },
          "metadata": {},
          "execution_count": 357
        }
      ]
    },
    {
      "cell_type": "code",
      "metadata": {
        "id": "UYjSLEWel4EK"
      },
      "source": [
        "tweets_text_all = pd.concat( [tweets_text_sml, tweets_text] )"
      ],
      "execution_count": null,
      "outputs": []
    },
    {
      "cell_type": "code",
      "metadata": {
        "id": "GGIgmyURSxES"
      },
      "source": [
        "tweets_text_all[\"politician\"].replace({\"#@MittRomney\": \"Mitt-Romney\", \"#@DonaldTrump\": \"Donald-Trump\",\"#@JoeBiden\": \"Joe-Biden\", \"#@JohnKerry\": \"John-Kerry\"}, inplace=True)\n",
        "tweets_text_all"
      ],
      "execution_count": null,
      "outputs": []
    },
    {
      "cell_type": "code",
      "metadata": {
        "id": "u8Do_suezhjl"
      },
      "source": [
        "clean_tweet_text = tweets_text_all"
      ],
      "execution_count": null,
      "outputs": []
    },
    {
      "cell_type": "code",
      "metadata": {
        "colab": {
          "base_uri": "https://localhost:8080/",
          "height": 419
        },
        "id": "-2NhxzeCoc6o",
        "outputId": "c74e9356-ee72-4670-905c-c660af22f378"
      },
      "source": [
        "clean_tweet_text"
      ],
      "execution_count": null,
      "outputs": [
        {
          "output_type": "execute_result",
          "data": {
            "text/html": [
              "<div>\n",
              "<style scoped>\n",
              "    .dataframe tbody tr th:only-of-type {\n",
              "        vertical-align: middle;\n",
              "    }\n",
              "\n",
              "    .dataframe tbody tr th {\n",
              "        vertical-align: top;\n",
              "    }\n",
              "\n",
              "    .dataframe thead th {\n",
              "        text-align: right;\n",
              "    }\n",
              "</style>\n",
              "<table border=\"1\" class=\"dataframe\">\n",
              "  <thead>\n",
              "    <tr style=\"text-align: right;\">\n",
              "      <th></th>\n",
              "      <th>politician</th>\n",
              "      <th>comment_for_tweet</th>\n",
              "      <th>clean_comment</th>\n",
              "    </tr>\n",
              "  </thead>\n",
              "  <tbody>\n",
              "    <tr>\n",
              "      <th>0</th>\n",
              "      <td>Mitt-Romney</td>\n",
              "      <td>RT @MittRomney: They represented the very best...</td>\n",
              "      <td>rt mittromney represented best finest america...</td>\n",
              "    </tr>\n",
              "    <tr>\n",
              "      <th>0</th>\n",
              "      <td>Donald-Trump</td>\n",
              "      <td>@DonaldTrump fuck me I am famous</td>\n",
              "      <td>donaldtrump fuck famous</td>\n",
              "    </tr>\n",
              "    <tr>\n",
              "      <th>1</th>\n",
              "      <td>Donald-Trump</td>\n",
              "      <td>@FoxNews @donaldtrump https://t.co/22WpDy6An4</td>\n",
              "      <td>foxnews donaldtrump https co 22wpdy6an4</td>\n",
              "    </tr>\n",
              "    <tr>\n",
              "      <th>2</th>\n",
              "      <td>Donald-Trump</td>\n",
              "      <td>Sabrán Uds. que esto con @DonaldTrump no estar...</td>\n",
              "      <td>sabrn uds que esto con donaldtrump estara pas...</td>\n",
              "    </tr>\n",
              "    <tr>\n",
              "      <th>3</th>\n",
              "      <td>Donald-Trump</td>\n",
              "      <td>RT @rahulpandit1881: अमेरिका को याद आये @Donal...</td>\n",
              "      <td>rt rahulpandit1881 donaldtrump potus ivankatr...</td>\n",
              "    </tr>\n",
              "    <tr>\n",
              "      <th>...</th>\n",
              "      <td>...</td>\n",
              "      <td>...</td>\n",
              "      <td>...</td>\n",
              "    </tr>\n",
              "    <tr>\n",
              "      <th>1995</th>\n",
              "      <td>John-Kerry</td>\n",
              "      <td>RT @PaulEDawson: Failing to address climate ch...</td>\n",
              "      <td>rt pauledawson failing address climate change...</td>\n",
              "    </tr>\n",
              "    <tr>\n",
              "      <th>1996</th>\n",
              "      <td>John-Kerry</td>\n",
              "      <td>RT @PaulEDawson: Failing to address climate ch...</td>\n",
              "      <td>rt pauledawson failing address climate change...</td>\n",
              "    </tr>\n",
              "    <tr>\n",
              "      <th>1997</th>\n",
              "      <td>John-Kerry</td>\n",
              "      <td>@JohnKerry we need a renewable energy and carb...</td>\n",
              "      <td>johnkerry need renewable energy carbon captur...</td>\n",
              "    </tr>\n",
              "    <tr>\n",
              "      <th>1998</th>\n",
              "      <td>John-Kerry</td>\n",
              "      <td>@OlafScholz @ArminLaschet @ABaerbock \\n@EskenS...</td>\n",
              "      <td>olafscholz arminlaschet abaerbock eskensaskia...</td>\n",
              "    </tr>\n",
              "    <tr>\n",
              "      <th>1999</th>\n",
              "      <td>John-Kerry</td>\n",
              "      <td>Greenhouse #emissions must peak by 2025: \\nLea...</td>\n",
              "      <td>greenhouse emissions must peak 2025 leaked re...</td>\n",
              "    </tr>\n",
              "  </tbody>\n",
              "</table>\n",
              "<p>8362 rows × 3 columns</p>\n",
              "</div>"
            ],
            "text/plain": [
              "        politician  ...                                      clean_comment\n",
              "0      Mitt-Romney  ...   rt mittromney represented best finest america...\n",
              "0     Donald-Trump  ...                            donaldtrump fuck famous\n",
              "1     Donald-Trump  ...            foxnews donaldtrump https co 22wpdy6an4\n",
              "2     Donald-Trump  ...   sabrn uds que esto con donaldtrump estara pas...\n",
              "3     Donald-Trump  ...   rt rahulpandit1881 donaldtrump potus ivankatr...\n",
              "...            ...  ...                                                ...\n",
              "1995    John-Kerry  ...   rt pauledawson failing address climate change...\n",
              "1996    John-Kerry  ...   rt pauledawson failing address climate change...\n",
              "1997    John-Kerry  ...   johnkerry need renewable energy carbon captur...\n",
              "1998    John-Kerry  ...   olafscholz arminlaschet abaerbock eskensaskia...\n",
              "1999    John-Kerry  ...   greenhouse emissions must peak 2025 leaked re...\n",
              "\n",
              "[8362 rows x 3 columns]"
            ]
          },
          "metadata": {},
          "execution_count": 369
        }
      ]
    },
    {
      "cell_type": "code",
      "metadata": {
        "id": "-uOAjj_10M66"
      },
      "source": [
        "nlp = spacy.load('en_core_web_lg')"
      ],
      "execution_count": null,
      "outputs": []
    },
    {
      "cell_type": "code",
      "metadata": {
        "id": "-nRqCE3H0SW6"
      },
      "source": [
        "from collections import Counter\n",
        "import re\n",
        "import nltk\n",
        "import turicreate as tc\n",
        "from nltk.tokenize import word_tokenize\n",
        "nltk.download('punkt')\n",
        "nltk.download('stopwords')\n",
        "from nltk.corpus import stopwords\n",
        "import re\n",
        "\n",
        "\n",
        "\n",
        "\n",
        "def deEmojify(inputString):\n",
        "    return inputString.encode('ascii', 'ignore').decode('ascii')\n",
        "\n",
        "\n",
        "\n",
        "def clean_posts(s):\n",
        "  entities=[]\n",
        "  doc = nlp(s)\n",
        "  for entity in doc.ents:\n",
        "      \n",
        "    entities.append(str(entity))\n",
        "  \n",
        "  sentence=\"\"\n",
        "  for word in s:\n",
        "    if word not in entities:\n",
        "      sentence=sentence+word\n",
        "  all_words=\"\"\n",
        "  sentence=sentence.lower()\n",
        "  sentence = deEmojify(sentence)\n",
        "  words_list = word_tokenize(sentence)\n",
        "  re_words = re.compile(r\"(\\w+)\")\n",
        "  \n",
        "  l = re_words.findall(sentence)\n",
        "  \n",
        "  stop_words_set = set(stopwords.words(\"english\"))\n",
        "  words_list = [w for w in l if w not in stop_words_set]\n",
        "  for word in words_list:\n",
        "    all_words=all_words+' '+word\n",
        "  return all_words\n",
        "\n",
        "clean_tweet_text['clean_comment']=tweets_text_all['comment_for_tweet'].apply(lambda s: clean_posts(s))  \n"
      ],
      "execution_count": null,
      "outputs": []
    },
    {
      "cell_type": "code",
      "metadata": {
        "id": "gjAGto-HvAmo"
      },
      "source": [],
      "execution_count": null,
      "outputs": []
    },
    {
      "cell_type": "code",
      "metadata": {
        "id": "4Xx-VuQC0WDT"
      },
      "source": [
        "sf_weet_text=tc.SFrame(clean_tweet_text)"
      ],
      "execution_count": null,
      "outputs": []
    },
    {
      "cell_type": "code",
      "metadata": {
        "colab": {
          "base_uri": "https://localhost:8080/",
          "height": 449
        },
        "id": "5oCR8BfbBjxl",
        "outputId": "9445dc2c-84d1-4e85-c05c-87da61cf4d0f"
      },
      "source": [
        "sf_weet_text"
      ],
      "execution_count": null,
      "outputs": [
        {
          "output_type": "execute_result",
          "data": {
            "text/html": [
              "<div style=\"max-height:1000px;max-width:1500px;overflow:auto;\"><table frame=\"box\" rules=\"cols\">\n",
              "    <tr>\n",
              "        <th style=\"padding-left: 1em; padding-right: 1em; text-align: center\">politician</th>\n",
              "        <th style=\"padding-left: 1em; padding-right: 1em; text-align: center\">comment_for_tweet</th>\n",
              "        <th style=\"padding-left: 1em; padding-right: 1em; text-align: center\">clean_comment</th>\n",
              "        <th style=\"padding-left: 1em; padding-right: 1em; text-align: center\">content_afinn_score</th>\n",
              "    </tr>\n",
              "    <tr>\n",
              "        <td style=\"padding-left: 1em; padding-right: 1em; text-align: center; vertical-align: top\">Mitt-Romney</td>\n",
              "        <td style=\"padding-left: 1em; padding-right: 1em; text-align: center; vertical-align: top\">RT @MittRomney: They<br>represented the very  ...</td>\n",
              "        <td style=\"padding-left: 1em; padding-right: 1em; text-align: center; vertical-align: top\"> rt mittromney<br>represented best finest ...</td>\n",
              "        <td style=\"padding-left: 1em; padding-right: 1em; text-align: center; vertical-align: top\">4.0</td>\n",
              "    </tr>\n",
              "    <tr>\n",
              "        <td style=\"padding-left: 1em; padding-right: 1em; text-align: center; vertical-align: top\">Donald-Trump</td>\n",
              "        <td style=\"padding-left: 1em; padding-right: 1em; text-align: center; vertical-align: top\">@DonaldTrump fuck me I am<br>famous ...</td>\n",
              "        <td style=\"padding-left: 1em; padding-right: 1em; text-align: center; vertical-align: top\"> donaldtrump fuck famous</td>\n",
              "        <td style=\"padding-left: 1em; padding-right: 1em; text-align: center; vertical-align: top\">-2.0</td>\n",
              "    </tr>\n",
              "    <tr>\n",
              "        <td style=\"padding-left: 1em; padding-right: 1em; text-align: center; vertical-align: top\">Donald-Trump</td>\n",
              "        <td style=\"padding-left: 1em; padding-right: 1em; text-align: center; vertical-align: top\">@FoxNews @donaldtrump<br>https://t.co/22WpDy6An4 ...</td>\n",
              "        <td style=\"padding-left: 1em; padding-right: 1em; text-align: center; vertical-align: top\"> foxnews donaldtrump<br>https co 22wpdy6an4 ...</td>\n",
              "        <td style=\"padding-left: 1em; padding-right: 1em; text-align: center; vertical-align: top\">0.0</td>\n",
              "    </tr>\n",
              "    <tr>\n",
              "        <td style=\"padding-left: 1em; padding-right: 1em; text-align: center; vertical-align: top\">Donald-Trump</td>\n",
              "        <td style=\"padding-left: 1em; padding-right: 1em; text-align: center; vertical-align: top\">Sabrán Uds. que esto con<br>@DonaldTrump no estaría ...</td>\n",
              "        <td style=\"padding-left: 1em; padding-right: 1em; text-align: center; vertical-align: top\"> sabrn uds que esto con<br>donaldtrump estara ...</td>\n",
              "        <td style=\"padding-left: 1em; padding-right: 1em; text-align: center; vertical-align: top\">0.0</td>\n",
              "    </tr>\n",
              "    <tr>\n",
              "        <td style=\"padding-left: 1em; padding-right: 1em; text-align: center; vertical-align: top\">Donald-Trump</td>\n",
              "        <td style=\"padding-left: 1em; padding-right: 1em; text-align: center; vertical-align: top\">RT @rahulpandit1881:<br>अमेरिका को याद आये ...</td>\n",
              "        <td style=\"padding-left: 1em; padding-right: 1em; text-align: center; vertical-align: top\"> rt rahulpandit1881<br>donaldtrump potus ...</td>\n",
              "        <td style=\"padding-left: 1em; padding-right: 1em; text-align: center; vertical-align: top\">0.0</td>\n",
              "    </tr>\n",
              "    <tr>\n",
              "        <td style=\"padding-left: 1em; padding-right: 1em; text-align: center; vertical-align: top\">Donald-Trump</td>\n",
              "        <td style=\"padding-left: 1em; padding-right: 1em; text-align: center; vertical-align: top\">RT @codeysharp: Every<br>single #AfghanDeath can ...</td>\n",
              "        <td style=\"padding-left: 1em; padding-right: 1em; text-align: center; vertical-align: top\"> rt codeysharp every<br>single afghandeath bl ...</td>\n",
              "        <td style=\"padding-left: 1em; padding-right: 1em; text-align: center; vertical-align: top\">-2.0</td>\n",
              "    </tr>\n",
              "    <tr>\n",
              "        <td style=\"padding-left: 1em; padding-right: 1em; text-align: center; vertical-align: top\">Donald-Trump</td>\n",
              "        <td style=\"padding-left: 1em; padding-right: 1em; text-align: center; vertical-align: top\">@Gabizin93097753<br>@RevistaCrusoe @JoeBiden ...</td>\n",
              "        <td style=\"padding-left: 1em; padding-right: 1em; text-align: center; vertical-align: top\"> gabizin93097753<br>revistacrusoe joebiden ...</td>\n",
              "        <td style=\"padding-left: 1em; padding-right: 1em; text-align: center; vertical-align: top\">0.0</td>\n",
              "    </tr>\n",
              "    <tr>\n",
              "        <td style=\"padding-left: 1em; padding-right: 1em; text-align: center; vertical-align: top\">Donald-Trump</td>\n",
              "        <td style=\"padding-left: 1em; padding-right: 1em; text-align: center; vertical-align: top\">@DonaldTrump sorry to say<br>but the day american ...</td>\n",
              "        <td style=\"padding-left: 1em; padding-right: 1em; text-align: center; vertical-align: top\"> donaldtrump sorry say<br>day american people ...</td>\n",
              "        <td style=\"padding-left: 1em; padding-right: 1em; text-align: center; vertical-align: top\">-2.0</td>\n",
              "    </tr>\n",
              "    <tr>\n",
              "        <td style=\"padding-left: 1em; padding-right: 1em; text-align: center; vertical-align: top\">Donald-Trump</td>\n",
              "        <td style=\"padding-left: 1em; padding-right: 1em; text-align: center; vertical-align: top\">RT @ASAF90916341: עוד<br>מישהו מתגעגע עליהם ...</td>\n",
              "        <td style=\"padding-left: 1em; padding-right: 1em; text-align: center; vertical-align: top\"> rt asaf90916341 someone<br>else misses today ...</td>\n",
              "        <td style=\"padding-left: 1em; padding-right: 1em; text-align: center; vertical-align: top\">1.0</td>\n",
              "    </tr>\n",
              "    <tr>\n",
              "        <td style=\"padding-left: 1em; padding-right: 1em; text-align: center; vertical-align: top\">Donald-Trump</td>\n",
              "        <td style=\"padding-left: 1em; padding-right: 1em; text-align: center; vertical-align: top\">el-salvador &amp;amp; amerika<br>halkı \\n@DonaldTrump\\ ...</td>\n",
              "        <td style=\"padding-left: 1em; padding-right: 1em; text-align: center; vertical-align: top\"> el salvador amp amerika<br>halk donaldtrump ...</td>\n",
              "        <td style=\"padding-left: 1em; padding-right: 1em; text-align: center; vertical-align: top\">0.0</td>\n",
              "    </tr>\n",
              "</table>\n",
              "[8362 rows x 4 columns]<br/>Note: Only the head of the SFrame is printed.<br/>You can use print_rows(num_rows=m, num_columns=n) to print more rows and columns.\n",
              "</div>"
            ],
            "text/plain": [
              "Columns:\n",
              "\tpolitician\tstr\n",
              "\tcomment_for_tweet\tstr\n",
              "\tclean_comment\tstr\n",
              "\tcontent_afinn_score\tfloat\n",
              "\n",
              "Rows: 8362\n",
              "\n",
              "Data:\n",
              "+--------------+-------------------------------+-------------------------------+\n",
              "|  politician  |       comment_for_tweet       |         clean_comment         |\n",
              "+--------------+-------------------------------+-------------------------------+\n",
              "| Mitt-Romney  | RT @MittRomney: They repre... |  rt mittromney represented... |\n",
              "| Donald-Trump | @DonaldTrump fuck me I am ... |     donaldtrump fuck famous   |\n",
              "| Donald-Trump | @FoxNews @donaldtrump http... |  foxnews donaldtrump https... |\n",
              "| Donald-Trump | Sabrán Uds. que esto con @... |  sabrn uds que esto con do... |\n",
              "| Donald-Trump | RT @rahulpandit1881: अमेरि... |  rt rahulpandit1881 donald... |\n",
              "| Donald-Trump | RT @codeysharp: Every sing... |  rt codeysharp every singl... |\n",
              "| Donald-Trump | @Gabizin93097753 @RevistaC... |  gabizin93097753 revistacr... |\n",
              "| Donald-Trump | @DonaldTrump sorry to say ... |  donaldtrump sorry say day... |\n",
              "| Donald-Trump | RT @ASAF90916341: עוד מישה... |  rt asaf90916341 someone e... |\n",
              "| Donald-Trump | el-salvador &amp; amerika ... |  el salvador amp amerika h... |\n",
              "+--------------+-------------------------------+-------------------------------+\n",
              "+---------------------+\n",
              "| content_afinn_score |\n",
              "+---------------------+\n",
              "|         4.0         |\n",
              "|         -2.0        |\n",
              "|         0.0         |\n",
              "|         0.0         |\n",
              "|         0.0         |\n",
              "|         -2.0        |\n",
              "|         0.0         |\n",
              "|         -2.0        |\n",
              "|         1.0         |\n",
              "|         0.0         |\n",
              "+---------------------+\n",
              "[8362 rows x 4 columns]\n",
              "Note: Only the head of the SFrame is printed.\n",
              "You can use print_rows(num_rows=m, num_columns=n) to print more rows and columns."
            ]
          },
          "metadata": {},
          "execution_count": 595
        }
      ]
    },
    {
      "cell_type": "code",
      "metadata": {
        "id": "G5VKZc4SBjzQ"
      },
      "source": [
        "sf_weet_text_new = sf_weet_text\n",
        "sf_weet_text_new['content']=sf_weet_text_new['clean_comment'].apply(lambda s: clean_posts(s)) \n",
        "sf_twitts_new_text=tc.SFrame(sf_weet_text_new)"
      ],
      "execution_count": null,
      "outputs": []
    },
    {
      "cell_type": "code",
      "metadata": {
        "id": "fjUXfLK00YM1"
      },
      "source": [
        "comments_on_politicians = sf_weet_text.groupby(\"politician\",{\"all_comments\":agg.CONCAT(\"clean_comment\")})\n",
        "comments_on_politicians_df=comments_on_politicians.to_dataframe()"
      ],
      "execution_count": null,
      "outputs": []
    },
    {
      "cell_type": "code",
      "metadata": {
        "id": "Xsb7WrV7nS2-"
      },
      "source": [
        "comments_on_politicians_df"
      ],
      "execution_count": null,
      "outputs": []
    },
    {
      "cell_type": "markdown",
      "metadata": {
        "id": "tueVI-hsC0sd"
      },
      "source": [
        "### afinn twitter data"
      ]
    },
    {
      "cell_type": "code",
      "metadata": {
        "id": "OD5xvBUcDcY3"
      },
      "source": [
        "twitts_data_sf = sf_weet_text"
      ],
      "execution_count": null,
      "outputs": []
    },
    {
      "cell_type": "code",
      "metadata": {
        "colab": {
          "base_uri": "https://localhost:8080/",
          "height": 449
        },
        "id": "VoAW6P3_EsKn",
        "outputId": "1e0df091-5e23-4891-e5b6-899f7edcafe7"
      },
      "source": [
        "twitts_data_sf"
      ],
      "execution_count": null,
      "outputs": [
        {
          "output_type": "execute_result",
          "data": {
            "text/html": [
              "<div style=\"max-height:1000px;max-width:1500px;overflow:auto;\"><table frame=\"box\" rules=\"cols\">\n",
              "    <tr>\n",
              "        <th style=\"padding-left: 1em; padding-right: 1em; text-align: center\">politician</th>\n",
              "        <th style=\"padding-left: 1em; padding-right: 1em; text-align: center\">comment_for_tweet</th>\n",
              "        <th style=\"padding-left: 1em; padding-right: 1em; text-align: center\">clean_comment</th>\n",
              "    </tr>\n",
              "    <tr>\n",
              "        <td style=\"padding-left: 1em; padding-right: 1em; text-align: center; vertical-align: top\">Mitt-Romney</td>\n",
              "        <td style=\"padding-left: 1em; padding-right: 1em; text-align: center; vertical-align: top\">RT @MittRomney: They<br>represented the very  ...</td>\n",
              "        <td style=\"padding-left: 1em; padding-right: 1em; text-align: center; vertical-align: top\"> rt mittromney<br>represented best finest ...</td>\n",
              "    </tr>\n",
              "    <tr>\n",
              "        <td style=\"padding-left: 1em; padding-right: 1em; text-align: center; vertical-align: top\">Donald-Trump</td>\n",
              "        <td style=\"padding-left: 1em; padding-right: 1em; text-align: center; vertical-align: top\">@DonaldTrump fuck me I am<br>famous ...</td>\n",
              "        <td style=\"padding-left: 1em; padding-right: 1em; text-align: center; vertical-align: top\"> donaldtrump fuck famous</td>\n",
              "    </tr>\n",
              "    <tr>\n",
              "        <td style=\"padding-left: 1em; padding-right: 1em; text-align: center; vertical-align: top\">Donald-Trump</td>\n",
              "        <td style=\"padding-left: 1em; padding-right: 1em; text-align: center; vertical-align: top\">@FoxNews @donaldtrump<br>https://t.co/22WpDy6An4 ...</td>\n",
              "        <td style=\"padding-left: 1em; padding-right: 1em; text-align: center; vertical-align: top\"> foxnews donaldtrump<br>https co 22wpdy6an4 ...</td>\n",
              "    </tr>\n",
              "    <tr>\n",
              "        <td style=\"padding-left: 1em; padding-right: 1em; text-align: center; vertical-align: top\">Donald-Trump</td>\n",
              "        <td style=\"padding-left: 1em; padding-right: 1em; text-align: center; vertical-align: top\">Sabrán Uds. que esto con<br>@DonaldTrump no estaría ...</td>\n",
              "        <td style=\"padding-left: 1em; padding-right: 1em; text-align: center; vertical-align: top\"> sabrn uds que esto con<br>donaldtrump estara ...</td>\n",
              "    </tr>\n",
              "    <tr>\n",
              "        <td style=\"padding-left: 1em; padding-right: 1em; text-align: center; vertical-align: top\">Donald-Trump</td>\n",
              "        <td style=\"padding-left: 1em; padding-right: 1em; text-align: center; vertical-align: top\">RT @rahulpandit1881:<br>अमेरिका को याद आये ...</td>\n",
              "        <td style=\"padding-left: 1em; padding-right: 1em; text-align: center; vertical-align: top\"> rt rahulpandit1881<br>donaldtrump potus ...</td>\n",
              "    </tr>\n",
              "    <tr>\n",
              "        <td style=\"padding-left: 1em; padding-right: 1em; text-align: center; vertical-align: top\">Donald-Trump</td>\n",
              "        <td style=\"padding-left: 1em; padding-right: 1em; text-align: center; vertical-align: top\">RT @codeysharp: Every<br>single #AfghanDeath can ...</td>\n",
              "        <td style=\"padding-left: 1em; padding-right: 1em; text-align: center; vertical-align: top\"> rt codeysharp every<br>single afghandeath bl ...</td>\n",
              "    </tr>\n",
              "    <tr>\n",
              "        <td style=\"padding-left: 1em; padding-right: 1em; text-align: center; vertical-align: top\">Donald-Trump</td>\n",
              "        <td style=\"padding-left: 1em; padding-right: 1em; text-align: center; vertical-align: top\">@Gabizin93097753<br>@RevistaCrusoe @JoeBiden ...</td>\n",
              "        <td style=\"padding-left: 1em; padding-right: 1em; text-align: center; vertical-align: top\"> gabizin93097753<br>revistacrusoe joebiden ...</td>\n",
              "    </tr>\n",
              "    <tr>\n",
              "        <td style=\"padding-left: 1em; padding-right: 1em; text-align: center; vertical-align: top\">Donald-Trump</td>\n",
              "        <td style=\"padding-left: 1em; padding-right: 1em; text-align: center; vertical-align: top\">@DonaldTrump sorry to say<br>but the day american ...</td>\n",
              "        <td style=\"padding-left: 1em; padding-right: 1em; text-align: center; vertical-align: top\"> donaldtrump sorry say<br>day american people ...</td>\n",
              "    </tr>\n",
              "    <tr>\n",
              "        <td style=\"padding-left: 1em; padding-right: 1em; text-align: center; vertical-align: top\">Donald-Trump</td>\n",
              "        <td style=\"padding-left: 1em; padding-right: 1em; text-align: center; vertical-align: top\">RT @ASAF90916341: עוד<br>מישהו מתגעגע עליהם ...</td>\n",
              "        <td style=\"padding-left: 1em; padding-right: 1em; text-align: center; vertical-align: top\"> rt asaf90916341 someone<br>else misses today ...</td>\n",
              "    </tr>\n",
              "    <tr>\n",
              "        <td style=\"padding-left: 1em; padding-right: 1em; text-align: center; vertical-align: top\">Donald-Trump</td>\n",
              "        <td style=\"padding-left: 1em; padding-right: 1em; text-align: center; vertical-align: top\">el-salvador &amp;amp; amerika<br>halkı \\n@DonaldTrump\\ ...</td>\n",
              "        <td style=\"padding-left: 1em; padding-right: 1em; text-align: center; vertical-align: top\"> el salvador amp amerika<br>halk donaldtrump ...</td>\n",
              "    </tr>\n",
              "</table>\n",
              "[8362 rows x 3 columns]<br/>Note: Only the head of the SFrame is printed.<br/>You can use print_rows(num_rows=m, num_columns=n) to print more rows and columns.\n",
              "</div>"
            ],
            "text/plain": [
              "Columns:\n",
              "\tpolitician\tstr\n",
              "\tcomment_for_tweet\tstr\n",
              "\tclean_comment\tstr\n",
              "\n",
              "Rows: 8362\n",
              "\n",
              "Data:\n",
              "+--------------+-------------------------------+-------------------------------+\n",
              "|  politician  |       comment_for_tweet       |         clean_comment         |\n",
              "+--------------+-------------------------------+-------------------------------+\n",
              "| Mitt-Romney  | RT @MittRomney: They repre... |  rt mittromney represented... |\n",
              "| Donald-Trump | @DonaldTrump fuck me I am ... |     donaldtrump fuck famous   |\n",
              "| Donald-Trump | @FoxNews @donaldtrump http... |  foxnews donaldtrump https... |\n",
              "| Donald-Trump | Sabrán Uds. que esto con @... |  sabrn uds que esto con do... |\n",
              "| Donald-Trump | RT @rahulpandit1881: अमेरि... |  rt rahulpandit1881 donald... |\n",
              "| Donald-Trump | RT @codeysharp: Every sing... |  rt codeysharp every singl... |\n",
              "| Donald-Trump | @Gabizin93097753 @RevistaC... |  gabizin93097753 revistacr... |\n",
              "| Donald-Trump | @DonaldTrump sorry to say ... |  donaldtrump sorry say day... |\n",
              "| Donald-Trump | RT @ASAF90916341: עוד מישה... |  rt asaf90916341 someone e... |\n",
              "| Donald-Trump | el-salvador &amp; amerika ... |  el salvador amp amerika h... |\n",
              "+--------------+-------------------------------+-------------------------------+\n",
              "[8362 rows x 3 columns]\n",
              "Note: Only the head of the SFrame is printed.\n",
              "You can use print_rows(num_rows=m, num_columns=n) to print more rows and columns."
            ]
          },
          "metadata": {},
          "execution_count": 368
        }
      ]
    },
    {
      "cell_type": "code",
      "metadata": {
        "id": "MBufAmZ7EsNg"
      },
      "source": [
        "twitts_data_sf['content_afinn_score'] = twitts_data_sf['clean_comment'].apply(lambda t: afinn.score(t))"
      ],
      "execution_count": null,
      "outputs": []
    },
    {
      "cell_type": "code",
      "metadata": {
        "id": "ADOAAk-zGa7w"
      },
      "source": [
        "twitts_data_sf = twitts_data_sf[twitts_data_sf['content_afinn_score'] != 0] #delete title with score 0 not pos and not neg"
      ],
      "execution_count": null,
      "outputs": []
    },
    {
      "cell_type": "code",
      "metadata": {
        "id": "VsHiqShoEsPo"
      },
      "source": [
        "twitts_data_sen_sf = twitts_data_sf\n",
        "twitts_data_score_sf = twitts_data_sf"
      ],
      "execution_count": null,
      "outputs": []
    },
    {
      "cell_type": "code",
      "metadata": {
        "id": "2dUmJQAIE6Tk"
      },
      "source": [
        "twitts_data_score_sf_gb =  twitts_data_sf.groupby(['politician'],{\"twitts_sum_score\":agg.SUM('content_afinn_score')})"
      ],
      "execution_count": null,
      "outputs": []
    },
    {
      "cell_type": "code",
      "metadata": {
        "id": "qRbz1KJCE6WE"
      },
      "source": [
        "twitts_data_score_sf_gb"
      ],
      "execution_count": null,
      "outputs": []
    },
    {
      "cell_type": "code",
      "metadata": {
        "id": "8PqmEFn6E6ZJ"
      },
      "source": [
        "twitts_data_sen_sf"
      ],
      "execution_count": null,
      "outputs": []
    },
    {
      "cell_type": "code",
      "metadata": {
        "id": "al0egRoCFGEL"
      },
      "source": [
        "def label2sentiment2(label):\n",
        "    if label >= 1:\n",
        "        return \"Positive\"\n",
        "    else:\n",
        "        return \"Negative\""
      ],
      "execution_count": null,
      "outputs": []
    },
    {
      "cell_type": "code",
      "metadata": {
        "id": "8jalCrENFGGu"
      },
      "source": [
        "twitts_data_sen_sf['sentiment'] = twitts_data_sen_sf['content_afinn_score'].apply(lambda label: label2sentiment2(label))"
      ],
      "execution_count": null,
      "outputs": []
    },
    {
      "cell_type": "code",
      "metadata": {
        "id": "xo92Xwv9FNz2"
      },
      "source": [
        "twitts_data_sen_sf_gb = twitts_data_sen_sf.groupby(['politician','sentiment'],{\"twitts_sum_score\":agg.COUNT()})"
      ],
      "execution_count": null,
      "outputs": []
    },
    {
      "cell_type": "code",
      "metadata": {
        "id": "BA97-n9iFN2k"
      },
      "source": [
        "twitts_data_sf_gb_neg = twitts_data_sen_sf_gb\n",
        "twitts_data_sf_gb_pos = twitts_data_sen_sf_gb"
      ],
      "execution_count": null,
      "outputs": []
    },
    {
      "cell_type": "code",
      "metadata": {
        "id": "T9AE3LJdFN5D"
      },
      "source": [
        "twitts_data_sf_gb_neg = twitts_data_sf_gb_neg[ twitts_data_sf_gb_neg['sentiment']=='Negative' ]\n",
        "twitts_data_sf_gb_pos = twitts_data_sf_gb_pos[ twitts_data_sf_gb_pos['sentiment']=='Positive' ]"
      ],
      "execution_count": null,
      "outputs": []
    },
    {
      "cell_type": "code",
      "metadata": {
        "id": "q2FlSkWfFN7h"
      },
      "source": [
        "twitts_data_sf_gb_negPos_SF = twitts_data_sf_gb_neg.join(twitts_data_sf_gb_pos, on='politician', how='inner')"
      ],
      "execution_count": null,
      "outputs": []
    },
    {
      "cell_type": "code",
      "metadata": {
        "id": "3wBg8htfEsXA"
      },
      "source": [
        "twitts_data_sf_gb_negPos_SF = twitts_data_sf_gb_negPos_SF.rename( {'twitts_sum_score.1': 'twitts_sum_score_pos'} )\n",
        "twitts_data_sf_gb_negPos_SF = twitts_data_sf_gb_negPos_SF.rename( {'twitts_sum_score': 'twitts_sum_score_neg'} )"
      ],
      "execution_count": null,
      "outputs": []
    },
    {
      "cell_type": "code",
      "metadata": {
        "colab": {
          "base_uri": "https://localhost:8080/",
          "height": 131
        },
        "id": "ngrZkgxjFeNF",
        "outputId": "44bbecb3-619e-4a2d-b4a6-c8b6eb6b5747"
      },
      "source": [
        "twitts_data_sf_gb_negPos_SF"
      ],
      "execution_count": null,
      "outputs": [
        {
          "output_type": "execute_result",
          "data": {
            "text/html": [
              "<div style=\"max-height:1000px;max-width:1500px;overflow:auto;\"><table frame=\"box\" rules=\"cols\">\n",
              "    <tr>\n",
              "        <th style=\"padding-left: 1em; padding-right: 1em; text-align: center\">politician</th>\n",
              "        <th style=\"padding-left: 1em; padding-right: 1em; text-align: center\">sentiment</th>\n",
              "        <th style=\"padding-left: 1em; padding-right: 1em; text-align: center\">twitts_sum_score_neg</th>\n",
              "        <th style=\"padding-left: 1em; padding-right: 1em; text-align: center\">sentiment.1</th>\n",
              "        <th style=\"padding-left: 1em; padding-right: 1em; text-align: center\">twitts_sum_score_pos</th>\n",
              "    </tr>\n",
              "    <tr>\n",
              "        <td style=\"padding-left: 1em; padding-right: 1em; text-align: center; vertical-align: top\">Joe-Biden</td>\n",
              "        <td style=\"padding-left: 1em; padding-right: 1em; text-align: center; vertical-align: top\">Negative</td>\n",
              "        <td style=\"padding-left: 1em; padding-right: 1em; text-align: center; vertical-align: top\">866</td>\n",
              "        <td style=\"padding-left: 1em; padding-right: 1em; text-align: center; vertical-align: top\">Positive</td>\n",
              "        <td style=\"padding-left: 1em; padding-right: 1em; text-align: center; vertical-align: top\">336</td>\n",
              "    </tr>\n",
              "    <tr>\n",
              "        <td style=\"padding-left: 1em; padding-right: 1em; text-align: center; vertical-align: top\">Donald-Trump</td>\n",
              "        <td style=\"padding-left: 1em; padding-right: 1em; text-align: center; vertical-align: top\">Negative</td>\n",
              "        <td style=\"padding-left: 1em; padding-right: 1em; text-align: center; vertical-align: top\">378</td>\n",
              "        <td style=\"padding-left: 1em; padding-right: 1em; text-align: center; vertical-align: top\">Positive</td>\n",
              "        <td style=\"padding-left: 1em; padding-right: 1em; text-align: center; vertical-align: top\">279</td>\n",
              "    </tr>\n",
              "    <tr>\n",
              "        <td style=\"padding-left: 1em; padding-right: 1em; text-align: center; vertical-align: top\">Mitt-Romney</td>\n",
              "        <td style=\"padding-left: 1em; padding-right: 1em; text-align: center; vertical-align: top\">Negative</td>\n",
              "        <td style=\"padding-left: 1em; padding-right: 1em; text-align: center; vertical-align: top\">731</td>\n",
              "        <td style=\"padding-left: 1em; padding-right: 1em; text-align: center; vertical-align: top\">Positive</td>\n",
              "        <td style=\"padding-left: 1em; padding-right: 1em; text-align: center; vertical-align: top\">543</td>\n",
              "    </tr>\n",
              "    <tr>\n",
              "        <td style=\"padding-left: 1em; padding-right: 1em; text-align: center; vertical-align: top\">John-Kerry</td>\n",
              "        <td style=\"padding-left: 1em; padding-right: 1em; text-align: center; vertical-align: top\">Negative</td>\n",
              "        <td style=\"padding-left: 1em; padding-right: 1em; text-align: center; vertical-align: top\">312</td>\n",
              "        <td style=\"padding-left: 1em; padding-right: 1em; text-align: center; vertical-align: top\">Positive</td>\n",
              "        <td style=\"padding-left: 1em; padding-right: 1em; text-align: center; vertical-align: top\">667</td>\n",
              "    </tr>\n",
              "</table>\n",
              "[4 rows x 5 columns]<br/>\n",
              "</div>"
            ],
            "text/plain": [
              "Columns:\n",
              "\tpolitician\tstr\n",
              "\tsentiment\tstr\n",
              "\ttwitts_sum_score_neg\tint\n",
              "\tsentiment.1\tstr\n",
              "\ttwitts_sum_score_pos\tint\n",
              "\n",
              "Rows: 4\n",
              "\n",
              "Data:\n",
              "+--------------+-----------+----------------------+-------------+----------------------+\n",
              "|  politician  | sentiment | twitts_sum_score_neg | sentiment.1 | twitts_sum_score_pos |\n",
              "+--------------+-----------+----------------------+-------------+----------------------+\n",
              "|  Joe-Biden   |  Negative |         866          |   Positive  |         336          |\n",
              "| Donald-Trump |  Negative |         378          |   Positive  |         279          |\n",
              "| Mitt-Romney  |  Negative |         731          |   Positive  |         543          |\n",
              "|  John-Kerry  |  Negative |         312          |   Positive  |         667          |\n",
              "+--------------+-----------+----------------------+-------------+----------------------+\n",
              "[4 rows x 5 columns]"
            ]
          },
          "metadata": {},
          "execution_count": 382
        }
      ]
    },
    {
      "cell_type": "code",
      "metadata": {
        "colab": {
          "base_uri": "https://localhost:8080/",
          "height": 131
        },
        "id": "AM_g8m1gFeUq",
        "outputId": "c9c06236-bbb1-46c7-e20c-5c0337fcc5d1"
      },
      "source": [
        "twitts_data_score_sf_gb"
      ],
      "execution_count": null,
      "outputs": [
        {
          "output_type": "execute_result",
          "data": {
            "text/html": [
              "<div style=\"max-height:1000px;max-width:1500px;overflow:auto;\"><table frame=\"box\" rules=\"cols\">\n",
              "    <tr>\n",
              "        <th style=\"padding-left: 1em; padding-right: 1em; text-align: center\">politician</th>\n",
              "        <th style=\"padding-left: 1em; padding-right: 1em; text-align: center\">twitts_sum_score</th>\n",
              "    </tr>\n",
              "    <tr>\n",
              "        <td style=\"padding-left: 1em; padding-right: 1em; text-align: center; vertical-align: top\">Mitt-Romney</td>\n",
              "        <td style=\"padding-left: 1em; padding-right: 1em; text-align: center; vertical-align: top\">-1605.0</td>\n",
              "    </tr>\n",
              "    <tr>\n",
              "        <td style=\"padding-left: 1em; padding-right: 1em; text-align: center; vertical-align: top\">Joe-Biden</td>\n",
              "        <td style=\"padding-left: 1em; padding-right: 1em; text-align: center; vertical-align: top\">-2079.0</td>\n",
              "    </tr>\n",
              "    <tr>\n",
              "        <td style=\"padding-left: 1em; padding-right: 1em; text-align: center; vertical-align: top\">John-Kerry</td>\n",
              "        <td style=\"padding-left: 1em; padding-right: 1em; text-align: center; vertical-align: top\">1162.0</td>\n",
              "    </tr>\n",
              "    <tr>\n",
              "        <td style=\"padding-left: 1em; padding-right: 1em; text-align: center; vertical-align: top\">Donald-Trump</td>\n",
              "        <td style=\"padding-left: 1em; padding-right: 1em; text-align: center; vertical-align: top\">-520.0</td>\n",
              "    </tr>\n",
              "</table>\n",
              "[4 rows x 2 columns]<br/>\n",
              "</div>"
            ],
            "text/plain": [
              "Columns:\n",
              "\tpolitician\tstr\n",
              "\ttwitts_sum_score\tfloat\n",
              "\n",
              "Rows: 4\n",
              "\n",
              "Data:\n",
              "+--------------+------------------+\n",
              "|  politician  | twitts_sum_score |\n",
              "+--------------+------------------+\n",
              "| Mitt-Romney  |     -1605.0      |\n",
              "|  Joe-Biden   |     -2079.0      |\n",
              "|  John-Kerry  |      1162.0      |\n",
              "| Donald-Trump |      -520.0      |\n",
              "+--------------+------------------+\n",
              "[4 rows x 2 columns]"
            ]
          },
          "metadata": {},
          "execution_count": 383
        }
      ]
    },
    {
      "cell_type": "markdown",
      "metadata": {
        "id": "bLQutcqp3vbm"
      },
      "source": [
        "### twitter analasys"
      ]
    },
    {
      "cell_type": "code",
      "metadata": {
        "colab": {
          "base_uri": "https://localhost:8080/",
          "height": 131
        },
        "id": "G4dYQC3m33cg",
        "outputId": "bd327d2e-b1aa-4666-cae3-19b79d20cdc5"
      },
      "source": [
        "twitts_data_sf_gb_negPos_SF"
      ],
      "execution_count": null,
      "outputs": [
        {
          "output_type": "execute_result",
          "data": {
            "text/html": [
              "<div style=\"max-height:1000px;max-width:1500px;overflow:auto;\"><table frame=\"box\" rules=\"cols\">\n",
              "    <tr>\n",
              "        <th style=\"padding-left: 1em; padding-right: 1em; text-align: center\">politician</th>\n",
              "        <th style=\"padding-left: 1em; padding-right: 1em; text-align: center\">sentiment</th>\n",
              "        <th style=\"padding-left: 1em; padding-right: 1em; text-align: center\">twitts_sum_score_neg</th>\n",
              "        <th style=\"padding-left: 1em; padding-right: 1em; text-align: center\">sentiment.1</th>\n",
              "        <th style=\"padding-left: 1em; padding-right: 1em; text-align: center\">twitts_sum_score_pos</th>\n",
              "    </tr>\n",
              "    <tr>\n",
              "        <td style=\"padding-left: 1em; padding-right: 1em; text-align: center; vertical-align: top\">Joe-Biden</td>\n",
              "        <td style=\"padding-left: 1em; padding-right: 1em; text-align: center; vertical-align: top\">Negative</td>\n",
              "        <td style=\"padding-left: 1em; padding-right: 1em; text-align: center; vertical-align: top\">866</td>\n",
              "        <td style=\"padding-left: 1em; padding-right: 1em; text-align: center; vertical-align: top\">Positive</td>\n",
              "        <td style=\"padding-left: 1em; padding-right: 1em; text-align: center; vertical-align: top\">336</td>\n",
              "    </tr>\n",
              "    <tr>\n",
              "        <td style=\"padding-left: 1em; padding-right: 1em; text-align: center; vertical-align: top\">Donald-Trump</td>\n",
              "        <td style=\"padding-left: 1em; padding-right: 1em; text-align: center; vertical-align: top\">Negative</td>\n",
              "        <td style=\"padding-left: 1em; padding-right: 1em; text-align: center; vertical-align: top\">378</td>\n",
              "        <td style=\"padding-left: 1em; padding-right: 1em; text-align: center; vertical-align: top\">Positive</td>\n",
              "        <td style=\"padding-left: 1em; padding-right: 1em; text-align: center; vertical-align: top\">279</td>\n",
              "    </tr>\n",
              "    <tr>\n",
              "        <td style=\"padding-left: 1em; padding-right: 1em; text-align: center; vertical-align: top\">Mitt-Romney</td>\n",
              "        <td style=\"padding-left: 1em; padding-right: 1em; text-align: center; vertical-align: top\">Negative</td>\n",
              "        <td style=\"padding-left: 1em; padding-right: 1em; text-align: center; vertical-align: top\">731</td>\n",
              "        <td style=\"padding-left: 1em; padding-right: 1em; text-align: center; vertical-align: top\">Positive</td>\n",
              "        <td style=\"padding-left: 1em; padding-right: 1em; text-align: center; vertical-align: top\">543</td>\n",
              "    </tr>\n",
              "    <tr>\n",
              "        <td style=\"padding-left: 1em; padding-right: 1em; text-align: center; vertical-align: top\">John-Kerry</td>\n",
              "        <td style=\"padding-left: 1em; padding-right: 1em; text-align: center; vertical-align: top\">Negative</td>\n",
              "        <td style=\"padding-left: 1em; padding-right: 1em; text-align: center; vertical-align: top\">312</td>\n",
              "        <td style=\"padding-left: 1em; padding-right: 1em; text-align: center; vertical-align: top\">Positive</td>\n",
              "        <td style=\"padding-left: 1em; padding-right: 1em; text-align: center; vertical-align: top\">667</td>\n",
              "    </tr>\n",
              "</table>\n",
              "[4 rows x 5 columns]<br/>\n",
              "</div>"
            ],
            "text/plain": [
              "Columns:\n",
              "\tpolitician\tstr\n",
              "\tsentiment\tstr\n",
              "\ttwitts_sum_score_neg\tint\n",
              "\tsentiment.1\tstr\n",
              "\ttwitts_sum_score_pos\tint\n",
              "\n",
              "Rows: 4\n",
              "\n",
              "Data:\n",
              "+--------------+-----------+----------------------+-------------+----------------------+\n",
              "|  politician  | sentiment | twitts_sum_score_neg | sentiment.1 | twitts_sum_score_pos |\n",
              "+--------------+-----------+----------------------+-------------+----------------------+\n",
              "|  Joe-Biden   |  Negative |         866          |   Positive  |         336          |\n",
              "| Donald-Trump |  Negative |         378          |   Positive  |         279          |\n",
              "| Mitt-Romney  |  Negative |         731          |   Positive  |         543          |\n",
              "|  John-Kerry  |  Negative |         312          |   Positive  |         667          |\n",
              "+--------------+-----------+----------------------+-------------+----------------------+\n",
              "[4 rows x 5 columns]"
            ]
          },
          "metadata": {},
          "execution_count": 411
        }
      ]
    },
    {
      "cell_type": "code",
      "metadata": {
        "colab": {
          "base_uri": "https://localhost:8080/",
          "height": 131
        },
        "id": "YjVsPbXH33fI",
        "outputId": "e85ea166-6dec-4825-aa22-26d9d006be3d"
      },
      "source": [
        "twitts_data_score_sf_gb"
      ],
      "execution_count": null,
      "outputs": [
        {
          "output_type": "execute_result",
          "data": {
            "text/html": [
              "<div style=\"max-height:1000px;max-width:1500px;overflow:auto;\"><table frame=\"box\" rules=\"cols\">\n",
              "    <tr>\n",
              "        <th style=\"padding-left: 1em; padding-right: 1em; text-align: center\">politician</th>\n",
              "        <th style=\"padding-left: 1em; padding-right: 1em; text-align: center\">twitts_sum_score</th>\n",
              "    </tr>\n",
              "    <tr>\n",
              "        <td style=\"padding-left: 1em; padding-right: 1em; text-align: center; vertical-align: top\">Mitt-Romney</td>\n",
              "        <td style=\"padding-left: 1em; padding-right: 1em; text-align: center; vertical-align: top\">-1605.0</td>\n",
              "    </tr>\n",
              "    <tr>\n",
              "        <td style=\"padding-left: 1em; padding-right: 1em; text-align: center; vertical-align: top\">Joe-Biden</td>\n",
              "        <td style=\"padding-left: 1em; padding-right: 1em; text-align: center; vertical-align: top\">-2079.0</td>\n",
              "    </tr>\n",
              "    <tr>\n",
              "        <td style=\"padding-left: 1em; padding-right: 1em; text-align: center; vertical-align: top\">John-Kerry</td>\n",
              "        <td style=\"padding-left: 1em; padding-right: 1em; text-align: center; vertical-align: top\">1162.0</td>\n",
              "    </tr>\n",
              "    <tr>\n",
              "        <td style=\"padding-left: 1em; padding-right: 1em; text-align: center; vertical-align: top\">Donald-Trump</td>\n",
              "        <td style=\"padding-left: 1em; padding-right: 1em; text-align: center; vertical-align: top\">-520.0</td>\n",
              "    </tr>\n",
              "</table>\n",
              "[4 rows x 2 columns]<br/>\n",
              "</div>"
            ],
            "text/plain": [
              "Columns:\n",
              "\tpolitician\tstr\n",
              "\ttwitts_sum_score\tfloat\n",
              "\n",
              "Rows: 4\n",
              "\n",
              "Data:\n",
              "+--------------+------------------+\n",
              "|  politician  | twitts_sum_score |\n",
              "+--------------+------------------+\n",
              "| Mitt-Romney  |     -1605.0      |\n",
              "|  Joe-Biden   |     -2079.0      |\n",
              "|  John-Kerry  |      1162.0      |\n",
              "| Donald-Trump |      -520.0      |\n",
              "+--------------+------------------+\n",
              "[4 rows x 2 columns]"
            ]
          },
          "metadata": {},
          "execution_count": 412
        }
      ]
    },
    {
      "cell_type": "code",
      "metadata": {
        "colab": {
          "base_uri": "https://localhost:8080/",
          "height": 579
        },
        "id": "yYmuCkCl33hm",
        "outputId": "763c2697-e94e-4260-f44e-ade3d9c5794c"
      },
      "source": [
        "import pandas as pd \n",
        "import matplotlib.pyplot as plt \n",
        "\n",
        "\n",
        "df=pd.DataFrame(twitts_data_sf_gb_negPos_SF,columns=[\"politician\",\"twitts_sum_score_neg\",\"twitts_sum_score_pos\"])\n",
        "df.plot(x=\"politician\", y=[\"twitts_sum_score_neg\", \"twitts_sum_score_pos\"], kind=\"bar\",figsize=(9,8))\n",
        "\n",
        "# Adding Xticks\n",
        "plt.xlabel('politicians', fontweight ='bold', fontsize = 15)\n",
        "plt.ylabel('sum', fontweight ='bold', fontsize = 15)\n",
        "plt.title(\"politicians sum of twitts by sentiment\", fontweight ='bold', fontsize = 15)\n",
        "plt.show()"
      ],
      "execution_count": null,
      "outputs": [
        {
          "output_type": "display_data",
          "data": {
            "image/png": "[encoded data removed]",
            "text/plain": [
              "<Figure size 648x576 with 1 Axes>"
            ]
          },
          "metadata": {
            "needs_background": "light"
          }
        }
      ]
    },
    {
      "cell_type": "code",
      "metadata": {
        "colab": {
          "base_uri": "https://localhost:8080/",
          "height": 579
        },
        "id": "7DoSts443_dc",
        "outputId": "07f435e8-4e33-4304-9dd1-faf0d8724f1e"
      },
      "source": [
        "import pandas as pd \n",
        "import matplotlib.pyplot as plt \n",
        "\n",
        "\n",
        "df=pd.DataFrame(twitts_data_score_sf_gb,columns=[\"politician\",\"twitts_sum_score\"])\n",
        "df.plot(x=\"politician\", y=[\"twitts_sum_score\"], kind=\"bar\",figsize=(9,8))\n",
        "\n",
        "# Adding Xticks\n",
        "plt.xlabel('politicians', fontweight ='bold', fontsize = 15)\n",
        "plt.ylabel('sum', fontweight ='bold', fontsize = 15)\n",
        "plt.title(\"politicians sum of twitts by score\", fontweight ='bold', fontsize = 15)\n",
        "plt.show()"
      ],
      "execution_count": null,
      "outputs": [
        {
          "output_type": "display_data",
          "data": {
            "image/png": "[encoded data removed]",
            "text/plain": [
              "<Figure size 648x576 with 1 Axes>"
            ]
          },
          "metadata": {
            "needs_background": "light"
          }
        }
      ]
    },
    {
      "cell_type": "markdown",
      "metadata": {
        "id": "V-tuvKRT1WMr"
      },
      "source": [
        "## **get articles from webs - BBC and NYT**"
      ]
    },
    {
      "cell_type": "markdown",
      "metadata": {
        "id": "gRP1eZ2EPsmS"
      },
      "source": [
        "### imports"
      ]
    },
    {
      "cell_type": "code",
      "metadata": {
        "id": "QNvwa4fR0UFE"
      },
      "source": [
        "###################################################### A\n",
        "import datetime\n",
        "import re\n",
        "###################################################### B\n",
        "from PIL import Image\n",
        "import requests\n",
        "# importing modules\n",
        "import urllib.request\n",
        "from PIL import Image"
      ],
      "execution_count": null,
      "outputs": []
    },
    {
      "cell_type": "code",
      "metadata": {
        "id": "Zt4CT1PaQvga"
      },
      "source": [
        "import requests\n",
        "import tqdm"
      ],
      "execution_count": null,
      "outputs": []
    },
    {
      "cell_type": "markdown",
      "metadata": {
        "id": "KN_bAz4jP-Tl"
      },
      "source": []
    },
    {
      "cell_type": "markdown",
      "metadata": {
        "id": "_kvQT2HdH6Ph"
      },
      "source": [
        "### articles data from webs"
      ]
    },
    {
      "cell_type": "markdown",
      "metadata": {
        "id": "wilBQfDSWsJD"
      },
      "source": [
        "#### BBC *website* "
      ]
    },
    {
      "cell_type": "markdown",
      "metadata": {
        "id": "cZ8SuIL7SiUN"
      },
      "source": [
        "##### BBC data"
      ]
    },
    {
      "cell_type": "code",
      "metadata": {
        "id": "KsZXSRhA4LLP"
      },
      "source": [
        "def get_article_data_BBC(html, name):\n",
        "  html = str(html)\n",
        "  title = html.split(\"<a href\")[1]\n",
        "  if \"<p class=\" in title:\n",
        "    title = title.split(\"<p class=\")[1]\n",
        "    title = title.split(\"<\")[1]\n",
        "    title = title.split(\">\")[1]\n",
        "    title = title.split(\"<\")[0]\n",
        "  else:\n",
        "    title=\"\"\n",
        "\n",
        "  content = html.split(\"<a href\")[1]\n",
        "  content = content.split(\"</a>\")[1]\n",
        "  if \"<p class=\" in content:\n",
        "    content = content.split(\"<p class=\")[1]\n",
        "    content = content.split(\">\")[1]\n",
        "    content = content.split(\".</p\")[0]\n",
        "  else:\n",
        "    content=\"\"\n",
        "\n",
        "  page_info = [ [name,title, content] ]\n",
        "  return page_info"
      ],
      "execution_count": null,
      "outputs": []
    },
    {
      "cell_type": "code",
      "metadata": {
        "id": "WeXc_VTT4LOE"
      },
      "source": [
        "def bbc_articles_by_name( urlP, nameP):\n",
        "  all_data_from_wesite = []\n",
        "\n",
        "  for page_num in range(1,29):\n",
        "    page_list = [] \n",
        "    url =  str( urlP) + str(page_num)\n",
        "    req_info = requests.get( str(url) ).content.decode('utf-8')\n",
        "    html = req_info\n",
        "    mainData2 = html.split(\"<div id=\\\"root\\\">\")[1]\n",
        "    mainData3 = mainData2.split(\"<main id=\")[1]\n",
        "    mainData4 = mainData3.split(\"<ul role=\")[1]\n",
        "    mainData5 = mainData4.split(\"<li>\")\n",
        "\n",
        "    for i in range( len(mainData5)) :\n",
        "      article = mainData5[i]\n",
        "      if i>0:\n",
        "        article_info=\"\"\n",
        "        article_info = get_article_data_BBC(article, nameP)\n",
        "        if len(article_info[0][1] )>1:\n",
        "          page_list.extend( article_info )\n",
        "    all_data_from_wesite.extend( page_list )\n",
        "  return all_data_from_wesite"
      ],
      "execution_count": null,
      "outputs": []
    },
    {
      "cell_type": "code",
      "metadata": {
        "id": "nWVtT6h24LQo"
      },
      "source": [
        "all_data_from_wesite_bbc_trump = bbc_articles_by_name( \"https://www.bbc.co.uk/search?q=trump&page=\" , 'Donald-Trump')\n",
        "all_data_from_wesite_bbc_mitt = bbc_articles_by_name( \"https://www.bbc.co.uk/search?q=Mitt+Romney&page=\", 'Mitt-Romney')\n",
        "all_data_from_wesite_bbc_john_kerry = bbc_articles_by_name( \"https://www.bbc.co.uk/search?q=John+Kerry&page=\", 'John-Kerry')\n",
        "all_data_from_wesite_bbc_biden = bbc_articles_by_name( \"https://www.bbc.co.uk/search?q=joe+biden&page=\", 'Joe-Biden')\n"
      ],
      "execution_count": null,
      "outputs": []
    },
    {
      "cell_type": "code",
      "metadata": {
        "id": "2hO_ZYis4Lbj"
      },
      "source": [
        "all_data_from_wesite_BBC = []\n",
        "all_data_from_wesite_BBC.extend(all_data_from_wesite_bbc_trump)\n",
        "all_data_from_wesite_BBC.extend(all_data_from_wesite_bbc_mitt)\n",
        "all_data_from_wesite_BBC.extend(all_data_from_wesite_bbc_john_kerry)\n",
        "all_data_from_wesite_BBC.extend(all_data_from_wesite_bbc_biden)"
      ],
      "execution_count": null,
      "outputs": []
    },
    {
      "cell_type": "code",
      "metadata": {
        "id": "r_sh8Cmd4Ld8"
      },
      "source": [
        "website_data_BBC_df = pd.DataFrame( columns=['politician', 'content'])\n",
        "\n",
        "for article in all_data_from_wesite_BBC:\n",
        "  name = str( article[0] )\n",
        "  title = str( article[1] )\n",
        "  content = str( article[2] )\n",
        "\n",
        "  all_text = title+\". \"+content\n",
        "  website_data_BBC_df = website_data_BBC_df.append( {'politician' : name, 'content' : all_text}, ignore_index=True)"
      ],
      "execution_count": null,
      "outputs": []
    },
    {
      "cell_type": "code",
      "metadata": {
        "id": "NXbnZ_68GHcj",
        "colab": {
          "base_uri": "https://localhost:8080/",
          "height": 419
        },
        "outputId": "7da74068-81cc-47ad-e690-3915a3a50d17"
      },
      "source": [
        "website_data_BBC_df"
      ],
      "execution_count": null,
      "outputs": [
        {
          "output_type": "execute_result",
          "data": {
            "text/html": [
              "<div>\n",
              "<style scoped>\n",
              "    .dataframe tbody tr th:only-of-type {\n",
              "        vertical-align: middle;\n",
              "    }\n",
              "\n",
              "    .dataframe tbody tr th {\n",
              "        vertical-align: top;\n",
              "    }\n",
              "\n",
              "    .dataframe thead th {\n",
              "        text-align: right;\n",
              "    }\n",
              "</style>\n",
              "<table border=\"1\" class=\"dataframe\">\n",
              "  <thead>\n",
              "    <tr style=\"text-align: right;\">\n",
              "      <th></th>\n",
              "      <th>politician</th>\n",
              "      <th>content</th>\n",
              "    </tr>\n",
              "  </thead>\n",
              "  <tbody>\n",
              "    <tr>\n",
              "      <th>0</th>\n",
              "      <td>Donald-Trump</td>\n",
              "      <td>Trump in Tweets. Examining how Trump used Twit...</td>\n",
              "    </tr>\n",
              "    <tr>\n",
              "      <th>1</th>\n",
              "      <td>Donald-Trump</td>\n",
              "      <td>The Trump Show. The inside story of the extrao...</td>\n",
              "    </tr>\n",
              "    <tr>\n",
              "      <th>2</th>\n",
              "      <td>Donald-Trump</td>\n",
              "      <td>The Trump Show: Downfall. The dramatic final c...</td>\n",
              "    </tr>\n",
              "    <tr>\n",
              "      <th>3</th>\n",
              "      <td>Donald-Trump</td>\n",
              "      <td>President Trump&amp;#x27;s Trade Chief. US trade r...</td>\n",
              "    </tr>\n",
              "    <tr>\n",
              "      <th>4</th>\n",
              "      <td>Donald-Trump</td>\n",
              "      <td>The Second Impeachment of Donald Trump: The Se...</td>\n",
              "    </tr>\n",
              "    <tr>\n",
              "      <th>...</th>\n",
              "      <td>...</td>\n",
              "      <td>...</td>\n",
              "    </tr>\n",
              "    <tr>\n",
              "      <th>1115</th>\n",
              "      <td>Joe-Biden</td>\n",
              "      <td>Afghanistan: UK and US must protect Afghan act...</td>\n",
              "    </tr>\n",
              "    <tr>\n",
              "      <th>1116</th>\n",
              "      <td>Joe-Biden</td>\n",
              "      <td>Joe Biden: US democracy proved to be &amp;#x27;res...</td>\n",
              "    </tr>\n",
              "    <tr>\n",
              "      <th>1117</th>\n",
              "      <td>Joe-Biden</td>\n",
              "      <td>US Election 2020: What do countries around the...</td>\n",
              "    </tr>\n",
              "    <tr>\n",
              "      <th>1118</th>\n",
              "      <td>Joe-Biden</td>\n",
              "      <td>US Congress: Joe Biden calls for President Tru...</td>\n",
              "    </tr>\n",
              "    <tr>\n",
              "      <th>1119</th>\n",
              "      <td>Joe-Biden</td>\n",
              "      <td>World Business Report: Update: US-German relat...</td>\n",
              "    </tr>\n",
              "  </tbody>\n",
              "</table>\n",
              "<p>1120 rows × 2 columns</p>\n",
              "</div>"
            ],
            "text/plain": [
              "        politician                                            content\n",
              "0     Donald-Trump  Trump in Tweets. Examining how Trump used Twit...\n",
              "1     Donald-Trump  The Trump Show. The inside story of the extrao...\n",
              "2     Donald-Trump  The Trump Show: Downfall. The dramatic final c...\n",
              "3     Donald-Trump  President Trump&#x27;s Trade Chief. US trade r...\n",
              "4     Donald-Trump  The Second Impeachment of Donald Trump: The Se...\n",
              "...            ...                                                ...\n",
              "1115     Joe-Biden  Afghanistan: UK and US must protect Afghan act...\n",
              "1116     Joe-Biden  Joe Biden: US democracy proved to be &#x27;res...\n",
              "1117     Joe-Biden  US Election 2020: What do countries around the...\n",
              "1118     Joe-Biden  US Congress: Joe Biden calls for President Tru...\n",
              "1119     Joe-Biden  World Business Report: Update: US-German relat...\n",
              "\n",
              "[1120 rows x 2 columns]"
            ]
          },
          "metadata": {},
          "execution_count": 17
        }
      ]
    },
    {
      "cell_type": "markdown",
      "metadata": {
        "id": "gYNiUiQ2Sl87"
      },
      "source": [
        "##### BBC Afinn"
      ]
    },
    {
      "cell_type": "code",
      "metadata": {
        "id": "z4YFEAYQTztg"
      },
      "source": [
        "website_data_BBC_for_analasys = website_data_BBC_df"
      ],
      "execution_count": null,
      "outputs": []
    },
    {
      "cell_type": "code",
      "metadata": {
        "id": "kLJxQKWLSqzq"
      },
      "source": [
        "def label2sentiment(label):\n",
        "    if label >= 1:\n",
        "        return \"Positive\"\n",
        "    else:\n",
        "        return \"Negative\""
      ],
      "execution_count": null,
      "outputs": []
    },
    {
      "cell_type": "code",
      "metadata": {
        "id": "GYZLr0c_Svfj"
      },
      "source": [
        "import turicreate.aggregate as agg"
      ],
      "execution_count": null,
      "outputs": []
    },
    {
      "cell_type": "code",
      "metadata": {
        "id": "c6sA8LolSvlC"
      },
      "source": [
        "website_data_BBC_for_analasys['content_afinn_score'] = website_data_BBC_for_analasys['content'].apply(lambda t: afinn.score(t))"
      ],
      "execution_count": null,
      "outputs": []
    },
    {
      "cell_type": "code",
      "metadata": {
        "id": "chgDxVSrS48X"
      },
      "source": [
        "website_data_BBC_for_analasys = website_data_BBC_for_analasys[website_data_BBC_for_analasys['content_afinn_score'] != 0] #delete title with score 0 not pos and not neg"
      ],
      "execution_count": null,
      "outputs": []
    },
    {
      "cell_type": "code",
      "metadata": {
        "colab": {
          "base_uri": "https://localhost:8080/",
          "height": 419
        },
        "id": "dRssCJ4iS5Bm",
        "outputId": "77a101aa-d68e-427e-a315-f9bf29cf4d04"
      },
      "source": [
        "website_data_BBC_for_analasys"
      ],
      "execution_count": null,
      "outputs": [
        {
          "output_type": "execute_result",
          "data": {
            "text/html": [
              "<div>\n",
              "<style scoped>\n",
              "    .dataframe tbody tr th:only-of-type {\n",
              "        vertical-align: middle;\n",
              "    }\n",
              "\n",
              "    .dataframe tbody tr th {\n",
              "        vertical-align: top;\n",
              "    }\n",
              "\n",
              "    .dataframe thead th {\n",
              "        text-align: right;\n",
              "    }\n",
              "</style>\n",
              "<table border=\"1\" class=\"dataframe\">\n",
              "  <thead>\n",
              "    <tr style=\"text-align: right;\">\n",
              "      <th></th>\n",
              "      <th>politician</th>\n",
              "      <th>content</th>\n",
              "      <th>content_afinn_score</th>\n",
              "    </tr>\n",
              "  </thead>\n",
              "  <tbody>\n",
              "    <tr>\n",
              "      <th>2</th>\n",
              "      <td>Donald-Trump</td>\n",
              "      <td>The Trump Show: Downfall. The dramatic final c...</td>\n",
              "      <td>-2.0</td>\n",
              "    </tr>\n",
              "    <tr>\n",
              "      <th>4</th>\n",
              "      <td>Donald-Trump</td>\n",
              "      <td>The Second Impeachment of Donald Trump: The Se...</td>\n",
              "      <td>-9.0</td>\n",
              "    </tr>\n",
              "    <tr>\n",
              "      <th>5</th>\n",
              "      <td>Donald-Trump</td>\n",
              "      <td>Our World: Trump and God. Lebo Diseko meets Ch...</td>\n",
              "      <td>1.0</td>\n",
              "    </tr>\n",
              "    <tr>\n",
              "      <th>6</th>\n",
              "      <td>Donald-Trump</td>\n",
              "      <td>US judge reprimands Trump election fraud lawye...</td>\n",
              "      <td>-9.0</td>\n",
              "    </tr>\n",
              "    <tr>\n",
              "      <th>7</th>\n",
              "      <td>Donald-Trump</td>\n",
              "      <td>Reporting Trump&amp;#x27;s First Year: The Fourth ...</td>\n",
              "      <td>3.0</td>\n",
              "    </tr>\n",
              "    <tr>\n",
              "      <th>...</th>\n",
              "      <td>...</td>\n",
              "      <td>...</td>\n",
              "      <td>...</td>\n",
              "    </tr>\n",
              "    <tr>\n",
              "      <th>1113</th>\n",
              "      <td>Joe-Biden</td>\n",
              "      <td>Joe Biden: It&amp;#x27;s a &amp;#x27;good thing&amp;#x27; ...</td>\n",
              "      <td>8.0</td>\n",
              "    </tr>\n",
              "    <tr>\n",
              "      <th>1114</th>\n",
              "      <td>Joe-Biden</td>\n",
              "      <td>Afghanistan: UK and US must protect Afghan act...</td>\n",
              "      <td>7.0</td>\n",
              "    </tr>\n",
              "    <tr>\n",
              "      <th>1115</th>\n",
              "      <td>Joe-Biden</td>\n",
              "      <td>Coronavirus Global Update: Biden warns of a &amp;#...</td>\n",
              "      <td>-2.0</td>\n",
              "    </tr>\n",
              "    <tr>\n",
              "      <th>1117</th>\n",
              "      <td>Joe-Biden</td>\n",
              "      <td>US Election 2020: What do countries around the...</td>\n",
              "      <td>3.0</td>\n",
              "    </tr>\n",
              "    <tr>\n",
              "      <th>1118</th>\n",
              "      <td>Joe-Biden</td>\n",
              "      <td>US Congress: Joe Biden calls for President Tru...</td>\n",
              "      <td>-2.0</td>\n",
              "    </tr>\n",
              "  </tbody>\n",
              "</table>\n",
              "<p>797 rows × 3 columns</p>\n",
              "</div>"
            ],
            "text/plain": [
              "        politician  ... content_afinn_score\n",
              "2     Donald-Trump  ...                -2.0\n",
              "4     Donald-Trump  ...                -9.0\n",
              "5     Donald-Trump  ...                 1.0\n",
              "6     Donald-Trump  ...                -9.0\n",
              "7     Donald-Trump  ...                 3.0\n",
              "...            ...  ...                 ...\n",
              "1113     Joe-Biden  ...                 8.0\n",
              "1114     Joe-Biden  ...                 7.0\n",
              "1115     Joe-Biden  ...                -2.0\n",
              "1117     Joe-Biden  ...                 3.0\n",
              "1118     Joe-Biden  ...                -2.0\n",
              "\n",
              "[797 rows x 3 columns]"
            ]
          },
          "metadata": {},
          "execution_count": 26
        }
      ]
    },
    {
      "cell_type": "code",
      "metadata": {
        "id": "mg_tJm8rUEYk"
      },
      "source": [
        "website_data_BBC_for_analasys['sentiment'] = website_data_BBC_for_analasys['content_afinn_score'].apply(lambda label: label2sentiment(label))"
      ],
      "execution_count": null,
      "outputs": []
    },
    {
      "cell_type": "code",
      "metadata": {
        "id": "hBURxxryUEku"
      },
      "source": [
        "website_data_BBC_for_analasys_SF  = tc.SFrame( website_data_BBC_for_analasys )\n",
        "website_data_BBC_for_analasys_SF = website_data_BBC_for_analasys_SF['politician', 'content_afinn_score', 'sentiment']"
      ],
      "execution_count": null,
      "outputs": []
    },
    {
      "cell_type": "code",
      "metadata": {
        "id": "qoCOfyrcUEnq"
      },
      "source": [
        "website_data_BBC_for_analasys_SF_sen = website_data_BBC_for_analasys_SF.groupby(['politician','sentiment'],{\"articles_sum_sentiment\":agg.COUNT()})\n",
        "website_data_BBC_for_analasys_SF_score = website_data_BBC_for_analasys_SF.groupby(['politician'],{\"articles_sum_score\":agg.SUM('content_afinn_score')})"
      ],
      "execution_count": null,
      "outputs": []
    },
    {
      "cell_type": "code",
      "metadata": {
        "id": "IjV7bsugS5Ej"
      },
      "source": [
        "website_data_BBC_for_analasys_SF_sen_neg = website_data_BBC_for_analasys_SF_sen\n",
        "website_data_BBC_for_analasys_SF_sen_pos = website_data_BBC_for_analasys_SF_sen"
      ],
      "execution_count": null,
      "outputs": []
    },
    {
      "cell_type": "code",
      "metadata": {
        "id": "aRkrdW6yUXy-"
      },
      "source": [
        "website_data_BBC_for_analasys_SF_sen_neg = website_data_BBC_for_analasys_SF_sen_neg[ website_data_BBC_for_analasys_SF_sen_neg['sentiment']=='Negative' ]\n",
        "website_data_BBC_for_analasys_SF_sen_pos = website_data_BBC_for_analasys_SF_sen_pos[ website_data_BBC_for_analasys_SF_sen_pos['sentiment']=='Positive' ]"
      ],
      "execution_count": null,
      "outputs": []
    },
    {
      "cell_type": "code",
      "metadata": {
        "id": "q1TPGC0bUX86"
      },
      "source": [
        "website_data_BBC_for_analasys_SF_sen_NegPos = website_data_BBC_for_analasys_SF_sen_neg.join(website_data_BBC_for_analasys_SF_sen_pos, on='politician', how='inner')"
      ],
      "execution_count": null,
      "outputs": []
    },
    {
      "cell_type": "code",
      "metadata": {
        "id": "J0mmgPWsUX-j"
      },
      "source": [
        "website_data_BBC_for_analasys_SF_sen_NegPos = website_data_BBC_for_analasys_SF_sen_NegPos.rename( {'articles_sum_sentiment.1': 'articles_sum_sentiment_pos'} )\n",
        "website_data_BBC_for_analasys_SF_sen_NegPos = website_data_BBC_for_analasys_SF_sen_NegPos.rename( {'articles_sum_sentiment': 'articles_sum_sentiment_neg'} )"
      ],
      "execution_count": null,
      "outputs": []
    },
    {
      "cell_type": "code",
      "metadata": {
        "id": "_MOccmwqUYK1"
      },
      "source": [],
      "execution_count": null,
      "outputs": []
    },
    {
      "cell_type": "markdown",
      "metadata": {
        "id": "3yxU5pVrTVpQ"
      },
      "source": [
        "##### BBC WEB analasys"
      ]
    },
    {
      "cell_type": "code",
      "metadata": {
        "colab": {
          "base_uri": "https://localhost:8080/",
          "height": 148
        },
        "id": "VUgRn8vXVybk",
        "outputId": "db93288d-abdf-453a-c2fe-1af078fc2683"
      },
      "source": [
        "website_data_BBC_for_analasys_SF_sen_NegPos"
      ],
      "execution_count": null,
      "outputs": [
        {
          "output_type": "execute_result",
          "data": {
            "text/html": [
              "<div style=\"max-height:1000px;max-width:1500px;overflow:auto;\"><table frame=\"box\" rules=\"cols\">\n",
              "    <tr>\n",
              "        <th style=\"padding-left: 1em; padding-right: 1em; text-align: center\">politician</th>\n",
              "        <th style=\"padding-left: 1em; padding-right: 1em; text-align: center\">sentiment</th>\n",
              "        <th style=\"padding-left: 1em; padding-right: 1em; text-align: center\">articles_sum_sentiment_ne<br>g ...</th>\n",
              "        <th style=\"padding-left: 1em; padding-right: 1em; text-align: center\">sentiment.1</th>\n",
              "        <th style=\"padding-left: 1em; padding-right: 1em; text-align: center\">articles_sum_sentiment_po<br>s ...</th>\n",
              "    </tr>\n",
              "    <tr>\n",
              "        <td style=\"padding-left: 1em; padding-right: 1em; text-align: center; vertical-align: top\">Joe-Biden</td>\n",
              "        <td style=\"padding-left: 1em; padding-right: 1em; text-align: center; vertical-align: top\">Negative</td>\n",
              "        <td style=\"padding-left: 1em; padding-right: 1em; text-align: center; vertical-align: top\">104</td>\n",
              "        <td style=\"padding-left: 1em; padding-right: 1em; text-align: center; vertical-align: top\">Positive</td>\n",
              "        <td style=\"padding-left: 1em; padding-right: 1em; text-align: center; vertical-align: top\">87</td>\n",
              "    </tr>\n",
              "    <tr>\n",
              "        <td style=\"padding-left: 1em; padding-right: 1em; text-align: center; vertical-align: top\">Donald-Trump</td>\n",
              "        <td style=\"padding-left: 1em; padding-right: 1em; text-align: center; vertical-align: top\">Negative</td>\n",
              "        <td style=\"padding-left: 1em; padding-right: 1em; text-align: center; vertical-align: top\">115</td>\n",
              "        <td style=\"padding-left: 1em; padding-right: 1em; text-align: center; vertical-align: top\">Positive</td>\n",
              "        <td style=\"padding-left: 1em; padding-right: 1em; text-align: center; vertical-align: top\">67</td>\n",
              "    </tr>\n",
              "    <tr>\n",
              "        <td style=\"padding-left: 1em; padding-right: 1em; text-align: center; vertical-align: top\">Mitt-Romney</td>\n",
              "        <td style=\"padding-left: 1em; padding-right: 1em; text-align: center; vertical-align: top\">Negative</td>\n",
              "        <td style=\"padding-left: 1em; padding-right: 1em; text-align: center; vertical-align: top\">104</td>\n",
              "        <td style=\"padding-left: 1em; padding-right: 1em; text-align: center; vertical-align: top\">Positive</td>\n",
              "        <td style=\"padding-left: 1em; padding-right: 1em; text-align: center; vertical-align: top\">108</td>\n",
              "    </tr>\n",
              "    <tr>\n",
              "        <td style=\"padding-left: 1em; padding-right: 1em; text-align: center; vertical-align: top\">John-Kerry</td>\n",
              "        <td style=\"padding-left: 1em; padding-right: 1em; text-align: center; vertical-align: top\">Negative</td>\n",
              "        <td style=\"padding-left: 1em; padding-right: 1em; text-align: center; vertical-align: top\">128</td>\n",
              "        <td style=\"padding-left: 1em; padding-right: 1em; text-align: center; vertical-align: top\">Positive</td>\n",
              "        <td style=\"padding-left: 1em; padding-right: 1em; text-align: center; vertical-align: top\">84</td>\n",
              "    </tr>\n",
              "</table>\n",
              "[4 rows x 5 columns]<br/>\n",
              "</div>"
            ],
            "text/plain": [
              "Columns:\n",
              "\tpolitician\tstr\n",
              "\tsentiment\tstr\n",
              "\tarticles_sum_sentiment_neg\tint\n",
              "\tsentiment.1\tstr\n",
              "\tarticles_sum_sentiment_pos\tint\n",
              "\n",
              "Rows: 4\n",
              "\n",
              "Data:\n",
              "+--------------+-----------+----------------------------+-------------+----------------------------+\n",
              "|  politician  | sentiment | articles_sum_sentiment_neg | sentiment.1 | articles_sum_sentiment_pos |\n",
              "+--------------+-----------+----------------------------+-------------+----------------------------+\n",
              "|  Joe-Biden   |  Negative |            104             |   Positive  |             87             |\n",
              "| Donald-Trump |  Negative |            115             |   Positive  |             67             |\n",
              "| Mitt-Romney  |  Negative |            104             |   Positive  |            108             |\n",
              "|  John-Kerry  |  Negative |            128             |   Positive  |             84             |\n",
              "+--------------+-----------+----------------------------+-------------+----------------------------+\n",
              "[4 rows x 5 columns]"
            ]
          },
          "metadata": {},
          "execution_count": 34
        }
      ]
    },
    {
      "cell_type": "code",
      "metadata": {
        "colab": {
          "base_uri": "https://localhost:8080/",
          "height": 131
        },
        "id": "dEyuBbN2Vymr",
        "outputId": "8f6ac4e5-b739-499f-a157-80845ee0040d"
      },
      "source": [
        "website_data_BBC_for_analasys_SF_score"
      ],
      "execution_count": null,
      "outputs": [
        {
          "output_type": "execute_result",
          "data": {
            "text/html": [
              "<div style=\"max-height:1000px;max-width:1500px;overflow:auto;\"><table frame=\"box\" rules=\"cols\">\n",
              "    <tr>\n",
              "        <th style=\"padding-left: 1em; padding-right: 1em; text-align: center\">politician</th>\n",
              "        <th style=\"padding-left: 1em; padding-right: 1em; text-align: center\">articles_sum_score</th>\n",
              "    </tr>\n",
              "    <tr>\n",
              "        <td style=\"padding-left: 1em; padding-right: 1em; text-align: center; vertical-align: top\">Mitt-Romney</td>\n",
              "        <td style=\"padding-left: 1em; padding-right: 1em; text-align: center; vertical-align: top\">84.0</td>\n",
              "    </tr>\n",
              "    <tr>\n",
              "        <td style=\"padding-left: 1em; padding-right: 1em; text-align: center; vertical-align: top\">Joe-Biden</td>\n",
              "        <td style=\"padding-left: 1em; padding-right: 1em; text-align: center; vertical-align: top\">-150.0</td>\n",
              "    </tr>\n",
              "    <tr>\n",
              "        <td style=\"padding-left: 1em; padding-right: 1em; text-align: center; vertical-align: top\">John-Kerry</td>\n",
              "        <td style=\"padding-left: 1em; padding-right: 1em; text-align: center; vertical-align: top\">-235.0</td>\n",
              "    </tr>\n",
              "    <tr>\n",
              "        <td style=\"padding-left: 1em; padding-right: 1em; text-align: center; vertical-align: top\">Donald-Trump</td>\n",
              "        <td style=\"padding-left: 1em; padding-right: 1em; text-align: center; vertical-align: top\">-289.0</td>\n",
              "    </tr>\n",
              "</table>\n",
              "[4 rows x 2 columns]<br/>\n",
              "</div>"
            ],
            "text/plain": [
              "Columns:\n",
              "\tpolitician\tstr\n",
              "\tarticles_sum_score\tfloat\n",
              "\n",
              "Rows: 4\n",
              "\n",
              "Data:\n",
              "+--------------+--------------------+\n",
              "|  politician  | articles_sum_score |\n",
              "+--------------+--------------------+\n",
              "| Mitt-Romney  |        84.0        |\n",
              "|  Joe-Biden   |       -150.0       |\n",
              "|  John-Kerry  |       -235.0       |\n",
              "| Donald-Trump |       -289.0       |\n",
              "+--------------+--------------------+\n",
              "[4 rows x 2 columns]"
            ]
          },
          "metadata": {},
          "execution_count": 35
        }
      ]
    },
    {
      "cell_type": "code",
      "metadata": {
        "colab": {
          "base_uri": "https://localhost:8080/",
          "height": 579
        },
        "id": "gwmd_3h8S5Gx",
        "outputId": "01b70dfd-d184-46ea-8f41-c52cd121535a"
      },
      "source": [
        "import pandas as pd \n",
        "import matplotlib.pyplot as plt \n",
        "\n",
        "\n",
        "df=pd.DataFrame(website_data_BBC_for_analasys_SF_sen_NegPos,columns=[\"politician\",\"articles_sum_sentiment_neg\",\"articles_sum_sentiment_pos\"])\n",
        "df.plot(x=\"politician\", y=[\"articles_sum_sentiment_neg\", \"articles_sum_sentiment_pos\"], kind=\"bar\",figsize=(9,8))\n",
        "\n",
        "# Adding Xticks\n",
        "plt.xlabel('politicians', fontweight ='bold', fontsize = 15)\n",
        "plt.ylabel('sum', fontweight ='bold', fontsize = 15)\n",
        "plt.title(\"BBC_website politicians sum of articles by sentiment\", fontweight ='bold', fontsize = 15)\n",
        "plt.show()"
      ],
      "execution_count": null,
      "outputs": [
        {
          "output_type": "display_data",
          "data": {
            "image/png": "[encoded data removed]",
            "text/plain": [
              "<Figure size 648x576 with 1 Axes>"
            ]
          },
          "metadata": {
            "needs_background": "light"
          }
        }
      ]
    },
    {
      "cell_type": "code",
      "metadata": {
        "colab": {
          "base_uri": "https://localhost:8080/",
          "height": 579
        },
        "id": "X_Il9HGySvn4",
        "outputId": "7b737be8-2c85-40ed-c723-3e702bde621d"
      },
      "source": [
        "import pandas as pd \n",
        "import matplotlib.pyplot as plt \n",
        "\n",
        "\n",
        "df=pd.DataFrame(website_data_BBC_for_analasys_SF_score,columns=[\"politician\",\"articles_sum_score\"])\n",
        "df.plot(x=\"politician\", y=[\"articles_sum_score\"], kind=\"bar\",figsize=(9,8))\n",
        "\n",
        "# Adding Xticks\n",
        "plt.xlabel('politicians', fontweight ='bold', fontsize = 15)\n",
        "plt.ylabel('sum', fontweight ='bold', fontsize = 15)\n",
        "plt.title(\"BBC_website politicians sum of articles by score\", fontweight ='bold', fontsize = 15)\n",
        "plt.show()"
      ],
      "execution_count": null,
      "outputs": [
        {
          "output_type": "display_data",
          "data": {
            "image/png": "[encoded data removed]",
            "text/plain": [
              "<Figure size 648x576 with 1 Axes>"
            ]
          },
          "metadata": {
            "needs_background": "light"
          }
        }
      ]
    },
    {
      "cell_type": "markdown",
      "metadata": {
        "id": "jBz0GVZwpy-o"
      },
      "source": [
        "#### new-york times *website* "
      ]
    },
    {
      "cell_type": "markdown",
      "metadata": {
        "id": "dd812paUKiAp"
      },
      "source": [
        "##### NYT data"
      ]
    },
    {
      "cell_type": "code",
      "metadata": {
        "id": "_Oxc-Ebep_ws",
        "colab": {
          "base_uri": "https://localhost:8080/"
        },
        "outputId": "7c6c43f8-447e-4ec4-f42d-029fe749e164"
      },
      "source": [
        "!pip install selenium\n",
        "!apt-get update # to update ubuntu to correctly run apt install\n",
        "!apt install chromium-chromedriver\n",
        "!cp /usr/lib/chromium-browser/chromedriver /usr/bin"
      ],
      "execution_count": null,
      "outputs": [
        {
          "output_type": "stream",
          "text": [
            "Requirement already satisfied: selenium in /usr/local/lib/python3.7/dist-packages (3.141.0)\n",
            "Requirement already satisfied: urllib3 in /usr/local/lib/python3.7/dist-packages (from selenium) (1.24.3)\n",
            "Hit:1 http://security.ubuntu.com/ubuntu bionic-security InRelease\n",
            "Hit:2 https://cloud.r-project.org/bin/linux/ubuntu bionic-cran40/ InRelease\n",
            "Ign:3 https://developer.download.nvidia.com/compute/cuda/repos/ubuntu1804/x86_64  InRelease\n",
            "Ign:4 https://developer.download.nvidia.com/compute/machine-learning/repos/ubuntu1804/x86_64  InRelease\n",
            "Hit:5 https://developer.download.nvidia.com/compute/cuda/repos/ubuntu1804/x86_64  Release\n",
            "Hit:6 https://developer.download.nvidia.com/compute/machine-learning/repos/ubuntu1804/x86_64  Release\n",
            "Hit:7 http://ppa.launchpad.net/c2d4u.team/c2d4u4.0+/ubuntu bionic InRelease\n",
            "Hit:8 http://archive.ubuntu.com/ubuntu bionic InRelease\n",
            "Hit:9 http://ppa.launchpad.net/cran/libgit2/ubuntu bionic InRelease\n",
            "Get:11 http://archive.ubuntu.com/ubuntu bionic-backports InRelease [74.6 kB]\n",
            "Hit:12 http://ppa.launchpad.net/deadsnakes/ppa/ubuntu bionic InRelease\n",
            "Hit:14 http://ppa.launchpad.net/graphics-drivers/ppa/ubuntu bionic InRelease\n",
            "Get:10 http://archive.ubuntu.com/ubuntu bionic-updates InRelease [88.7 kB]\n",
            "Get:16 http://archive.ubuntu.com/ubuntu bionic-updates/universe amd64 Packages [2,199 kB]\n",
            "Get:17 http://archive.ubuntu.com/ubuntu bionic-updates/main amd64 Packages [2,730 kB]\n",
            "Fetched 5,092 kB in 3s (1,502 kB/s)\n",
            "Reading package lists... Done\n",
            "Reading package lists... Done\n",
            "Building dependency tree       \n",
            "Reading state information... Done\n",
            "chromium-chromedriver is already the newest version (92.0.4515.159-0ubuntu0.18.04.1).\n",
            "The following package was automatically installed and is no longer required:\n",
            "  libnvidia-common-460\n",
            "Use 'apt autoremove' to remove it.\n",
            "0 upgraded, 0 newly installed, 0 to remove and 57 not upgraded.\n",
            "cp: '/usr/lib/chromium-browser/chromedriver' and '/usr/bin/chromedriver' are the same file\n"
          ],
          "name": "stdout"
        }
      ]
    },
    {
      "cell_type": "markdown",
      "metadata": {
        "id": "ppksJ9nRQX9t"
      },
      "source": [
        "number of articles"
      ]
    },
    {
      "cell_type": "code",
      "metadata": {
        "id": "AwLKpkoGQa8M"
      },
      "source": [
        "num_of_articles_Mitt_Romney = 1000\n",
        "num_of_articles_kerry = 1000\n",
        "num_of_articles_trump = 1000\n",
        "num_of_articles_biden = 1000\n",
        "\n",
        "num_of_articles = 100"
      ],
      "execution_count": null,
      "outputs": []
    },
    {
      "cell_type": "markdown",
      "metadata": {
        "id": "40BQ93GqPOKM"
      },
      "source": [
        "trump"
      ]
    },
    {
      "cell_type": "code",
      "metadata": {
        "colab": {
          "base_uri": "https://localhost:8080/"
        },
        "id": "b4D0Rvs5p_9c",
        "outputId": "1650b631-a61b-43bf-b0ae-91f4cd371eba"
      },
      "source": [
        "import time\n",
        "import sys\n",
        "sys.path.insert(0,'/usr/lib/chromium-browser/chromedriver')\n",
        "from selenium import webdriver\n",
        "\n",
        "chrome_options = webdriver.ChromeOptions()\n",
        "chrome_options.add_argument('--headless')\n",
        "chrome_options.add_argument('--no-sandbox')\n",
        "chrome_options.add_argument('--disable-dev-shm-usage')\n",
        "wd = webdriver.Chrome('chromedriver',chrome_options=chrome_options)\n",
        "################################################################\n",
        "\n",
        "url = 'https://www.nytimes.com/search?dropmab=true&query=Donald%20Trump&sections=Opinion%7Cnyt%3A%2F%2Fsection%2Fd7a71185-aa60-5635-bce0-5fab76c7c297&sort=best'\n",
        "wd.get(url)\n",
        "################################################################\n",
        "\n",
        "New_york_times_articles_trump=[]\n",
        "for num in range(1,num_of_articles):\n",
        "    try:\n",
        "        headlines=wd.find_elements_by_xpath('//*[@id=\"site-content\"]/div/div[2]/div[2]/ol/li['+str(num)+']/div/div/div/a/h4')\n",
        "        for el in headlines:\n",
        "            headline=el.text\n",
        "\n",
        "        briefs= wd.find_elements_by_xpath('//*[@id=\"site-content\"]/div/div[2]/div[2]/ol/li['+str(num)+']/div/div/div/a/p[1]')\n",
        "        for el in briefs:\n",
        "            brief=el.text\n",
        "\n",
        "        headline_and_brief=['Donald-Trump', headline+\".\"+brief]    \n",
        "        New_york_times_articles_trump.append(headline_and_brief)\n",
        "\n",
        "        click_next=wd.find_element_by_xpath('//*[@id=\"site-content\"]/div/div[2]/div[3]/div/button')\n",
        "        webdriver.ActionChains(wd).move_to_element(click_next).click(click_next).perform()\n",
        "        time.sleep(0.5)\n",
        "        \n",
        "    except Exception: \n",
        "      \n",
        "      break\n"
      ],
      "execution_count": null,
      "outputs": [
        {
          "output_type": "stream",
          "text": [
            "/usr/local/lib/python3.7/dist-packages/ipykernel_launcher.py:10: DeprecationWarning: use options instead of chrome_options\n",
            "  # Remove the CWD from sys.path while we load stuff.\n"
          ],
          "name": "stderr"
        }
      ]
    },
    {
      "cell_type": "markdown",
      "metadata": {
        "id": "lCzNJfioPZpk"
      },
      "source": [
        "biden"
      ]
    },
    {
      "cell_type": "code",
      "metadata": {
        "colab": {
          "base_uri": "https://localhost:8080/"
        },
        "id": "RxNsC1cMOcxq",
        "outputId": "0aaa2541-6b88-43e5-aa7b-8e98918afd83"
      },
      "source": [
        "import time\n",
        "import sys\n",
        "sys.path.insert(0,'/usr/lib/chromium-browser/chromedriver')\n",
        "from selenium import webdriver\n",
        "\n",
        "chrome_options = webdriver.ChromeOptions()\n",
        "chrome_options.add_argument('--headless')\n",
        "chrome_options.add_argument('--no-sandbox')\n",
        "chrome_options.add_argument('--disable-dev-shm-usage')\n",
        "wd = webdriver.Chrome('chromedriver',chrome_options=chrome_options)\n",
        "################################################################\n",
        "\n",
        "url = \"https://www.nytimes.com/search?dropmab=true&query=joe%20biden&sections=Opinion%7Cnyt%3A%2F%2Fsection%2Fd7a71185-aa60-5635-bce0-5fab76c7c297&sort=best_page%3D%7B2%7D\"\n",
        "wd.get(url)\n",
        "################################################################\n",
        "\n",
        "New_york_times_articles_biden=[]\n",
        "for num in range(1,num_of_articles):\n",
        "    try:\n",
        "        headlines=wd.find_elements_by_xpath('//*[@id=\"site-content\"]/div/div[2]/div[2]/ol/li['+str(num)+']/div/div/div/a/h4')\n",
        "        for el in headlines:\n",
        "            headline=el.text\n",
        "        \n",
        "        briefs= wd.find_elements_by_xpath('//*[@id=\"site-content\"]/div/div[2]/div[2]/ol/li['+str(num)+']/div/div/div/a/p[1]')\n",
        "        for el in briefs:\n",
        "            brief=el.text\n",
        "        \n",
        "        headline_and_brief=['Joe-Biden',  headline+\".\"+brief]    \n",
        "        New_york_times_articles_biden.append(headline_and_brief)\n",
        "        click_next=wd.find_element_by_xpath('//*[@id=\"site-content\"]/div/div[2]/div[3]/div/button')\n",
        "        webdriver.ActionChains(wd).move_to_element(click_next).click(click_next).perform()\n",
        "        time.sleep(0.5)\n",
        "\n",
        "    except Exception: \n",
        "      \n",
        "      break\n",
        "\n"
      ],
      "execution_count": null,
      "outputs": [
        {
          "output_type": "stream",
          "text": [
            "/usr/local/lib/python3.7/dist-packages/ipykernel_launcher.py:10: DeprecationWarning: use options instead of chrome_options\n",
            "  # Remove the CWD from sys.path while we load stuff.\n"
          ],
          "name": "stderr"
        }
      ]
    },
    {
      "cell_type": "markdown",
      "metadata": {
        "id": "A_rAtf0QO3ih"
      },
      "source": [
        "Mitt Romney"
      ]
    },
    {
      "cell_type": "code",
      "metadata": {
        "colab": {
          "base_uri": "https://localhost:8080/"
        },
        "id": "iQruq_e4OTQz",
        "outputId": "3401f048-95d4-4b42-aca9-082b44f68c74"
      },
      "source": [
        "import time\n",
        "import sys\n",
        "sys.path.insert(0,'/usr/lib/chromium-browser/chromedriver')\n",
        "from selenium import webdriver\n",
        "\n",
        "chrome_options = webdriver.ChromeOptions()\n",
        "chrome_options.add_argument('--headless')\n",
        "chrome_options.add_argument('--no-sandbox')\n",
        "chrome_options.add_argument('--disable-dev-shm-usage')\n",
        "wd = webdriver.Chrome('chromedriver',chrome_options=chrome_options)\n",
        "################################################################\n",
        "\n",
        "url = \"https://www.nytimes.com/search?dropmab=true&query=Mitt%20Romney&sections=Opinion%7Cnyt%3A%2F%2Fsection%2Fd7a71185-aa60-5635-bce0-5fab76c7c297&sort=best\"\n",
        "wd.get(url)\n",
        "################################################################\n",
        "\n",
        "New_york_times_articles_Mitt=[]\n",
        "for num in range(1,num_of_articles):\n",
        "    try:\n",
        "        headlines=wd.find_elements_by_xpath('//*[@id=\"site-content\"]/div/div[2]/div[2]/ol/li['+str(num)+']/div/div/div/a/h4')\n",
        "        for el in headlines:\n",
        "            headline=el.text\n",
        "        \n",
        "        briefs= wd.find_elements_by_xpath('//*[@id=\"site-content\"]/div/div[2]/div[2]/ol/li['+str(num)+']/div/div/div/a/p[1]')\n",
        "        for el in briefs:\n",
        "            brief=el.text\n",
        "        \n",
        "        headline_and_brief=['Mitt-Romney',  headline+\".\"+brief]    \n",
        "        New_york_times_articles_Mitt.append(headline_and_brief)\n",
        "        click_next=wd.find_element_by_xpath('//*[@id=\"site-content\"]/div/div[2]/div[3]/div/button')\n",
        "        webdriver.ActionChains(wd).move_to_element(click_next).click(click_next).perform()\n",
        "        time.sleep(0.5)\n",
        "\n",
        "    except Exception: \n",
        "      \n",
        "      break\n"
      ],
      "execution_count": null,
      "outputs": [
        {
          "output_type": "stream",
          "text": [
            "/usr/local/lib/python3.7/dist-packages/ipykernel_launcher.py:10: DeprecationWarning: use options instead of chrome_options\n",
            "  # Remove the CWD from sys.path while we load stuff.\n"
          ],
          "name": "stderr"
        }
      ]
    },
    {
      "cell_type": "markdown",
      "metadata": {
        "id": "49Bx1-ZKPhg8"
      },
      "source": [
        "Jhon Kerry\n"
      ]
    },
    {
      "cell_type": "code",
      "metadata": {
        "colab": {
          "base_uri": "https://localhost:8080/"
        },
        "id": "0G-3puQCOc1Y",
        "outputId": "860f0c7c-ae1a-4cf4-9fcd-170a0cc60a48"
      },
      "source": [
        "import time\n",
        "import sys\n",
        "sys.path.insert(0,'/usr/lib/chromium-browser/chromedriver')\n",
        "from selenium import webdriver\n",
        "\n",
        "chrome_options = webdriver.ChromeOptions()\n",
        "chrome_options.add_argument('--headless')\n",
        "chrome_options.add_argument('--no-sandbox')\n",
        "chrome_options.add_argument('--disable-dev-shm-usage')\n",
        "wd = webdriver.Chrome('chromedriver',chrome_options=chrome_options)\n",
        "################################################################\n",
        "\n",
        "url = \"https://www.nytimes.com/search?dropmab=true&query=John%20Kerry&sections=Opinion%7Cnyt%3A%2F%2Fsection%2Fd7a71185-aa60-5635-bce0-5fab76c7c297&sort=best\"\n",
        "wd.get(url)\n",
        "################################################################\n",
        "\n",
        "New_york_times_articles_Jhon=[]\n",
        "for num in range(1,num_of_articles):\n",
        "    try:\n",
        "        headlines=wd.find_elements_by_xpath('//*[@id=\"site-content\"]/div/div[2]/div[2]/ol/li['+str(num)+']/div/div/div/a/h4')\n",
        "        for el in headlines:\n",
        "            headline=el.text\n",
        "\n",
        "        briefs= wd.find_elements_by_xpath('//*[@id=\"site-content\"]/div/div[2]/div[2]/ol/li['+str(num)+']/div/div/div/a/p[1]')\n",
        "        for el in briefs:\n",
        "            brief=el.text\n",
        "\n",
        "        headline_and_brief=['John-Kerry',  headline+\".\"+brief]    \n",
        "        New_york_times_articles_Jhon.append(headline_and_brief)\n",
        "        click_next=wd.find_element_by_xpath('//*[@id=\"site-content\"]/div/div[2]/div[3]/div/button')\n",
        "        webdriver.ActionChains(wd).move_to_element(click_next).click(click_next).perform()\n",
        "        time.sleep(0.5)\n",
        "\n",
        "    except Exception: \n",
        "      break\n",
        "\n"
      ],
      "execution_count": null,
      "outputs": [
        {
          "output_type": "stream",
          "text": [
            "/usr/local/lib/python3.7/dist-packages/ipykernel_launcher.py:10: DeprecationWarning: use options instead of chrome_options\n",
            "  # Remove the CWD from sys.path while we load stuff.\n"
          ],
          "name": "stderr"
        }
      ]
    },
    {
      "cell_type": "code",
      "metadata": {
        "colab": {
          "base_uri": "https://localhost:8080/"
        },
        "id": "qtm4r1TbOc4h",
        "outputId": "fa933732-098c-4dbe-857b-44f5f2101ace"
      },
      "source": [
        "print(len(New_york_times_articles_trump))\n",
        "\n",
        "print(len(New_york_times_articles_Mitt))\n",
        "\n",
        "print(len(New_york_times_articles_biden))\n",
        "\n",
        "print(len(New_york_times_articles_Jhon))\n",
        "\n"
      ],
      "execution_count": null,
      "outputs": [
        {
          "output_type": "stream",
          "text": [
            "19\n",
            "99\n",
            "99\n",
            "99\n"
          ],
          "name": "stdout"
        }
      ]
    },
    {
      "cell_type": "code",
      "metadata": {
        "id": "fmP0wV6qOc75"
      },
      "source": [
        "all_data_from_wesite_New_York_times = []\n",
        "all_data_from_wesite_New_York_times.extend(New_york_times_articles_Jhon)\n",
        "all_data_from_wesite_New_York_times.extend(New_york_times_articles_trump)\n",
        "all_data_from_wesite_New_York_times.extend(New_york_times_articles_biden)\n",
        "all_data_from_wesite_New_York_times.extend(New_york_times_articles_Mitt)\n",
        "all_data_from_wesite_New_York_times\n",
        "\n",
        "#######################################################for testing\n",
        "# all_data_from_wesite_New_York_times = []\n",
        "# all_data_from_wesite_New_York_times.extend(New_york_times_articles_Jhon)\n",
        "# all_data_from_wesite_New_York_times.extend(New_york_times_articles_Jhon)\n",
        "# all_data_from_wesite_New_York_times.extend(New_york_times_articles_Jhon)\n",
        "# all_data_from_wesite_New_York_times.extend(New_york_times_articles_Jhon)\n",
        "# all_data_from_wesite_New_York_times.extend(New_york_times_articles_Jhon)\n",
        "# all_data_from_wesite_New_York_times.extend(New_york_times_articles_Jhon)\n",
        "# all_data_from_wesite_New_York_times.extend(New_york_times_articles_Jhon)\n",
        "# all_data_from_wesite_New_York_times.extend(New_york_times_articles_Jhon)\n",
        "# all_data_from_wesite_New_York_times.extend(New_york_times_articles_Jhon)\n",
        "# all_data_from_wesite_New_York_times.extend(New_york_times_articles_Jhon)\n",
        "\n",
        "# all_data_from_wesite_New_York_times.extend(New_york_times_articles_trump)\n",
        "# all_data_from_wesite_New_York_times.extend(New_york_times_articles_trump)\n",
        "# all_data_from_wesite_New_York_times.extend(New_york_times_articles_trump)\n",
        "# all_data_from_wesite_New_York_times.extend(New_york_times_articles_trump)\n",
        "# all_data_from_wesite_New_York_times.extend(New_york_times_articles_trump)\n",
        "# all_data_from_wesite_New_York_times.extend(New_york_times_articles_trump)\n",
        "# all_data_from_wesite_New_York_times.extend(New_york_times_articles_trump)\n",
        "# all_data_from_wesite_New_York_times.extend(New_york_times_articles_trump)\n",
        "# all_data_from_wesite_New_York_times.extend(New_york_times_articles_trump)\n",
        "# all_data_from_wesite_New_York_times.extend(New_york_times_articles_trump)\n",
        "\n",
        "# all_data_from_wesite_New_York_times.extend(New_york_times_articles_biden)\n",
        "# all_data_from_wesite_New_York_times.extend(New_york_times_articles_biden)\n",
        "# all_data_from_wesite_New_York_times.extend(New_york_times_articles_biden)\n",
        "# all_data_from_wesite_New_York_times.extend(New_york_times_articles_biden)\n",
        "# all_data_from_wesite_New_York_times.extend(New_york_times_articles_biden)\n",
        "# all_data_from_wesite_New_York_times.extend(New_york_times_articles_biden)\n",
        "# all_data_from_wesite_New_York_times.extend(New_york_times_articles_biden)\n",
        "# all_data_from_wesite_New_York_times.extend(New_york_times_articles_biden)\n",
        "# all_data_from_wesite_New_York_times.extend(New_york_times_articles_biden)\n",
        "# all_data_from_wesite_New_York_times.extend(New_york_times_articles_biden)\n",
        "\n",
        "# all_data_from_wesite_New_York_times.extend(New_york_times_articles_Mitt)\n",
        "# all_data_from_wesite_New_York_times.extend(New_york_times_articles_Mitt)\n",
        "# all_data_from_wesite_New_York_times.extend(New_york_times_articles_Mitt)\n",
        "# all_data_from_wesite_New_York_times.extend(New_york_times_articles_Mitt)\n",
        "# all_data_from_wesite_New_York_times.extend(New_york_times_articles_Mitt)\n",
        "# all_data_from_wesite_New_York_times.extend(New_york_times_articles_Mitt)\n",
        "# all_data_from_wesite_New_York_times.extend(New_york_times_articles_Mitt)\n",
        "# all_data_from_wesite_New_York_times.extend(New_york_times_articles_Mitt)\n",
        "# all_data_from_wesite_New_York_times.extend(New_york_times_articles_Mitt)\n",
        "# all_data_from_wesite_New_York_times.extend(New_york_times_articles_Mitt)\n",
        "# all_data_from_wesite_New_York_times"
      ],
      "execution_count": null,
      "outputs": []
    },
    {
      "cell_type": "code",
      "metadata": {
        "id": "rEMdMBzPx735"
      },
      "source": [],
      "execution_count": null,
      "outputs": []
    },
    {
      "cell_type": "code",
      "metadata": {
        "id": "ugXG61t9S17S"
      },
      "source": [
        "New_york_times_df = pd.DataFrame( columns=['politician', 'content'])\n",
        "\n",
        "for article in all_data_from_wesite_New_York_times:\n",
        "  name = str( article[0] )\n",
        "  content = str( article[1] )\n",
        "  New_york_times_df = New_york_times_df.append( {'politician' : name, 'content' : content}, ignore_index=True)"
      ],
      "execution_count": null,
      "outputs": []
    },
    {
      "cell_type": "code",
      "metadata": {
        "colab": {
          "base_uri": "https://localhost:8080/",
          "height": 419
        },
        "id": "9OJUzmHjOdEK",
        "outputId": "299dec3d-51b2-4831-daca-c1c8c7292ffe"
      },
      "source": [
        "New_york_times_df"
      ],
      "execution_count": null,
      "outputs": [
        {
          "output_type": "execute_result",
          "data": {
            "text/html": [
              "<div>\n",
              "<style scoped>\n",
              "    .dataframe tbody tr th:only-of-type {\n",
              "        vertical-align: middle;\n",
              "    }\n",
              "\n",
              "    .dataframe tbody tr th {\n",
              "        vertical-align: top;\n",
              "    }\n",
              "\n",
              "    .dataframe thead th {\n",
              "        text-align: right;\n",
              "    }\n",
              "</style>\n",
              "<table border=\"1\" class=\"dataframe\">\n",
              "  <thead>\n",
              "    <tr style=\"text-align: right;\">\n",
              "      <th></th>\n",
              "      <th>politician</th>\n",
              "      <th>content</th>\n",
              "    </tr>\n",
              "  </thead>\n",
              "  <tbody>\n",
              "    <tr>\n",
              "      <th>0</th>\n",
              "      <td>John-Kerry</td>\n",
              "      <td>John Kerry Speaks.Mitt Romney has been knockin...</td>\n",
              "    </tr>\n",
              "    <tr>\n",
              "      <th>1</th>\n",
              "      <td>John-Kerry</td>\n",
              "      <td>Springtime for John Kerry.Mitt Romney has been...</td>\n",
              "    </tr>\n",
              "    <tr>\n",
              "      <th>2</th>\n",
              "      <td>John-Kerry</td>\n",
              "      <td>John Kerry and War.Mitt Romney has been knocki...</td>\n",
              "    </tr>\n",
              "    <tr>\n",
              "      <th>3</th>\n",
              "      <td>John-Kerry</td>\n",
              "      <td>John Kerry for President.Mitt Romney has been ...</td>\n",
              "    </tr>\n",
              "    <tr>\n",
              "      <th>4</th>\n",
              "      <td>John-Kerry</td>\n",
              "      <td>John Kerry for President.Mitt Romney has been ...</td>\n",
              "    </tr>\n",
              "    <tr>\n",
              "      <th>...</th>\n",
              "      <td>...</td>\n",
              "      <td>...</td>\n",
              "    </tr>\n",
              "    <tr>\n",
              "      <th>3155</th>\n",
              "      <td>Mitt-Romney</td>\n",
              "      <td>Why the U.S. Needs the Romney Family Plan.Amer...</td>\n",
              "    </tr>\n",
              "    <tr>\n",
              "      <th>3156</th>\n",
              "      <td>Mitt-Romney</td>\n",
              "      <td>The Corrupt, the Clueless and Joe Biden.Unity ...</td>\n",
              "    </tr>\n",
              "    <tr>\n",
              "      <th>3157</th>\n",
              "      <td>Mitt-Romney</td>\n",
              "      <td>Mitt! Mitt! Mitt!.How about a refresher on all...</td>\n",
              "    </tr>\n",
              "    <tr>\n",
              "      <th>3158</th>\n",
              "      <td>Mitt-Romney</td>\n",
              "      <td>Mitt Likes Music, Including This.The Gregory B...</td>\n",
              "    </tr>\n",
              "    <tr>\n",
              "      <th>3159</th>\n",
              "      <td>Mitt-Romney</td>\n",
              "      <td>The Curse of the Mitt.Mitt Romney has been kno...</td>\n",
              "    </tr>\n",
              "  </tbody>\n",
              "</table>\n",
              "<p>3160 rows × 2 columns</p>\n",
              "</div>"
            ],
            "text/plain": [
              "       politician                                            content\n",
              "0      John-Kerry  John Kerry Speaks.Mitt Romney has been knockin...\n",
              "1      John-Kerry  Springtime for John Kerry.Mitt Romney has been...\n",
              "2      John-Kerry  John Kerry and War.Mitt Romney has been knocki...\n",
              "3      John-Kerry  John Kerry for President.Mitt Romney has been ...\n",
              "4      John-Kerry  John Kerry for President.Mitt Romney has been ...\n",
              "...           ...                                                ...\n",
              "3155  Mitt-Romney  Why the U.S. Needs the Romney Family Plan.Amer...\n",
              "3156  Mitt-Romney  The Corrupt, the Clueless and Joe Biden.Unity ...\n",
              "3157  Mitt-Romney  Mitt! Mitt! Mitt!.How about a refresher on all...\n",
              "3158  Mitt-Romney  Mitt Likes Music, Including This.The Gregory B...\n",
              "3159  Mitt-Romney  The Curse of the Mitt.Mitt Romney has been kno...\n",
              "\n",
              "[3160 rows x 2 columns]"
            ]
          },
          "metadata": {},
          "execution_count": 70
        }
      ]
    },
    {
      "cell_type": "markdown",
      "metadata": {
        "id": "uv9CAhSRXCUG"
      },
      "source": [
        "##### nyt-afinn"
      ]
    },
    {
      "cell_type": "code",
      "metadata": {
        "id": "A9AjkDQbXG4O"
      },
      "source": [
        "New_york_times_analasys = New_york_times_df"
      ],
      "execution_count": null,
      "outputs": []
    },
    {
      "cell_type": "code",
      "metadata": {
        "colab": {
          "base_uri": "https://localhost:8080/",
          "height": 419
        },
        "id": "mgHKPeLakVnZ",
        "outputId": "46a421e0-4640-4415-8b1d-db709675b670"
      },
      "source": [
        "New_york_times_analasys"
      ],
      "execution_count": null,
      "outputs": [
        {
          "output_type": "execute_result",
          "data": {
            "text/html": [
              "<div>\n",
              "<style scoped>\n",
              "    .dataframe tbody tr th:only-of-type {\n",
              "        vertical-align: middle;\n",
              "    }\n",
              "\n",
              "    .dataframe tbody tr th {\n",
              "        vertical-align: top;\n",
              "    }\n",
              "\n",
              "    .dataframe thead th {\n",
              "        text-align: right;\n",
              "    }\n",
              "</style>\n",
              "<table border=\"1\" class=\"dataframe\">\n",
              "  <thead>\n",
              "    <tr style=\"text-align: right;\">\n",
              "      <th></th>\n",
              "      <th>politician</th>\n",
              "      <th>content</th>\n",
              "      <th>content_afinn_score</th>\n",
              "    </tr>\n",
              "  </thead>\n",
              "  <tbody>\n",
              "    <tr>\n",
              "      <th>0</th>\n",
              "      <td>John-Kerry</td>\n",
              "      <td>John Kerry Speaks.Mitt Romney has been knockin...</td>\n",
              "      <td>0.0</td>\n",
              "    </tr>\n",
              "    <tr>\n",
              "      <th>1</th>\n",
              "      <td>John-Kerry</td>\n",
              "      <td>Springtime for John Kerry.Mitt Romney has been...</td>\n",
              "      <td>0.0</td>\n",
              "    </tr>\n",
              "    <tr>\n",
              "      <th>2</th>\n",
              "      <td>John-Kerry</td>\n",
              "      <td>John Kerry and War.Mitt Romney has been knocki...</td>\n",
              "      <td>-2.0</td>\n",
              "    </tr>\n",
              "    <tr>\n",
              "      <th>3</th>\n",
              "      <td>John-Kerry</td>\n",
              "      <td>John Kerry for President.Mitt Romney has been ...</td>\n",
              "      <td>0.0</td>\n",
              "    </tr>\n",
              "    <tr>\n",
              "      <th>4</th>\n",
              "      <td>John-Kerry</td>\n",
              "      <td>John Kerry for President.Mitt Romney has been ...</td>\n",
              "      <td>0.0</td>\n",
              "    </tr>\n",
              "    <tr>\n",
              "      <th>...</th>\n",
              "      <td>...</td>\n",
              "      <td>...</td>\n",
              "      <td>...</td>\n",
              "    </tr>\n",
              "    <tr>\n",
              "      <th>3155</th>\n",
              "      <td>Mitt-Romney</td>\n",
              "      <td>Why the U.S. Needs the Romney Family Plan.Amer...</td>\n",
              "      <td>0.0</td>\n",
              "    </tr>\n",
              "    <tr>\n",
              "      <th>3156</th>\n",
              "      <td>Mitt-Romney</td>\n",
              "      <td>The Corrupt, the Clueless and Joe Biden.Unity ...</td>\n",
              "      <td>-3.0</td>\n",
              "    </tr>\n",
              "    <tr>\n",
              "      <th>3157</th>\n",
              "      <td>Mitt-Romney</td>\n",
              "      <td>Mitt! Mitt! Mitt!.How about a refresher on all...</td>\n",
              "      <td>2.0</td>\n",
              "    </tr>\n",
              "    <tr>\n",
              "      <th>3158</th>\n",
              "      <td>Mitt-Romney</td>\n",
              "      <td>Mitt Likes Music, Including This.The Gregory B...</td>\n",
              "      <td>4.0</td>\n",
              "    </tr>\n",
              "    <tr>\n",
              "      <th>3159</th>\n",
              "      <td>Mitt-Romney</td>\n",
              "      <td>The Curse of the Mitt.Mitt Romney has been kno...</td>\n",
              "      <td>-1.0</td>\n",
              "    </tr>\n",
              "  </tbody>\n",
              "</table>\n",
              "<p>3160 rows × 3 columns</p>\n",
              "</div>"
            ],
            "text/plain": [
              "       politician  ... content_afinn_score\n",
              "0      John-Kerry  ...                 0.0\n",
              "1      John-Kerry  ...                 0.0\n",
              "2      John-Kerry  ...                -2.0\n",
              "3      John-Kerry  ...                 0.0\n",
              "4      John-Kerry  ...                 0.0\n",
              "...           ...  ...                 ...\n",
              "3155  Mitt-Romney  ...                 0.0\n",
              "3156  Mitt-Romney  ...                -3.0\n",
              "3157  Mitt-Romney  ...                 2.0\n",
              "3158  Mitt-Romney  ...                 4.0\n",
              "3159  Mitt-Romney  ...                -1.0\n",
              "\n",
              "[3160 rows x 3 columns]"
            ]
          },
          "metadata": {},
          "execution_count": 87
        }
      ]
    },
    {
      "cell_type": "code",
      "metadata": {
        "id": "VoGnPaaSXHAp"
      },
      "source": [
        "def label2sentiment(label):\n",
        "    if label >= 0:\n",
        "        return \"Positive\"\n",
        "    else:\n",
        "        return \"Negative\""
      ],
      "execution_count": null,
      "outputs": []
    },
    {
      "cell_type": "code",
      "metadata": {
        "id": "eTEK-eZrXYib"
      },
      "source": [
        "import turicreate.aggregate as agg"
      ],
      "execution_count": null,
      "outputs": []
    },
    {
      "cell_type": "code",
      "metadata": {
        "id": "bn7fDe2EXYoe"
      },
      "source": [
        "New_york_times_analasys['content_afinn_score'] = New_york_times_analasys['content'].apply(lambda t: afinn.score(t))"
      ],
      "execution_count": null,
      "outputs": []
    },
    {
      "cell_type": "code",
      "metadata": {
        "id": "1KNxZqtjXYrU"
      },
      "source": [
        "New_york_times_analasys = New_york_times_analasys[New_york_times_analasys['content_afinn_score'] != 0] #delete title with score 0 not pos and not neg"
      ],
      "execution_count": null,
      "outputs": []
    },
    {
      "cell_type": "code",
      "metadata": {
        "colab": {
          "base_uri": "https://localhost:8080/",
          "height": 419
        },
        "id": "pxY8r4JAXzil",
        "outputId": "47216da9-5cd4-4e45-c6b0-279c3cff2af7"
      },
      "source": [
        "New_york_times_analasys"
      ],
      "execution_count": null,
      "outputs": [
        {
          "output_type": "execute_result",
          "data": {
            "text/html": [
              "<div>\n",
              "<style scoped>\n",
              "    .dataframe tbody tr th:only-of-type {\n",
              "        vertical-align: middle;\n",
              "    }\n",
              "\n",
              "    .dataframe tbody tr th {\n",
              "        vertical-align: top;\n",
              "    }\n",
              "\n",
              "    .dataframe thead th {\n",
              "        text-align: right;\n",
              "    }\n",
              "</style>\n",
              "<table border=\"1\" class=\"dataframe\">\n",
              "  <thead>\n",
              "    <tr style=\"text-align: right;\">\n",
              "      <th></th>\n",
              "      <th>politician</th>\n",
              "      <th>content</th>\n",
              "      <th>content_afinn_score</th>\n",
              "    </tr>\n",
              "  </thead>\n",
              "  <tbody>\n",
              "    <tr>\n",
              "      <th>0</th>\n",
              "      <td>John-Kerry</td>\n",
              "      <td>John Kerry Speaks.Mitt Romney has been knockin...</td>\n",
              "      <td>0.0</td>\n",
              "    </tr>\n",
              "    <tr>\n",
              "      <th>1</th>\n",
              "      <td>John-Kerry</td>\n",
              "      <td>Springtime for John Kerry.Mitt Romney has been...</td>\n",
              "      <td>0.0</td>\n",
              "    </tr>\n",
              "    <tr>\n",
              "      <th>2</th>\n",
              "      <td>John-Kerry</td>\n",
              "      <td>John Kerry and War.Mitt Romney has been knocki...</td>\n",
              "      <td>-2.0</td>\n",
              "    </tr>\n",
              "    <tr>\n",
              "      <th>3</th>\n",
              "      <td>John-Kerry</td>\n",
              "      <td>John Kerry for President.Mitt Romney has been ...</td>\n",
              "      <td>0.0</td>\n",
              "    </tr>\n",
              "    <tr>\n",
              "      <th>4</th>\n",
              "      <td>John-Kerry</td>\n",
              "      <td>John Kerry for President.Mitt Romney has been ...</td>\n",
              "      <td>0.0</td>\n",
              "    </tr>\n",
              "    <tr>\n",
              "      <th>...</th>\n",
              "      <td>...</td>\n",
              "      <td>...</td>\n",
              "      <td>...</td>\n",
              "    </tr>\n",
              "    <tr>\n",
              "      <th>3155</th>\n",
              "      <td>Mitt-Romney</td>\n",
              "      <td>Why the U.S. Needs the Romney Family Plan.Amer...</td>\n",
              "      <td>0.0</td>\n",
              "    </tr>\n",
              "    <tr>\n",
              "      <th>3156</th>\n",
              "      <td>Mitt-Romney</td>\n",
              "      <td>The Corrupt, the Clueless and Joe Biden.Unity ...</td>\n",
              "      <td>-3.0</td>\n",
              "    </tr>\n",
              "    <tr>\n",
              "      <th>3157</th>\n",
              "      <td>Mitt-Romney</td>\n",
              "      <td>Mitt! Mitt! Mitt!.How about a refresher on all...</td>\n",
              "      <td>2.0</td>\n",
              "    </tr>\n",
              "    <tr>\n",
              "      <th>3158</th>\n",
              "      <td>Mitt-Romney</td>\n",
              "      <td>Mitt Likes Music, Including This.The Gregory B...</td>\n",
              "      <td>4.0</td>\n",
              "    </tr>\n",
              "    <tr>\n",
              "      <th>3159</th>\n",
              "      <td>Mitt-Romney</td>\n",
              "      <td>The Curse of the Mitt.Mitt Romney has been kno...</td>\n",
              "      <td>-1.0</td>\n",
              "    </tr>\n",
              "  </tbody>\n",
              "</table>\n",
              "<p>3160 rows × 3 columns</p>\n",
              "</div>"
            ],
            "text/plain": [
              "       politician  ... content_afinn_score\n",
              "0      John-Kerry  ...                 0.0\n",
              "1      John-Kerry  ...                 0.0\n",
              "2      John-Kerry  ...                -2.0\n",
              "3      John-Kerry  ...                 0.0\n",
              "4      John-Kerry  ...                 0.0\n",
              "...           ...  ...                 ...\n",
              "3155  Mitt-Romney  ...                 0.0\n",
              "3156  Mitt-Romney  ...                -3.0\n",
              "3157  Mitt-Romney  ...                 2.0\n",
              "3158  Mitt-Romney  ...                 4.0\n",
              "3159  Mitt-Romney  ...                -1.0\n",
              "\n",
              "[3160 rows x 3 columns]"
            ]
          },
          "metadata": {},
          "execution_count": 91
        }
      ]
    },
    {
      "cell_type": "code",
      "metadata": {
        "id": "WXupq0V3XYtx"
      },
      "source": [
        "New_york_times_analasys['sentiment'] = New_york_times_analasys['content_afinn_score'].apply(lambda label: label2sentiment(label))"
      ],
      "execution_count": null,
      "outputs": []
    },
    {
      "cell_type": "code",
      "metadata": {
        "id": "8k4Dt30hXYwM"
      },
      "source": [
        "New_york_times_analasys_SF  = tc.SFrame( New_york_times_analasys )\n",
        "New_york_times_analasys_SF = New_york_times_analasys_SF['politician', 'content_afinn_score', 'sentiment']"
      ],
      "execution_count": null,
      "outputs": []
    },
    {
      "cell_type": "code",
      "metadata": {
        "id": "nhlXw3l6XYyt"
      },
      "source": [
        "New_york_times_analasys_SF_sen = New_york_times_analasys_SF.groupby(['politician','sentiment'],{\"articles_sum_sentiment\":agg.COUNT()})\n",
        "New_york_times_analasys_SF_score = New_york_times_analasys_SF.groupby(['politician'],{\"articles_sum_score\":agg.SUM('content_afinn_score')})"
      ],
      "execution_count": null,
      "outputs": []
    },
    {
      "cell_type": "code",
      "metadata": {
        "id": "Tf3alEQcXY1f"
      },
      "source": [
        "New_york_times_analasys_SF_sen_neg = New_york_times_analasys_SF_sen\n",
        "New_york_times_analasys_SF_sen_pos = New_york_times_analasys_SF_sen"
      ],
      "execution_count": null,
      "outputs": []
    },
    {
      "cell_type": "code",
      "metadata": {
        "id": "Bk_E6GyfXleg"
      },
      "source": [
        "New_york_times_analasys_SF_sen_neg = New_york_times_analasys_SF_sen_neg[ New_york_times_analasys_SF_sen_neg['sentiment']=='Negative' ]\n",
        "New_york_times_analasys_SF_sen_pos = New_york_times_analasys_SF_sen_pos[ New_york_times_analasys_SF_sen_pos['sentiment']=='Positive' ]"
      ],
      "execution_count": null,
      "outputs": []
    },
    {
      "cell_type": "code",
      "metadata": {
        "id": "wOevWLnQXlnI"
      },
      "source": [
        "New_york_times_analasys_SF_negPos = New_york_times_analasys_SF_sen_neg.join(New_york_times_analasys_SF_sen_pos, on='politician', how='inner')"
      ],
      "execution_count": null,
      "outputs": []
    },
    {
      "cell_type": "code",
      "metadata": {
        "id": "NIxlGCTNXlqS"
      },
      "source": [
        "New_york_times_analasys_SF_negPos = New_york_times_analasys_SF_negPos.rename( {'articles_sum_sentiment.1': 'sum_sen_pos'} )\n",
        "New_york_times_analasys_SF_negPos = New_york_times_analasys_SF_negPos.rename( {'articles_sum_sentiment': 'sum_sen_neg'} )"
      ],
      "execution_count": null,
      "outputs": []
    },
    {
      "cell_type": "code",
      "metadata": {
        "colab": {
          "base_uri": "https://localhost:8080/",
          "height": 131
        },
        "id": "bGeaoOBiXlsZ",
        "outputId": "8c5eb557-2767-4d9d-c25c-758a0c57224e"
      },
      "source": [
        "New_york_times_analasys_SF_negPos"
      ],
      "execution_count": null,
      "outputs": [
        {
          "output_type": "execute_result",
          "data": {
            "text/html": [
              "<div style=\"max-height:1000px;max-width:1500px;overflow:auto;\"><table frame=\"box\" rules=\"cols\">\n",
              "    <tr>\n",
              "        <th style=\"padding-left: 1em; padding-right: 1em; text-align: center\">politician</th>\n",
              "        <th style=\"padding-left: 1em; padding-right: 1em; text-align: center\">sentiment</th>\n",
              "        <th style=\"padding-left: 1em; padding-right: 1em; text-align: center\">sum_sen_neg</th>\n",
              "        <th style=\"padding-left: 1em; padding-right: 1em; text-align: center\">sentiment.1</th>\n",
              "        <th style=\"padding-left: 1em; padding-right: 1em; text-align: center\">sum_sen_pos</th>\n",
              "    </tr>\n",
              "    <tr>\n",
              "        <td style=\"padding-left: 1em; padding-right: 1em; text-align: center; vertical-align: top\">Joe-Biden</td>\n",
              "        <td style=\"padding-left: 1em; padding-right: 1em; text-align: center; vertical-align: top\">Negative</td>\n",
              "        <td style=\"padding-left: 1em; padding-right: 1em; text-align: center; vertical-align: top\">480</td>\n",
              "        <td style=\"padding-left: 1em; padding-right: 1em; text-align: center; vertical-align: top\">Positive</td>\n",
              "        <td style=\"padding-left: 1em; padding-right: 1em; text-align: center; vertical-align: top\">510</td>\n",
              "    </tr>\n",
              "    <tr>\n",
              "        <td style=\"padding-left: 1em; padding-right: 1em; text-align: center; vertical-align: top\">Donald-Trump</td>\n",
              "        <td style=\"padding-left: 1em; padding-right: 1em; text-align: center; vertical-align: top\">Negative</td>\n",
              "        <td style=\"padding-left: 1em; padding-right: 1em; text-align: center; vertical-align: top\">110</td>\n",
              "        <td style=\"padding-left: 1em; padding-right: 1em; text-align: center; vertical-align: top\">Positive</td>\n",
              "        <td style=\"padding-left: 1em; padding-right: 1em; text-align: center; vertical-align: top\">80</td>\n",
              "    </tr>\n",
              "    <tr>\n",
              "        <td style=\"padding-left: 1em; padding-right: 1em; text-align: center; vertical-align: top\">Mitt-Romney</td>\n",
              "        <td style=\"padding-left: 1em; padding-right: 1em; text-align: center; vertical-align: top\">Negative</td>\n",
              "        <td style=\"padding-left: 1em; padding-right: 1em; text-align: center; vertical-align: top\">310</td>\n",
              "        <td style=\"padding-left: 1em; padding-right: 1em; text-align: center; vertical-align: top\">Positive</td>\n",
              "        <td style=\"padding-left: 1em; padding-right: 1em; text-align: center; vertical-align: top\">680</td>\n",
              "    </tr>\n",
              "    <tr>\n",
              "        <td style=\"padding-left: 1em; padding-right: 1em; text-align: center; vertical-align: top\">John-Kerry</td>\n",
              "        <td style=\"padding-left: 1em; padding-right: 1em; text-align: center; vertical-align: top\">Negative</td>\n",
              "        <td style=\"padding-left: 1em; padding-right: 1em; text-align: center; vertical-align: top\">220</td>\n",
              "        <td style=\"padding-left: 1em; padding-right: 1em; text-align: center; vertical-align: top\">Positive</td>\n",
              "        <td style=\"padding-left: 1em; padding-right: 1em; text-align: center; vertical-align: top\">770</td>\n",
              "    </tr>\n",
              "</table>\n",
              "[4 rows x 5 columns]<br/>\n",
              "</div>"
            ],
            "text/plain": [
              "Columns:\n",
              "\tpolitician\tstr\n",
              "\tsentiment\tstr\n",
              "\tsum_sen_neg\tint\n",
              "\tsentiment.1\tstr\n",
              "\tsum_sen_pos\tint\n",
              "\n",
              "Rows: 4\n",
              "\n",
              "Data:\n",
              "+--------------+-----------+-------------+-------------+-------------+\n",
              "|  politician  | sentiment | sum_sen_neg | sentiment.1 | sum_sen_pos |\n",
              "+--------------+-----------+-------------+-------------+-------------+\n",
              "|  Joe-Biden   |  Negative |     480     |   Positive  |     510     |\n",
              "| Donald-Trump |  Negative |     110     |   Positive  |      80     |\n",
              "| Mitt-Romney  |  Negative |     310     |   Positive  |     680     |\n",
              "|  John-Kerry  |  Negative |     220     |   Positive  |     770     |\n",
              "+--------------+-----------+-------------+-------------+-------------+\n",
              "[4 rows x 5 columns]"
            ]
          },
          "metadata": {},
          "execution_count": 99
        }
      ]
    },
    {
      "cell_type": "markdown",
      "metadata": {
        "id": "ZddKILiwZW-O"
      },
      "source": [
        "##### nyt analasis"
      ]
    },
    {
      "cell_type": "code",
      "metadata": {
        "colab": {
          "base_uri": "https://localhost:8080/",
          "height": 131
        },
        "id": "w2TB1SdxZcTn",
        "outputId": "869dce1a-89a0-405d-9b42-581bd549c27e"
      },
      "source": [
        "New_york_times_analasys_SF_score"
      ],
      "execution_count": null,
      "outputs": [
        {
          "output_type": "execute_result",
          "data": {
            "text/html": [
              "<div style=\"max-height:1000px;max-width:1500px;overflow:auto;\"><table frame=\"box\" rules=\"cols\">\n",
              "    <tr>\n",
              "        <th style=\"padding-left: 1em; padding-right: 1em; text-align: center\">politician</th>\n",
              "        <th style=\"padding-left: 1em; padding-right: 1em; text-align: center\">articles_sum_score</th>\n",
              "    </tr>\n",
              "    <tr>\n",
              "        <td style=\"padding-left: 1em; padding-right: 1em; text-align: center; vertical-align: top\">Mitt-Romney</td>\n",
              "        <td style=\"padding-left: 1em; padding-right: 1em; text-align: center; vertical-align: top\">230.0</td>\n",
              "    </tr>\n",
              "    <tr>\n",
              "        <td style=\"padding-left: 1em; padding-right: 1em; text-align: center; vertical-align: top\">Joe-Biden</td>\n",
              "        <td style=\"padding-left: 1em; padding-right: 1em; text-align: center; vertical-align: top\">-360.0</td>\n",
              "    </tr>\n",
              "    <tr>\n",
              "        <td style=\"padding-left: 1em; padding-right: 1em; text-align: center; vertical-align: top\">John-Kerry</td>\n",
              "        <td style=\"padding-left: 1em; padding-right: 1em; text-align: center; vertical-align: top\">920.0</td>\n",
              "    </tr>\n",
              "    <tr>\n",
              "        <td style=\"padding-left: 1em; padding-right: 1em; text-align: center; vertical-align: top\">Donald-Trump</td>\n",
              "        <td style=\"padding-left: 1em; padding-right: 1em; text-align: center; vertical-align: top\">-160.0</td>\n",
              "    </tr>\n",
              "</table>\n",
              "[4 rows x 2 columns]<br/>\n",
              "</div>"
            ],
            "text/plain": [
              "Columns:\n",
              "\tpolitician\tstr\n",
              "\tarticles_sum_score\tfloat\n",
              "\n",
              "Rows: 4\n",
              "\n",
              "Data:\n",
              "+--------------+--------------------+\n",
              "|  politician  | articles_sum_score |\n",
              "+--------------+--------------------+\n",
              "| Mitt-Romney  |       230.0        |\n",
              "|  Joe-Biden   |       -360.0       |\n",
              "|  John-Kerry  |       920.0        |\n",
              "| Donald-Trump |       -160.0       |\n",
              "+--------------+--------------------+\n",
              "[4 rows x 2 columns]"
            ]
          },
          "metadata": {},
          "execution_count": 100
        }
      ]
    },
    {
      "cell_type": "code",
      "metadata": {
        "colab": {
          "base_uri": "https://localhost:8080/",
          "height": 131
        },
        "id": "0jYE1m1CZcc2",
        "outputId": "5e9308ef-360f-4a15-f60a-6cc8cd8d2424"
      },
      "source": [
        "New_york_times_analasys_SF_negPos"
      ],
      "execution_count": null,
      "outputs": [
        {
          "output_type": "execute_result",
          "data": {
            "text/html": [
              "<div style=\"max-height:1000px;max-width:1500px;overflow:auto;\"><table frame=\"box\" rules=\"cols\">\n",
              "    <tr>\n",
              "        <th style=\"padding-left: 1em; padding-right: 1em; text-align: center\">politician</th>\n",
              "        <th style=\"padding-left: 1em; padding-right: 1em; text-align: center\">sentiment</th>\n",
              "        <th style=\"padding-left: 1em; padding-right: 1em; text-align: center\">sum_sen_neg</th>\n",
              "        <th style=\"padding-left: 1em; padding-right: 1em; text-align: center\">sentiment.1</th>\n",
              "        <th style=\"padding-left: 1em; padding-right: 1em; text-align: center\">sum_sen_pos</th>\n",
              "    </tr>\n",
              "    <tr>\n",
              "        <td style=\"padding-left: 1em; padding-right: 1em; text-align: center; vertical-align: top\">Joe-Biden</td>\n",
              "        <td style=\"padding-left: 1em; padding-right: 1em; text-align: center; vertical-align: top\">Negative</td>\n",
              "        <td style=\"padding-left: 1em; padding-right: 1em; text-align: center; vertical-align: top\">480</td>\n",
              "        <td style=\"padding-left: 1em; padding-right: 1em; text-align: center; vertical-align: top\">Positive</td>\n",
              "        <td style=\"padding-left: 1em; padding-right: 1em; text-align: center; vertical-align: top\">510</td>\n",
              "    </tr>\n",
              "    <tr>\n",
              "        <td style=\"padding-left: 1em; padding-right: 1em; text-align: center; vertical-align: top\">Donald-Trump</td>\n",
              "        <td style=\"padding-left: 1em; padding-right: 1em; text-align: center; vertical-align: top\">Negative</td>\n",
              "        <td style=\"padding-left: 1em; padding-right: 1em; text-align: center; vertical-align: top\">110</td>\n",
              "        <td style=\"padding-left: 1em; padding-right: 1em; text-align: center; vertical-align: top\">Positive</td>\n",
              "        <td style=\"padding-left: 1em; padding-right: 1em; text-align: center; vertical-align: top\">80</td>\n",
              "    </tr>\n",
              "    <tr>\n",
              "        <td style=\"padding-left: 1em; padding-right: 1em; text-align: center; vertical-align: top\">Mitt-Romney</td>\n",
              "        <td style=\"padding-left: 1em; padding-right: 1em; text-align: center; vertical-align: top\">Negative</td>\n",
              "        <td style=\"padding-left: 1em; padding-right: 1em; text-align: center; vertical-align: top\">310</td>\n",
              "        <td style=\"padding-left: 1em; padding-right: 1em; text-align: center; vertical-align: top\">Positive</td>\n",
              "        <td style=\"padding-left: 1em; padding-right: 1em; text-align: center; vertical-align: top\">680</td>\n",
              "    </tr>\n",
              "    <tr>\n",
              "        <td style=\"padding-left: 1em; padding-right: 1em; text-align: center; vertical-align: top\">John-Kerry</td>\n",
              "        <td style=\"padding-left: 1em; padding-right: 1em; text-align: center; vertical-align: top\">Negative</td>\n",
              "        <td style=\"padding-left: 1em; padding-right: 1em; text-align: center; vertical-align: top\">220</td>\n",
              "        <td style=\"padding-left: 1em; padding-right: 1em; text-align: center; vertical-align: top\">Positive</td>\n",
              "        <td style=\"padding-left: 1em; padding-right: 1em; text-align: center; vertical-align: top\">770</td>\n",
              "    </tr>\n",
              "</table>\n",
              "[4 rows x 5 columns]<br/>\n",
              "</div>"
            ],
            "text/plain": [
              "Columns:\n",
              "\tpolitician\tstr\n",
              "\tsentiment\tstr\n",
              "\tsum_sen_neg\tint\n",
              "\tsentiment.1\tstr\n",
              "\tsum_sen_pos\tint\n",
              "\n",
              "Rows: 4\n",
              "\n",
              "Data:\n",
              "+--------------+-----------+-------------+-------------+-------------+\n",
              "|  politician  | sentiment | sum_sen_neg | sentiment.1 | sum_sen_pos |\n",
              "+--------------+-----------+-------------+-------------+-------------+\n",
              "|  Joe-Biden   |  Negative |     480     |   Positive  |     510     |\n",
              "| Donald-Trump |  Negative |     110     |   Positive  |      80     |\n",
              "| Mitt-Romney  |  Negative |     310     |   Positive  |     680     |\n",
              "|  John-Kerry  |  Negative |     220     |   Positive  |     770     |\n",
              "+--------------+-----------+-------------+-------------+-------------+\n",
              "[4 rows x 5 columns]"
            ]
          },
          "metadata": {},
          "execution_count": 101
        }
      ]
    },
    {
      "cell_type": "code",
      "metadata": {
        "colab": {
          "base_uri": "https://localhost:8080/",
          "height": 579
        },
        "id": "Kh3ntXQtZhfw",
        "outputId": "3a1d11bc-c07c-450c-ef19-8428504e84ed"
      },
      "source": [
        "import pandas as pd \n",
        "import matplotlib.pyplot as plt \n",
        "\n",
        "\n",
        "df=pd.DataFrame(New_york_times_analasys_SF_negPos,columns=[\"politician\",\"sum_sen_neg\",\"sum_sen_pos\"])\n",
        "df.plot(x=\"politician\", y=[\"sum_sen_neg\", \"sum_sen_pos\"], kind=\"bar\",figsize=(9,8))\n",
        "\n",
        "# Adding Xticks\n",
        "plt.xlabel('politicians', fontweight ='bold', fontsize = 15)\n",
        "plt.ylabel('sum', fontweight ='bold', fontsize = 15)\n",
        "plt.title(\"NYT_website politicians sum of articles by sentiment\", fontweight ='bold', fontsize = 15)\n",
        "plt.show()"
      ],
      "execution_count": null,
      "outputs": [
        {
          "output_type": "display_data",
          "data": {
            "image/png": "[encoded data removed]",
            "text/plain": [
              "<Figure size 648x576 with 1 Axes>"
            ]
          },
          "metadata": {
            "needs_background": "light"
          }
        }
      ]
    },
    {
      "cell_type": "code",
      "metadata": {
        "colab": {
          "base_uri": "https://localhost:8080/",
          "height": 579
        },
        "id": "zXrcfkG2Zhpa",
        "outputId": "f6b8bdc7-d5d3-44a7-fa07-21803984ef4b"
      },
      "source": [
        "import pandas as pd \n",
        "import matplotlib.pyplot as plt \n",
        "\n",
        "\n",
        "df=pd.DataFrame(New_york_times_analasys_SF_score,columns=[\"politician\",\"articles_sum_score\"])\n",
        "df.plot(x=\"politician\", y=[\"articles_sum_score\"], kind=\"bar\",figsize=(9,8))\n",
        "\n",
        "# Adding Xticks\n",
        "plt.xlabel('politicians', fontweight ='bold', fontsize = 15)\n",
        "plt.ylabel('sum', fontweight ='bold', fontsize = 15)\n",
        "plt.title(\"NYT_website politicians sum of articles by score\", fontweight ='bold', fontsize = 15)\n",
        "plt.show()"
      ],
      "execution_count": null,
      "outputs": [
        {
          "output_type": "display_data",
          "data": {
            "image/png": "[encoded data removed]",
            "text/plain": [
              "<Figure size 648x576 with 1 Axes>"
            ]
          },
          "metadata": {
            "needs_background": "light"
          }
        }
      ]
    },
    {
      "cell_type": "markdown",
      "metadata": {
        "id": "VuW4X6RM1hwv"
      },
      "source": [
        "#### **all 3 webs df**"
      ]
    },
    {
      "cell_type": "code",
      "metadata": {
        "id": "84N5KZ3a3HcW"
      },
      "source": [
        "all_data_NYT_BBC_UsaT_DF = pd.concat( [website_data_BBC_df, New_york_times_df] )"
      ],
      "execution_count": null,
      "outputs": []
    },
    {
      "cell_type": "markdown",
      "metadata": {
        "id": "TUuGmUG4O9RX"
      },
      "source": [
        "##### more df"
      ]
    },
    {
      "cell_type": "code",
      "metadata": {
        "colab": {
          "base_uri": "https://localhost:8080/",
          "height": 419
        },
        "id": "YQJsoO3Bn4vV",
        "outputId": "2beb6b58-9ddf-4dbc-f171-a12e96b1baeb"
      },
      "source": [
        "all_data_NYT_BBC_UsaT_DF"
      ],
      "execution_count": null,
      "outputs": [
        {
          "output_type": "execute_result",
          "data": {
            "text/html": [
              "<div>\n",
              "<style scoped>\n",
              "    .dataframe tbody tr th:only-of-type {\n",
              "        vertical-align: middle;\n",
              "    }\n",
              "\n",
              "    .dataframe tbody tr th {\n",
              "        vertical-align: top;\n",
              "    }\n",
              "\n",
              "    .dataframe thead th {\n",
              "        text-align: right;\n",
              "    }\n",
              "</style>\n",
              "<table border=\"1\" class=\"dataframe\">\n",
              "  <thead>\n",
              "    <tr style=\"text-align: right;\">\n",
              "      <th></th>\n",
              "      <th>politician</th>\n",
              "      <th>content</th>\n",
              "      <th>content_afinn_score</th>\n",
              "      <th>sentiment</th>\n",
              "    </tr>\n",
              "  </thead>\n",
              "  <tbody>\n",
              "    <tr>\n",
              "      <th>2</th>\n",
              "      <td>Donald-Trump</td>\n",
              "      <td>The Trump Show: Downfall. The dramatic final c...</td>\n",
              "      <td>-2.0</td>\n",
              "      <td>Negative</td>\n",
              "    </tr>\n",
              "    <tr>\n",
              "      <th>4</th>\n",
              "      <td>Donald-Trump</td>\n",
              "      <td>The Second Impeachment of Donald Trump: The Se...</td>\n",
              "      <td>-9.0</td>\n",
              "      <td>Negative</td>\n",
              "    </tr>\n",
              "    <tr>\n",
              "      <th>5</th>\n",
              "      <td>Donald-Trump</td>\n",
              "      <td>Our World: Trump and God. Lebo Diseko meets Ch...</td>\n",
              "      <td>1.0</td>\n",
              "      <td>Positive</td>\n",
              "    </tr>\n",
              "    <tr>\n",
              "      <th>6</th>\n",
              "      <td>Donald-Trump</td>\n",
              "      <td>US judge reprimands Trump election fraud lawye...</td>\n",
              "      <td>-9.0</td>\n",
              "      <td>Negative</td>\n",
              "    </tr>\n",
              "    <tr>\n",
              "      <th>7</th>\n",
              "      <td>Donald-Trump</td>\n",
              "      <td>Reporting Trump&amp;#x27;s First Year: The Fourth ...</td>\n",
              "      <td>3.0</td>\n",
              "      <td>Positive</td>\n",
              "    </tr>\n",
              "    <tr>\n",
              "      <th>...</th>\n",
              "      <td>...</td>\n",
              "      <td>...</td>\n",
              "      <td>...</td>\n",
              "      <td>...</td>\n",
              "    </tr>\n",
              "    <tr>\n",
              "      <th>3964</th>\n",
              "      <td>Mitt-Romney</td>\n",
              "      <td>Growing Pains of Universal Coverage.Until Wash...</td>\n",
              "      <td>2.0</td>\n",
              "      <td>Positive</td>\n",
              "    </tr>\n",
              "    <tr>\n",
              "      <th>3965</th>\n",
              "      <td>Mitt-Romney</td>\n",
              "      <td>The Wrong Résumé.The evidence suggests that el...</td>\n",
              "      <td>-5.0</td>\n",
              "      <td>Negative</td>\n",
              "    </tr>\n",
              "    <tr>\n",
              "      <th>3966</th>\n",
              "      <td>Mitt-Romney</td>\n",
              "      <td>The Definition of Insanity.Same old policies, ...</td>\n",
              "      <td>-2.0</td>\n",
              "      <td>Negative</td>\n",
              "    </tr>\n",
              "    <tr>\n",
              "      <th>3967</th>\n",
              "      <td>Mitt-Romney</td>\n",
              "      <td>Would John Kerry Have Picked Samuel Alito?.If ...</td>\n",
              "      <td>4.0</td>\n",
              "      <td>Positive</td>\n",
              "    </tr>\n",
              "    <tr>\n",
              "      <th>3968</th>\n",
              "      <td>Mitt-Romney</td>\n",
              "      <td>Mr. Negative vs. Mr. Complacent.The Obama camp...</td>\n",
              "      <td>-6.0</td>\n",
              "      <td>Negative</td>\n",
              "    </tr>\n",
              "  </tbody>\n",
              "</table>\n",
              "<p>3686 rows × 4 columns</p>\n",
              "</div>"
            ],
            "text/plain": [
              "        politician  ... sentiment\n",
              "2     Donald-Trump  ...  Negative\n",
              "4     Donald-Trump  ...  Negative\n",
              "5     Donald-Trump  ...  Positive\n",
              "6     Donald-Trump  ...  Negative\n",
              "7     Donald-Trump  ...  Positive\n",
              "...            ...  ...       ...\n",
              "3964   Mitt-Romney  ...  Positive\n",
              "3965   Mitt-Romney  ...  Negative\n",
              "3966   Mitt-Romney  ...  Negative\n",
              "3967   Mitt-Romney  ...  Positive\n",
              "3968   Mitt-Romney  ...  Negative\n",
              "\n",
              "[3686 rows x 4 columns]"
            ]
          },
          "metadata": {},
          "execution_count": 585
        }
      ]
    },
    {
      "cell_type": "code",
      "metadata": {
        "id": "n5D6Az9oOdHR",
        "colab": {
          "base_uri": "https://localhost:8080/",
          "height": 216
        },
        "outputId": "ff30618e-58cb-4124-c80f-091b9356b03c"
      },
      "source": [
        "\n",
        "sf_New_york_times=tc.SFrame( all_data_NYT_BBC_UsaT_DF )\n",
        "sf_articles_on_politicians = sf_New_york_times.groupby(\"politician\",{\"all_articles_on_politicioan\":agg.CONCAT(\"content\")})\n",
        "sf_articles_on_politicians"
      ],
      "execution_count": null,
      "outputs": [
        {
          "output_type": "execute_result",
          "data": {
            "text/html": [
              "<div style=\"max-height:1000px;max-width:1500px;overflow:auto;\"><table frame=\"box\" rules=\"cols\">\n",
              "    <tr>\n",
              "        <th style=\"padding-left: 1em; padding-right: 1em; text-align: center\">politician</th>\n",
              "        <th style=\"padding-left: 1em; padding-right: 1em; text-align: center\">all_articles_on_politicio<br>an ...</th>\n",
              "    </tr>\n",
              "    <tr>\n",
              "        <td style=\"padding-left: 1em; padding-right: 1em; text-align: center; vertical-align: top\">Mitt-Romney</td>\n",
              "        <td style=\"padding-left: 1em; padding-right: 1em; text-align: center; vertical-align: top\">[Eugene Goodman hailed<br>for guiding Mitt Romney ...</td>\n",
              "    </tr>\n",
              "    <tr>\n",
              "        <td style=\"padding-left: 1em; padding-right: 1em; text-align: center; vertical-align: top\">Joe-Biden</td>\n",
              "        <td style=\"padding-left: 1em; padding-right: 1em; text-align: center; vertical-align: top\">[US election 2020: Can<br>Mike Pence reject Joe ...</td>\n",
              "    </tr>\n",
              "    <tr>\n",
              "        <td style=\"padding-left: 1em; padding-right: 1em; text-align: center; vertical-align: top\">John-Kerry</td>\n",
              "        <td style=\"padding-left: 1em; padding-right: 1em; text-align: center; vertical-align: top\">[Syria: The World&amp;#x27;s<br>War: Series 1: Episod ...</td>\n",
              "    </tr>\n",
              "    <tr>\n",
              "        <td style=\"padding-left: 1em; padding-right: 1em; text-align: center; vertical-align: top\">Donald-Trump</td>\n",
              "        <td style=\"padding-left: 1em; padding-right: 1em; text-align: center; vertical-align: top\">[Why Do Republicans Hate<br>Cops?.Turning their b ...</td>\n",
              "    </tr>\n",
              "</table>\n",
              "[4 rows x 2 columns]<br/>\n",
              "</div>"
            ],
            "text/plain": [
              "Columns:\n",
              "\tpolitician\tstr\n",
              "\tall_articles_on_politicioan\tlist\n",
              "\n",
              "Rows: 4\n",
              "\n",
              "Data:\n",
              "+--------------+-------------------------------+\n",
              "|  politician  |  all_articles_on_politicioan  |\n",
              "+--------------+-------------------------------+\n",
              "| Mitt-Romney  | [Eugene Goodman hailed for... |\n",
              "|  Joe-Biden   | [US election 2020: Can Mik... |\n",
              "|  John-Kerry  | [Syria: The World&#x27;s W... |\n",
              "| Donald-Trump | [Why Do Republicans Hate C... |\n",
              "+--------------+-------------------------------+\n",
              "[4 rows x 2 columns]"
            ]
          },
          "metadata": {},
          "execution_count": 586
        }
      ]
    },
    {
      "cell_type": "code",
      "metadata": {
        "id": "zHusbdAkOdJ3"
      },
      "source": [
        "articles_on_politicians_df=sf_articles_on_politicians.to_dataframe()"
      ],
      "execution_count": null,
      "outputs": []
    },
    {
      "cell_type": "markdown",
      "metadata": {
        "id": "tIqzraTHXX4d"
      },
      "source": [
        "פה אני עושה מיזוג ומכניס גם את העמודה של התגובות בטוויטר שים לב שאני עושה מיזוג על השמות של הפוליטיקאים אז השמות חייבים להיות תואמים בשתי הטבלאות"
      ]
    },
    {
      "cell_type": "code",
      "metadata": {
        "id": "FWm72I-qOdNv"
      },
      "source": [
        "# articles_and_comments_df = pd.merge(comments_on_politicians_df, articles_on_politicians_df, on=\"politician\")\n"
      ],
      "execution_count": null,
      "outputs": []
    },
    {
      "cell_type": "code",
      "metadata": {
        "id": "WzCIhzZLOdXT"
      },
      "source": [
        "# score_articles_and_comments_df=articles_and_comments_df\n",
        "# score_articles_and_comments_df\n"
      ],
      "execution_count": null,
      "outputs": []
    },
    {
      "cell_type": "code",
      "metadata": {
        "id": "93rKGt1fnbCW"
      },
      "source": [],
      "execution_count": null,
      "outputs": []
    },
    {
      "cell_type": "code",
      "metadata": {
        "id": "AA27BK1Inbza"
      },
      "source": [],
      "execution_count": null,
      "outputs": []
    },
    {
      "cell_type": "code",
      "metadata": {
        "id": "li0FKGJylLgG"
      },
      "source": [
        "# !pip install afinn"
      ],
      "execution_count": null,
      "outputs": []
    },
    {
      "cell_type": "code",
      "metadata": {
        "id": "QAr9OAU5lrNF"
      },
      "source": [
        "# def convert_to_string(s):\n",
        "#   sentences=\"\"\n",
        "#   for word in s:\n",
        "#     sentences=sentences+' '+word\n",
        "#   return sentences \n",
        "\n",
        "# score_articles_and_comments_df['all_comments']=score_articles_and_comments_df['all_comments'].apply(lambda s:convert_to_string(s))\n",
        "# score_articles_and_comments_df['all_articles_on_politicioan']=score_articles_and_comments_df['all_articles_on_politicioan'].apply(lambda s:convert_to_string(s))"
      ],
      "execution_count": null,
      "outputs": []
    },
    {
      "cell_type": "code",
      "metadata": {
        "id": "iw8G55RWjXAU"
      },
      "source": [
        "# from afinn import Afinn\n",
        "# afinn = Afinn()\n",
        "\n",
        "# score_articles_and_comments_df['afinn_score_comments'] = articles_and_comments_df['all_comments'].apply(lambda t: afinn.score(t))\n",
        "# score_articles_and_comments_df['afinn_score_articles'] = articles_and_comments_df['all_articles_on_politicioan'].apply(lambda t: afinn.score(t))\n",
        "# score_articles_and_comments_df"
      ],
      "execution_count": null,
      "outputs": []
    },
    {
      "cell_type": "code",
      "metadata": {
        "id": "yLECNokjsrPH"
      },
      "source": [
        "# import sys\n",
        "# import time\n",
        "# sys.path.insert(0,'/usr/lib/chromium-browser/chromedriver')\n",
        "# from selenium import webdriver\n",
        "\n",
        "# chrome_options = webdriver.ChromeOptions()\n",
        "# chrome_options.add_argument('--headless')\n",
        "# chrome_options.add_argument('--no-sandbox')\n",
        "# chrome_options.add_argument('--disable-dev-shm-usage')\n",
        "# wd = webdriver.Chrome('chromedriver',chrome_options=chrome_options)\n",
        "\n",
        "# ###################################################################################\n",
        "# list_of_all_articles=[]\n",
        "# url = 'https://www.nytimes.com/search?dropmab=true&query=donald%22trump&sections=Opinion%7Cnyt%3A%2F%2Fsection%2Fd7a71185-aa60-5635-bce0-5fab76c7c297&sort=best%5Fpage%3D%7B2%7D'\n",
        "# wd.get(url)\n",
        "\n",
        "\n",
        "# donal_trump_url = 'https://www.nytimes.com/search?dropmab=true&query=donald%22trump&sections=Opinion%7Cnyt%3A%2F%2Fsection%2Fd7a71185-aa60-5635-bce0-5fab76c7c297&sort=best%5Fpage%3D%7B2%7D'\n",
        "# # kamala_harris_url = \n",
        "# # joe_biden_url = \n",
        "# # mike_pence_url = \n",
        "\n",
        "# number_of_articles = 10\n",
        "\n",
        "# New_york_times_articles_trump = new_york_times_get_all_articlesByName( donal_trump_url, 'Donald_Trump', number_of_articles, wd)\n",
        "# # New_york_times_articles_harris = new_york_times_get_all_articlesByName( kamala_harris_url, 'Kamala_Harris', number_of_articles)\n",
        "# # New_york_times_articles_biden = new_york_times_get_all_articlesByName( joe_biden_url, 'Joe_Biden', number_of_articles)\n",
        "# # New_york_times_articles_mike = new_york_times_get_all_articlesByName( mike_pence_url, 'Mike_Pence', number_of_articles)"
      ],
      "execution_count": null,
      "outputs": []
    },
    {
      "cell_type": "markdown",
      "metadata": {
        "id": "08Bi2aE9CEDM"
      },
      "source": [
        "### web and articles afinn all websites"
      ]
    },
    {
      "cell_type": "code",
      "metadata": {
        "id": "ec0x9SnAKnHo"
      },
      "source": [
        "def label2sentiment(label):\n",
        "    if label >= 0:\n",
        "        return \"Positive\"\n",
        "    else:\n",
        "        return \"Negative\""
      ],
      "execution_count": null,
      "outputs": []
    },
    {
      "cell_type": "code",
      "metadata": {
        "id": "F5eUmhW5KnPx"
      },
      "source": [
        "import turicreate.aggregate as agg"
      ],
      "execution_count": null,
      "outputs": []
    },
    {
      "cell_type": "code",
      "metadata": {
        "id": "-tU7wO6ZqTR8"
      },
      "source": [
        "all_data_NYT_BBC_UsaT_DF['content_afinn_score'] = all_data_NYT_BBC_UsaT_DF['content'].apply(lambda t: afinn.score(t))"
      ],
      "execution_count": null,
      "outputs": []
    },
    {
      "cell_type": "code",
      "metadata": {
        "id": "sEfm0XP9sbUO"
      },
      "source": [
        "all_data_NYT_BBC_UsaT_DF = all_data_NYT_BBC_UsaT_DF[all_data_NYT_BBC_UsaT_DF['content_afinn_score'] != 0] #delete title with score 0 not pos and not neg"
      ],
      "execution_count": null,
      "outputs": []
    },
    {
      "cell_type": "code",
      "metadata": {
        "colab": {
          "base_uri": "https://localhost:8080/",
          "height": 419
        },
        "id": "SJ7Fa06sqTbz",
        "outputId": "2716b87c-4f9f-4283-dd50-fce3a601bdc0"
      },
      "source": [
        "all_data_NYT_BBC_UsaT_DF"
      ],
      "execution_count": null,
      "outputs": [
        {
          "output_type": "execute_result",
          "data": {
            "text/html": [
              "<div>\n",
              "<style scoped>\n",
              "    .dataframe tbody tr th:only-of-type {\n",
              "        vertical-align: middle;\n",
              "    }\n",
              "\n",
              "    .dataframe tbody tr th {\n",
              "        vertical-align: top;\n",
              "    }\n",
              "\n",
              "    .dataframe thead th {\n",
              "        text-align: right;\n",
              "    }\n",
              "</style>\n",
              "<table border=\"1\" class=\"dataframe\">\n",
              "  <thead>\n",
              "    <tr style=\"text-align: right;\">\n",
              "      <th></th>\n",
              "      <th>politician</th>\n",
              "      <th>content</th>\n",
              "      <th>content_afinn_score</th>\n",
              "    </tr>\n",
              "  </thead>\n",
              "  <tbody>\n",
              "    <tr>\n",
              "      <th>2</th>\n",
              "      <td>Donald-Trump</td>\n",
              "      <td>The Trump Show: Downfall. The dramatic final c...</td>\n",
              "      <td>-2.0</td>\n",
              "    </tr>\n",
              "    <tr>\n",
              "      <th>4</th>\n",
              "      <td>Donald-Trump</td>\n",
              "      <td>The Second Impeachment of Donald Trump: The Se...</td>\n",
              "      <td>-9.0</td>\n",
              "    </tr>\n",
              "    <tr>\n",
              "      <th>5</th>\n",
              "      <td>Donald-Trump</td>\n",
              "      <td>Our World: Trump and God. Lebo Diseko meets Ch...</td>\n",
              "      <td>1.0</td>\n",
              "    </tr>\n",
              "    <tr>\n",
              "      <th>6</th>\n",
              "      <td>Donald-Trump</td>\n",
              "      <td>US judge reprimands Trump election fraud lawye...</td>\n",
              "      <td>-9.0</td>\n",
              "    </tr>\n",
              "    <tr>\n",
              "      <th>7</th>\n",
              "      <td>Donald-Trump</td>\n",
              "      <td>Reporting Trump&amp;#x27;s First Year: The Fourth ...</td>\n",
              "      <td>3.0</td>\n",
              "    </tr>\n",
              "    <tr>\n",
              "      <th>...</th>\n",
              "      <td>...</td>\n",
              "      <td>...</td>\n",
              "      <td>...</td>\n",
              "    </tr>\n",
              "    <tr>\n",
              "      <th>3953</th>\n",
              "      <td>Mitt-Romney</td>\n",
              "      <td>The Romney Family Plan Sees the True Value of ...</td>\n",
              "      <td>6.0</td>\n",
              "    </tr>\n",
              "    <tr>\n",
              "      <th>3956</th>\n",
              "      <td>Mitt-Romney</td>\n",
              "      <td>The Corrupt, the Clueless and Joe Biden.Unity ...</td>\n",
              "      <td>-3.0</td>\n",
              "    </tr>\n",
              "    <tr>\n",
              "      <th>3957</th>\n",
              "      <td>Mitt-Romney</td>\n",
              "      <td>Mitt! Mitt! Mitt!.How about a refresher on all...</td>\n",
              "      <td>2.0</td>\n",
              "    </tr>\n",
              "    <tr>\n",
              "      <th>3958</th>\n",
              "      <td>Mitt-Romney</td>\n",
              "      <td>Mitt Likes Music, Including This.The Gregory B...</td>\n",
              "      <td>4.0</td>\n",
              "    </tr>\n",
              "    <tr>\n",
              "      <th>3959</th>\n",
              "      <td>Mitt-Romney</td>\n",
              "      <td>The Curse of the Mitt.Mitt Romney has been kno...</td>\n",
              "      <td>-1.0</td>\n",
              "    </tr>\n",
              "  </tbody>\n",
              "</table>\n",
              "<p>3567 rows × 3 columns</p>\n",
              "</div>"
            ],
            "text/plain": [
              "        politician  ... content_afinn_score\n",
              "2     Donald-Trump  ...                -2.0\n",
              "4     Donald-Trump  ...                -9.0\n",
              "5     Donald-Trump  ...                 1.0\n",
              "6     Donald-Trump  ...                -9.0\n",
              "7     Donald-Trump  ...                 3.0\n",
              "...            ...  ...                 ...\n",
              "3953   Mitt-Romney  ...                 6.0\n",
              "3956   Mitt-Romney  ...                -3.0\n",
              "3957   Mitt-Romney  ...                 2.0\n",
              "3958   Mitt-Romney  ...                 4.0\n",
              "3959   Mitt-Romney  ...                -1.0\n",
              "\n",
              "[3567 rows x 3 columns]"
            ]
          },
          "metadata": {},
          "execution_count": 59
        }
      ]
    },
    {
      "cell_type": "code",
      "metadata": {
        "id": "Og-KYEFwqTmC"
      },
      "source": [
        "all_data_NYT_BBC_UsaT_DF['sentiment'] = all_data_NYT_BBC_UsaT_DF['content_afinn_score'].apply(lambda label: label2sentiment(label))"
      ],
      "execution_count": null,
      "outputs": []
    },
    {
      "cell_type": "code",
      "metadata": {
        "colab": {
          "base_uri": "https://localhost:8080/",
          "height": 419
        },
        "id": "mKwjUPkVqTot",
        "outputId": "9bd5dd55-7816-45d8-a5c9-e6ff77476aab"
      },
      "source": [
        "all_data_NYT_BBC_UsaT_DF"
      ],
      "execution_count": null,
      "outputs": [
        {
          "output_type": "execute_result",
          "data": {
            "text/html": [
              "<div>\n",
              "<style scoped>\n",
              "    .dataframe tbody tr th:only-of-type {\n",
              "        vertical-align: middle;\n",
              "    }\n",
              "\n",
              "    .dataframe tbody tr th {\n",
              "        vertical-align: top;\n",
              "    }\n",
              "\n",
              "    .dataframe thead th {\n",
              "        text-align: right;\n",
              "    }\n",
              "</style>\n",
              "<table border=\"1\" class=\"dataframe\">\n",
              "  <thead>\n",
              "    <tr style=\"text-align: right;\">\n",
              "      <th></th>\n",
              "      <th>politician</th>\n",
              "      <th>content</th>\n",
              "      <th>content_afinn_score</th>\n",
              "      <th>sentiment</th>\n",
              "    </tr>\n",
              "  </thead>\n",
              "  <tbody>\n",
              "    <tr>\n",
              "      <th>2</th>\n",
              "      <td>Donald-Trump</td>\n",
              "      <td>The Trump Show: Downfall. The dramatic final c...</td>\n",
              "      <td>-2.0</td>\n",
              "      <td>Negative</td>\n",
              "    </tr>\n",
              "    <tr>\n",
              "      <th>4</th>\n",
              "      <td>Donald-Trump</td>\n",
              "      <td>The Second Impeachment of Donald Trump: The Se...</td>\n",
              "      <td>-9.0</td>\n",
              "      <td>Negative</td>\n",
              "    </tr>\n",
              "    <tr>\n",
              "      <th>5</th>\n",
              "      <td>Donald-Trump</td>\n",
              "      <td>Our World: Trump and God. Lebo Diseko meets Ch...</td>\n",
              "      <td>1.0</td>\n",
              "      <td>Positive</td>\n",
              "    </tr>\n",
              "    <tr>\n",
              "      <th>6</th>\n",
              "      <td>Donald-Trump</td>\n",
              "      <td>US judge reprimands Trump election fraud lawye...</td>\n",
              "      <td>-9.0</td>\n",
              "      <td>Negative</td>\n",
              "    </tr>\n",
              "    <tr>\n",
              "      <th>7</th>\n",
              "      <td>Donald-Trump</td>\n",
              "      <td>Reporting Trump&amp;#x27;s First Year: The Fourth ...</td>\n",
              "      <td>3.0</td>\n",
              "      <td>Positive</td>\n",
              "    </tr>\n",
              "    <tr>\n",
              "      <th>...</th>\n",
              "      <td>...</td>\n",
              "      <td>...</td>\n",
              "      <td>...</td>\n",
              "      <td>...</td>\n",
              "    </tr>\n",
              "    <tr>\n",
              "      <th>3964</th>\n",
              "      <td>Mitt-Romney</td>\n",
              "      <td>Growing Pains of Universal Coverage.Until Wash...</td>\n",
              "      <td>2.0</td>\n",
              "      <td>Positive</td>\n",
              "    </tr>\n",
              "    <tr>\n",
              "      <th>3965</th>\n",
              "      <td>Mitt-Romney</td>\n",
              "      <td>The Wrong Résumé.The evidence suggests that el...</td>\n",
              "      <td>-5.0</td>\n",
              "      <td>Negative</td>\n",
              "    </tr>\n",
              "    <tr>\n",
              "      <th>3966</th>\n",
              "      <td>Mitt-Romney</td>\n",
              "      <td>The Definition of Insanity.Same old policies, ...</td>\n",
              "      <td>-2.0</td>\n",
              "      <td>Negative</td>\n",
              "    </tr>\n",
              "    <tr>\n",
              "      <th>3967</th>\n",
              "      <td>Mitt-Romney</td>\n",
              "      <td>Would John Kerry Have Picked Samuel Alito?.If ...</td>\n",
              "      <td>4.0</td>\n",
              "      <td>Positive</td>\n",
              "    </tr>\n",
              "    <tr>\n",
              "      <th>3968</th>\n",
              "      <td>Mitt-Romney</td>\n",
              "      <td>Mr. Negative vs. Mr. Complacent.The Obama camp...</td>\n",
              "      <td>-6.0</td>\n",
              "      <td>Negative</td>\n",
              "    </tr>\n",
              "  </tbody>\n",
              "</table>\n",
              "<p>3686 rows × 4 columns</p>\n",
              "</div>"
            ],
            "text/plain": [
              "        politician  ... sentiment\n",
              "2     Donald-Trump  ...  Negative\n",
              "4     Donald-Trump  ...  Negative\n",
              "5     Donald-Trump  ...  Positive\n",
              "6     Donald-Trump  ...  Negative\n",
              "7     Donald-Trump  ...  Positive\n",
              "...            ...  ...       ...\n",
              "3964   Mitt-Romney  ...  Positive\n",
              "3965   Mitt-Romney  ...  Negative\n",
              "3966   Mitt-Romney  ...  Negative\n",
              "3967   Mitt-Romney  ...  Positive\n",
              "3968   Mitt-Romney  ...  Negative\n",
              "\n",
              "[3686 rows x 4 columns]"
            ]
          },
          "metadata": {},
          "execution_count": 562
        }
      ]
    },
    {
      "cell_type": "code",
      "metadata": {
        "id": "aAzyJUqRqTrF"
      },
      "source": [
        "all_data_NYT_BBC_UsaT_SF  = tc.SFrame( all_data_NYT_BBC_UsaT_DF )\n",
        "all_data_NYT_BBC_UsaT_SF = all_data_NYT_BBC_UsaT_SF['politician', 'content_afinn_score', 'sentiment']"
      ],
      "execution_count": null,
      "outputs": []
    },
    {
      "cell_type": "code",
      "metadata": {
        "colab": {
          "base_uri": "https://localhost:8080/",
          "height": 279
        },
        "id": "ApGUrGlsqTte",
        "outputId": "8fb25b21-a738-467f-dc01-975b0a2c3451"
      },
      "source": [
        "all_data_NYT_BBC_UsaT_SF"
      ],
      "execution_count": null,
      "outputs": [
        {
          "output_type": "execute_result",
          "data": {
            "text/html": [
              "<div style=\"max-height:1000px;max-width:1500px;overflow:auto;\"><table frame=\"box\" rules=\"cols\">\n",
              "    <tr>\n",
              "        <th style=\"padding-left: 1em; padding-right: 1em; text-align: center\">politician</th>\n",
              "        <th style=\"padding-left: 1em; padding-right: 1em; text-align: center\">content_afinn_score</th>\n",
              "        <th style=\"padding-left: 1em; padding-right: 1em; text-align: center\">sentiment</th>\n",
              "    </tr>\n",
              "    <tr>\n",
              "        <td style=\"padding-left: 1em; padding-right: 1em; text-align: center; vertical-align: top\">Donald-Trump</td>\n",
              "        <td style=\"padding-left: 1em; padding-right: 1em; text-align: center; vertical-align: top\">-2.0</td>\n",
              "        <td style=\"padding-left: 1em; padding-right: 1em; text-align: center; vertical-align: top\">Negative</td>\n",
              "    </tr>\n",
              "    <tr>\n",
              "        <td style=\"padding-left: 1em; padding-right: 1em; text-align: center; vertical-align: top\">Donald-Trump</td>\n",
              "        <td style=\"padding-left: 1em; padding-right: 1em; text-align: center; vertical-align: top\">-9.0</td>\n",
              "        <td style=\"padding-left: 1em; padding-right: 1em; text-align: center; vertical-align: top\">Negative</td>\n",
              "    </tr>\n",
              "    <tr>\n",
              "        <td style=\"padding-left: 1em; padding-right: 1em; text-align: center; vertical-align: top\">Donald-Trump</td>\n",
              "        <td style=\"padding-left: 1em; padding-right: 1em; text-align: center; vertical-align: top\">1.0</td>\n",
              "        <td style=\"padding-left: 1em; padding-right: 1em; text-align: center; vertical-align: top\">Positive</td>\n",
              "    </tr>\n",
              "    <tr>\n",
              "        <td style=\"padding-left: 1em; padding-right: 1em; text-align: center; vertical-align: top\">Donald-Trump</td>\n",
              "        <td style=\"padding-left: 1em; padding-right: 1em; text-align: center; vertical-align: top\">-9.0</td>\n",
              "        <td style=\"padding-left: 1em; padding-right: 1em; text-align: center; vertical-align: top\">Negative</td>\n",
              "    </tr>\n",
              "    <tr>\n",
              "        <td style=\"padding-left: 1em; padding-right: 1em; text-align: center; vertical-align: top\">Donald-Trump</td>\n",
              "        <td style=\"padding-left: 1em; padding-right: 1em; text-align: center; vertical-align: top\">3.0</td>\n",
              "        <td style=\"padding-left: 1em; padding-right: 1em; text-align: center; vertical-align: top\">Positive</td>\n",
              "    </tr>\n",
              "    <tr>\n",
              "        <td style=\"padding-left: 1em; padding-right: 1em; text-align: center; vertical-align: top\">Donald-Trump</td>\n",
              "        <td style=\"padding-left: 1em; padding-right: 1em; text-align: center; vertical-align: top\">2.0</td>\n",
              "        <td style=\"padding-left: 1em; padding-right: 1em; text-align: center; vertical-align: top\">Positive</td>\n",
              "    </tr>\n",
              "    <tr>\n",
              "        <td style=\"padding-left: 1em; padding-right: 1em; text-align: center; vertical-align: top\">Donald-Trump</td>\n",
              "        <td style=\"padding-left: 1em; padding-right: 1em; text-align: center; vertical-align: top\">-3.0</td>\n",
              "        <td style=\"padding-left: 1em; padding-right: 1em; text-align: center; vertical-align: top\">Negative</td>\n",
              "    </tr>\n",
              "    <tr>\n",
              "        <td style=\"padding-left: 1em; padding-right: 1em; text-align: center; vertical-align: top\">Donald-Trump</td>\n",
              "        <td style=\"padding-left: 1em; padding-right: 1em; text-align: center; vertical-align: top\">1.0</td>\n",
              "        <td style=\"padding-left: 1em; padding-right: 1em; text-align: center; vertical-align: top\">Positive</td>\n",
              "    </tr>\n",
              "    <tr>\n",
              "        <td style=\"padding-left: 1em; padding-right: 1em; text-align: center; vertical-align: top\">Donald-Trump</td>\n",
              "        <td style=\"padding-left: 1em; padding-right: 1em; text-align: center; vertical-align: top\">-5.0</td>\n",
              "        <td style=\"padding-left: 1em; padding-right: 1em; text-align: center; vertical-align: top\">Negative</td>\n",
              "    </tr>\n",
              "    <tr>\n",
              "        <td style=\"padding-left: 1em; padding-right: 1em; text-align: center; vertical-align: top\">Donald-Trump</td>\n",
              "        <td style=\"padding-left: 1em; padding-right: 1em; text-align: center; vertical-align: top\">-2.0</td>\n",
              "        <td style=\"padding-left: 1em; padding-right: 1em; text-align: center; vertical-align: top\">Negative</td>\n",
              "    </tr>\n",
              "</table>\n",
              "[3686 rows x 3 columns]<br/>Note: Only the head of the SFrame is printed.<br/>You can use print_rows(num_rows=m, num_columns=n) to print more rows and columns.\n",
              "</div>"
            ],
            "text/plain": [
              "Columns:\n",
              "\tpolitician\tstr\n",
              "\tcontent_afinn_score\tfloat\n",
              "\tsentiment\tstr\n",
              "\n",
              "Rows: 3686\n",
              "\n",
              "Data:\n",
              "+--------------+---------------------+-----------+\n",
              "|  politician  | content_afinn_score | sentiment |\n",
              "+--------------+---------------------+-----------+\n",
              "| Donald-Trump |         -2.0        |  Negative |\n",
              "| Donald-Trump |         -9.0        |  Negative |\n",
              "| Donald-Trump |         1.0         |  Positive |\n",
              "| Donald-Trump |         -9.0        |  Negative |\n",
              "| Donald-Trump |         3.0         |  Positive |\n",
              "| Donald-Trump |         2.0         |  Positive |\n",
              "| Donald-Trump |         -3.0        |  Negative |\n",
              "| Donald-Trump |         1.0         |  Positive |\n",
              "| Donald-Trump |         -5.0        |  Negative |\n",
              "| Donald-Trump |         -2.0        |  Negative |\n",
              "+--------------+---------------------+-----------+\n",
              "[3686 rows x 3 columns]\n",
              "Note: Only the head of the SFrame is printed.\n",
              "You can use print_rows(num_rows=m, num_columns=n) to print more rows and columns."
            ]
          },
          "metadata": {},
          "execution_count": 564
        }
      ]
    },
    {
      "cell_type": "code",
      "metadata": {
        "id": "QUD1zGGet_V1"
      },
      "source": [
        "all_data_NYT_BBC_UsaT_gb_sen_sf = all_data_NYT_BBC_UsaT_SF.groupby(['politician','sentiment'],{\"articles_sum_sentiment\":agg.COUNT()})\n",
        "all_data_NYT_BBC_UsaT_gb_score_sf = all_data_NYT_BBC_UsaT_SF.groupby(['politician'],{\"articles_sum_score\":agg.SUM('content_afinn_score')})"
      ],
      "execution_count": null,
      "outputs": []
    },
    {
      "cell_type": "code",
      "metadata": {
        "colab": {
          "base_uri": "https://localhost:8080/",
          "height": 207
        },
        "id": "NmleRL7jt_ZL",
        "outputId": "a3a5fc46-4cf9-4f16-e414-e7166c5e50d8"
      },
      "source": [
        "all_data_NYT_BBC_UsaT_gb_sen_sf"
      ],
      "execution_count": null,
      "outputs": [
        {
          "output_type": "execute_result",
          "data": {
            "text/html": [
              "<div style=\"max-height:1000px;max-width:1500px;overflow:auto;\"><table frame=\"box\" rules=\"cols\">\n",
              "    <tr>\n",
              "        <th style=\"padding-left: 1em; padding-right: 1em; text-align: center\">politician</th>\n",
              "        <th style=\"padding-left: 1em; padding-right: 1em; text-align: center\">sentiment</th>\n",
              "        <th style=\"padding-left: 1em; padding-right: 1em; text-align: center\">articles_sum_sentiment</th>\n",
              "    </tr>\n",
              "    <tr>\n",
              "        <td style=\"padding-left: 1em; padding-right: 1em; text-align: center; vertical-align: top\">Joe-Biden</td>\n",
              "        <td style=\"padding-left: 1em; padding-right: 1em; text-align: center; vertical-align: top\">Positive</td>\n",
              "        <td style=\"padding-left: 1em; padding-right: 1em; text-align: center; vertical-align: top\">440</td>\n",
              "    </tr>\n",
              "    <tr>\n",
              "        <td style=\"padding-left: 1em; padding-right: 1em; text-align: center; vertical-align: top\">Donald-Trump</td>\n",
              "        <td style=\"padding-left: 1em; padding-right: 1em; text-align: center; vertical-align: top\">Positive</td>\n",
              "        <td style=\"padding-left: 1em; padding-right: 1em; text-align: center; vertical-align: top\">358</td>\n",
              "    </tr>\n",
              "    <tr>\n",
              "        <td style=\"padding-left: 1em; padding-right: 1em; text-align: center; vertical-align: top\">Mitt-Romney</td>\n",
              "        <td style=\"padding-left: 1em; padding-right: 1em; text-align: center; vertical-align: top\">Positive</td>\n",
              "        <td style=\"padding-left: 1em; padding-right: 1em; text-align: center; vertical-align: top\">503</td>\n",
              "    </tr>\n",
              "    <tr>\n",
              "        <td style=\"padding-left: 1em; padding-right: 1em; text-align: center; vertical-align: top\">Mitt-Romney</td>\n",
              "        <td style=\"padding-left: 1em; padding-right: 1em; text-align: center; vertical-align: top\">Negative</td>\n",
              "        <td style=\"padding-left: 1em; padding-right: 1em; text-align: center; vertical-align: top\">419</td>\n",
              "    </tr>\n",
              "    <tr>\n",
              "        <td style=\"padding-left: 1em; padding-right: 1em; text-align: center; vertical-align: top\">Donald-Trump</td>\n",
              "        <td style=\"padding-left: 1em; padding-right: 1em; text-align: center; vertical-align: top\">Negative</td>\n",
              "        <td style=\"padding-left: 1em; padding-right: 1em; text-align: center; vertical-align: top\">574</td>\n",
              "    </tr>\n",
              "    <tr>\n",
              "        <td style=\"padding-left: 1em; padding-right: 1em; text-align: center; vertical-align: top\">John-Kerry</td>\n",
              "        <td style=\"padding-left: 1em; padding-right: 1em; text-align: center; vertical-align: top\">Positive</td>\n",
              "        <td style=\"padding-left: 1em; padding-right: 1em; text-align: center; vertical-align: top\">454</td>\n",
              "    </tr>\n",
              "    <tr>\n",
              "        <td style=\"padding-left: 1em; padding-right: 1em; text-align: center; vertical-align: top\">Joe-Biden</td>\n",
              "        <td style=\"padding-left: 1em; padding-right: 1em; text-align: center; vertical-align: top\">Negative</td>\n",
              "        <td style=\"padding-left: 1em; padding-right: 1em; text-align: center; vertical-align: top\">600</td>\n",
              "    </tr>\n",
              "    <tr>\n",
              "        <td style=\"padding-left: 1em; padding-right: 1em; text-align: center; vertical-align: top\">John-Kerry</td>\n",
              "        <td style=\"padding-left: 1em; padding-right: 1em; text-align: center; vertical-align: top\">Negative</td>\n",
              "        <td style=\"padding-left: 1em; padding-right: 1em; text-align: center; vertical-align: top\">338</td>\n",
              "    </tr>\n",
              "</table>\n",
              "[8 rows x 3 columns]<br/>\n",
              "</div>"
            ],
            "text/plain": [
              "Columns:\n",
              "\tpolitician\tstr\n",
              "\tsentiment\tstr\n",
              "\tarticles_sum_sentiment\tint\n",
              "\n",
              "Rows: 8\n",
              "\n",
              "Data:\n",
              "+--------------+-----------+------------------------+\n",
              "|  politician  | sentiment | articles_sum_sentiment |\n",
              "+--------------+-----------+------------------------+\n",
              "|  Joe-Biden   |  Positive |          440           |\n",
              "| Donald-Trump |  Positive |          358           |\n",
              "| Mitt-Romney  |  Positive |          503           |\n",
              "| Mitt-Romney  |  Negative |          419           |\n",
              "| Donald-Trump |  Negative |          574           |\n",
              "|  John-Kerry  |  Positive |          454           |\n",
              "|  Joe-Biden   |  Negative |          600           |\n",
              "|  John-Kerry  |  Negative |          338           |\n",
              "+--------------+-----------+------------------------+\n",
              "[8 rows x 3 columns]"
            ]
          },
          "metadata": {},
          "execution_count": 566
        }
      ]
    },
    {
      "cell_type": "code",
      "metadata": {
        "id": "3FJnCqncwLJX"
      },
      "source": [
        "all_data_NYT_BBC_UsaT__gb_SF_neg = all_data_NYT_BBC_UsaT_gb_sen_sf\n",
        "all_data_NYT_BBC_UsaT__gb_SF_pos = all_data_NYT_BBC_UsaT_gb_sen_sf"
      ],
      "execution_count": null,
      "outputs": []
    },
    {
      "cell_type": "code",
      "metadata": {
        "id": "4ggTipN9t_bf"
      },
      "source": [
        "all_data_NYT_BBC_UsaT__gb_SF_neg = all_data_NYT_BBC_UsaT__gb_SF_neg[ all_data_NYT_BBC_UsaT__gb_SF_neg['sentiment']=='Negative' ]\n",
        "all_data_NYT_BBC_UsaT__gb_SF_pos = all_data_NYT_BBC_UsaT__gb_SF_pos[ all_data_NYT_BBC_UsaT__gb_SF_pos['sentiment']=='Positive' ]"
      ],
      "execution_count": null,
      "outputs": []
    },
    {
      "cell_type": "code",
      "metadata": {
        "id": "nPjTC2tnt_d6"
      },
      "source": [
        "all_data_NYT_BBC_UsaT_gb_negPos_SF = all_data_NYT_BBC_UsaT__gb_SF_neg.join(all_data_NYT_BBC_UsaT__gb_SF_pos, on='politician', how='inner')"
      ],
      "execution_count": null,
      "outputs": []
    },
    {
      "cell_type": "code",
      "metadata": {
        "colab": {
          "base_uri": "https://localhost:8080/",
          "height": 131
        },
        "id": "8jVuFczDwme5",
        "outputId": "d9d8e80f-1728-4b88-9f09-1839aaa29e2c"
      },
      "source": [
        "all_data_NYT_BBC_UsaT_gb_negPos_SF"
      ],
      "execution_count": null,
      "outputs": [
        {
          "output_type": "execute_result",
          "data": {
            "text/html": [
              "<div style=\"max-height:1000px;max-width:1500px;overflow:auto;\"><table frame=\"box\" rules=\"cols\">\n",
              "    <tr>\n",
              "        <th style=\"padding-left: 1em; padding-right: 1em; text-align: center\">politician</th>\n",
              "        <th style=\"padding-left: 1em; padding-right: 1em; text-align: center\">sentiment</th>\n",
              "        <th style=\"padding-left: 1em; padding-right: 1em; text-align: center\">articles_sum_sentiment</th>\n",
              "        <th style=\"padding-left: 1em; padding-right: 1em; text-align: center\">sentiment.1</th>\n",
              "        <th style=\"padding-left: 1em; padding-right: 1em; text-align: center\">articles_sum_sentiment.1</th>\n",
              "    </tr>\n",
              "    <tr>\n",
              "        <td style=\"padding-left: 1em; padding-right: 1em; text-align: center; vertical-align: top\">Joe-Biden</td>\n",
              "        <td style=\"padding-left: 1em; padding-right: 1em; text-align: center; vertical-align: top\">Negative</td>\n",
              "        <td style=\"padding-left: 1em; padding-right: 1em; text-align: center; vertical-align: top\">600</td>\n",
              "        <td style=\"padding-left: 1em; padding-right: 1em; text-align: center; vertical-align: top\">Positive</td>\n",
              "        <td style=\"padding-left: 1em; padding-right: 1em; text-align: center; vertical-align: top\">440</td>\n",
              "    </tr>\n",
              "    <tr>\n",
              "        <td style=\"padding-left: 1em; padding-right: 1em; text-align: center; vertical-align: top\">Donald-Trump</td>\n",
              "        <td style=\"padding-left: 1em; padding-right: 1em; text-align: center; vertical-align: top\">Negative</td>\n",
              "        <td style=\"padding-left: 1em; padding-right: 1em; text-align: center; vertical-align: top\">574</td>\n",
              "        <td style=\"padding-left: 1em; padding-right: 1em; text-align: center; vertical-align: top\">Positive</td>\n",
              "        <td style=\"padding-left: 1em; padding-right: 1em; text-align: center; vertical-align: top\">358</td>\n",
              "    </tr>\n",
              "    <tr>\n",
              "        <td style=\"padding-left: 1em; padding-right: 1em; text-align: center; vertical-align: top\">Mitt-Romney</td>\n",
              "        <td style=\"padding-left: 1em; padding-right: 1em; text-align: center; vertical-align: top\">Negative</td>\n",
              "        <td style=\"padding-left: 1em; padding-right: 1em; text-align: center; vertical-align: top\">419</td>\n",
              "        <td style=\"padding-left: 1em; padding-right: 1em; text-align: center; vertical-align: top\">Positive</td>\n",
              "        <td style=\"padding-left: 1em; padding-right: 1em; text-align: center; vertical-align: top\">503</td>\n",
              "    </tr>\n",
              "    <tr>\n",
              "        <td style=\"padding-left: 1em; padding-right: 1em; text-align: center; vertical-align: top\">John-Kerry</td>\n",
              "        <td style=\"padding-left: 1em; padding-right: 1em; text-align: center; vertical-align: top\">Negative</td>\n",
              "        <td style=\"padding-left: 1em; padding-right: 1em; text-align: center; vertical-align: top\">338</td>\n",
              "        <td style=\"padding-left: 1em; padding-right: 1em; text-align: center; vertical-align: top\">Positive</td>\n",
              "        <td style=\"padding-left: 1em; padding-right: 1em; text-align: center; vertical-align: top\">454</td>\n",
              "    </tr>\n",
              "</table>\n",
              "[4 rows x 5 columns]<br/>\n",
              "</div>"
            ],
            "text/plain": [
              "Columns:\n",
              "\tpolitician\tstr\n",
              "\tsentiment\tstr\n",
              "\tarticles_sum_sentiment\tint\n",
              "\tsentiment.1\tstr\n",
              "\tarticles_sum_sentiment.1\tint\n",
              "\n",
              "Rows: 4\n",
              "\n",
              "Data:\n",
              "+--------------+-----------+------------------------+-------------+--------------------------+\n",
              "|  politician  | sentiment | articles_sum_sentiment | sentiment.1 | articles_sum_sentiment.1 |\n",
              "+--------------+-----------+------------------------+-------------+--------------------------+\n",
              "|  Joe-Biden   |  Negative |          600           |   Positive  |           440            |\n",
              "| Donald-Trump |  Negative |          574           |   Positive  |           358            |\n",
              "| Mitt-Romney  |  Negative |          419           |   Positive  |           503            |\n",
              "|  John-Kerry  |  Negative |          338           |   Positive  |           454            |\n",
              "+--------------+-----------+------------------------+-------------+--------------------------+\n",
              "[4 rows x 5 columns]"
            ]
          },
          "metadata": {},
          "execution_count": 570
        }
      ]
    },
    {
      "cell_type": "code",
      "metadata": {
        "id": "4lmE2umXt_gY"
      },
      "source": [
        "all_data_NYT_BBC_UsaT_gb_negPos_SF = all_data_NYT_BBC_UsaT_gb_negPos_SF.rename( {'articles_sum_sentiment.1': 'articles_sum_sentiment_pos'} )\n",
        "all_data_NYT_BBC_UsaT_gb_negPos_SF = all_data_NYT_BBC_UsaT_gb_negPos_SF.rename( {'articles_sum_sentiment': 'articles_sum_sentiment_neg'} )"
      ],
      "execution_count": null,
      "outputs": []
    },
    {
      "cell_type": "code",
      "metadata": {
        "colab": {
          "base_uri": "https://localhost:8080/",
          "height": 148
        },
        "id": "pGQbV73Jt_ir",
        "outputId": "2e186fc6-e5b8-4519-b57f-e80220bc3781"
      },
      "source": [
        "all_data_NYT_BBC_UsaT_gb_negPos_SF"
      ],
      "execution_count": null,
      "outputs": [
        {
          "output_type": "execute_result",
          "data": {
            "text/html": [
              "<div style=\"max-height:1000px;max-width:1500px;overflow:auto;\"><table frame=\"box\" rules=\"cols\">\n",
              "    <tr>\n",
              "        <th style=\"padding-left: 1em; padding-right: 1em; text-align: center\">politician</th>\n",
              "        <th style=\"padding-left: 1em; padding-right: 1em; text-align: center\">sentiment</th>\n",
              "        <th style=\"padding-left: 1em; padding-right: 1em; text-align: center\">articles_sum_sentiment_ne<br>g ...</th>\n",
              "        <th style=\"padding-left: 1em; padding-right: 1em; text-align: center\">sentiment.1</th>\n",
              "        <th style=\"padding-left: 1em; padding-right: 1em; text-align: center\">articles_sum_sentiment_po<br>s ...</th>\n",
              "    </tr>\n",
              "    <tr>\n",
              "        <td style=\"padding-left: 1em; padding-right: 1em; text-align: center; vertical-align: top\">Joe-Biden</td>\n",
              "        <td style=\"padding-left: 1em; padding-right: 1em; text-align: center; vertical-align: top\">Negative</td>\n",
              "        <td style=\"padding-left: 1em; padding-right: 1em; text-align: center; vertical-align: top\">600</td>\n",
              "        <td style=\"padding-left: 1em; padding-right: 1em; text-align: center; vertical-align: top\">Positive</td>\n",
              "        <td style=\"padding-left: 1em; padding-right: 1em; text-align: center; vertical-align: top\">440</td>\n",
              "    </tr>\n",
              "    <tr>\n",
              "        <td style=\"padding-left: 1em; padding-right: 1em; text-align: center; vertical-align: top\">Donald-Trump</td>\n",
              "        <td style=\"padding-left: 1em; padding-right: 1em; text-align: center; vertical-align: top\">Negative</td>\n",
              "        <td style=\"padding-left: 1em; padding-right: 1em; text-align: center; vertical-align: top\">574</td>\n",
              "        <td style=\"padding-left: 1em; padding-right: 1em; text-align: center; vertical-align: top\">Positive</td>\n",
              "        <td style=\"padding-left: 1em; padding-right: 1em; text-align: center; vertical-align: top\">358</td>\n",
              "    </tr>\n",
              "    <tr>\n",
              "        <td style=\"padding-left: 1em; padding-right: 1em; text-align: center; vertical-align: top\">Mitt-Romney</td>\n",
              "        <td style=\"padding-left: 1em; padding-right: 1em; text-align: center; vertical-align: top\">Negative</td>\n",
              "        <td style=\"padding-left: 1em; padding-right: 1em; text-align: center; vertical-align: top\">419</td>\n",
              "        <td style=\"padding-left: 1em; padding-right: 1em; text-align: center; vertical-align: top\">Positive</td>\n",
              "        <td style=\"padding-left: 1em; padding-right: 1em; text-align: center; vertical-align: top\">503</td>\n",
              "    </tr>\n",
              "    <tr>\n",
              "        <td style=\"padding-left: 1em; padding-right: 1em; text-align: center; vertical-align: top\">John-Kerry</td>\n",
              "        <td style=\"padding-left: 1em; padding-right: 1em; text-align: center; vertical-align: top\">Negative</td>\n",
              "        <td style=\"padding-left: 1em; padding-right: 1em; text-align: center; vertical-align: top\">338</td>\n",
              "        <td style=\"padding-left: 1em; padding-right: 1em; text-align: center; vertical-align: top\">Positive</td>\n",
              "        <td style=\"padding-left: 1em; padding-right: 1em; text-align: center; vertical-align: top\">454</td>\n",
              "    </tr>\n",
              "</table>\n",
              "[4 rows x 5 columns]<br/>\n",
              "</div>"
            ],
            "text/plain": [
              "Columns:\n",
              "\tpolitician\tstr\n",
              "\tsentiment\tstr\n",
              "\tarticles_sum_sentiment_neg\tint\n",
              "\tsentiment.1\tstr\n",
              "\tarticles_sum_sentiment_pos\tint\n",
              "\n",
              "Rows: 4\n",
              "\n",
              "Data:\n",
              "+--------------+-----------+----------------------------+-------------+----------------------------+\n",
              "|  politician  | sentiment | articles_sum_sentiment_neg | sentiment.1 | articles_sum_sentiment_pos |\n",
              "+--------------+-----------+----------------------------+-------------+----------------------------+\n",
              "|  Joe-Biden   |  Negative |            600             |   Positive  |            440             |\n",
              "| Donald-Trump |  Negative |            574             |   Positive  |            358             |\n",
              "| Mitt-Romney  |  Negative |            419             |   Positive  |            503             |\n",
              "|  John-Kerry  |  Negative |            338             |   Positive  |            454             |\n",
              "+--------------+-----------+----------------------------+-------------+----------------------------+\n",
              "[4 rows x 5 columns]"
            ]
          },
          "metadata": {},
          "execution_count": 572
        }
      ]
    },
    {
      "cell_type": "code",
      "metadata": {
        "colab": {
          "base_uri": "https://localhost:8080/",
          "height": 131
        },
        "id": "wu7E7RBhpojV",
        "outputId": "069278a7-8042-4adc-9a74-fbbccf31d564"
      },
      "source": [
        "all_data_NYT_BBC_UsaT_gb_score_sf"
      ],
      "execution_count": null,
      "outputs": [
        {
          "output_type": "execute_result",
          "data": {
            "text/html": [
              "<div style=\"max-height:1000px;max-width:1500px;overflow:auto;\"><table frame=\"box\" rules=\"cols\">\n",
              "    <tr>\n",
              "        <th style=\"padding-left: 1em; padding-right: 1em; text-align: center\">politician</th>\n",
              "        <th style=\"padding-left: 1em; padding-right: 1em; text-align: center\">articles_sum_score</th>\n",
              "    </tr>\n",
              "    <tr>\n",
              "        <td style=\"padding-left: 1em; padding-right: 1em; text-align: center; vertical-align: top\">Mitt-Romney</td>\n",
              "        <td style=\"padding-left: 1em; padding-right: 1em; text-align: center; vertical-align: top\">486.0</td>\n",
              "    </tr>\n",
              "    <tr>\n",
              "        <td style=\"padding-left: 1em; padding-right: 1em; text-align: center; vertical-align: top\">Joe-Biden</td>\n",
              "        <td style=\"padding-left: 1em; padding-right: 1em; text-align: center; vertical-align: top\">-576.0</td>\n",
              "    </tr>\n",
              "    <tr>\n",
              "        <td style=\"padding-left: 1em; padding-right: 1em; text-align: center; vertical-align: top\">John-Kerry</td>\n",
              "        <td style=\"padding-left: 1em; padding-right: 1em; text-align: center; vertical-align: top\">525.0</td>\n",
              "    </tr>\n",
              "    <tr>\n",
              "        <td style=\"padding-left: 1em; padding-right: 1em; text-align: center; vertical-align: top\">Donald-Trump</td>\n",
              "        <td style=\"padding-left: 1em; padding-right: 1em; text-align: center; vertical-align: top\">-864.0</td>\n",
              "    </tr>\n",
              "</table>\n",
              "[4 rows x 2 columns]<br/>\n",
              "</div>"
            ],
            "text/plain": [
              "Columns:\n",
              "\tpolitician\tstr\n",
              "\tarticles_sum_score\tfloat\n",
              "\n",
              "Rows: 4\n",
              "\n",
              "Data:\n",
              "+--------------+--------------------+\n",
              "|  politician  | articles_sum_score |\n",
              "+--------------+--------------------+\n",
              "| Mitt-Romney  |       486.0        |\n",
              "|  Joe-Biden   |       -576.0       |\n",
              "|  John-Kerry  |       525.0        |\n",
              "| Donald-Trump |       -864.0       |\n",
              "+--------------+--------------------+\n",
              "[4 rows x 2 columns]"
            ]
          },
          "metadata": {},
          "execution_count": 573
        }
      ]
    },
    {
      "cell_type": "markdown",
      "metadata": {
        "id": "rdsVDXWu7UxM"
      },
      "source": [
        "## all final data tables"
      ]
    },
    {
      "cell_type": "code",
      "metadata": {
        "id": "pkRCrA92_jHa"
      },
      "source": [
        "score_articles_twitts = twitts_data_score_sf_gb.join(all_data_NYT_BBC_UsaT_gb_score_sf, on='politician', how='inner')"
      ],
      "execution_count": null,
      "outputs": []
    },
    {
      "cell_type": "code",
      "metadata": {
        "colab": {
          "base_uri": "https://localhost:8080/",
          "height": 131
        },
        "id": "HSxTgZN07Z7X",
        "outputId": "c6ea59f0-f8e4-4e5c-a89d-1bb28bbe41dc"
      },
      "source": [
        "twitts_data_score_sf_gb"
      ],
      "execution_count": null,
      "outputs": [
        {
          "output_type": "execute_result",
          "data": {
            "text/html": [
              "<div style=\"max-height:1000px;max-width:1500px;overflow:auto;\"><table frame=\"box\" rules=\"cols\">\n",
              "    <tr>\n",
              "        <th style=\"padding-left: 1em; padding-right: 1em; text-align: center\">politician</th>\n",
              "        <th style=\"padding-left: 1em; padding-right: 1em; text-align: center\">twitts_sum_score</th>\n",
              "    </tr>\n",
              "    <tr>\n",
              "        <td style=\"padding-left: 1em; padding-right: 1em; text-align: center; vertical-align: top\">Mitt-Romney</td>\n",
              "        <td style=\"padding-left: 1em; padding-right: 1em; text-align: center; vertical-align: top\">-1605.0</td>\n",
              "    </tr>\n",
              "    <tr>\n",
              "        <td style=\"padding-left: 1em; padding-right: 1em; text-align: center; vertical-align: top\">Joe-Biden</td>\n",
              "        <td style=\"padding-left: 1em; padding-right: 1em; text-align: center; vertical-align: top\">-2079.0</td>\n",
              "    </tr>\n",
              "    <tr>\n",
              "        <td style=\"padding-left: 1em; padding-right: 1em; text-align: center; vertical-align: top\">John-Kerry</td>\n",
              "        <td style=\"padding-left: 1em; padding-right: 1em; text-align: center; vertical-align: top\">1162.0</td>\n",
              "    </tr>\n",
              "    <tr>\n",
              "        <td style=\"padding-left: 1em; padding-right: 1em; text-align: center; vertical-align: top\">Donald-Trump</td>\n",
              "        <td style=\"padding-left: 1em; padding-right: 1em; text-align: center; vertical-align: top\">-520.0</td>\n",
              "    </tr>\n",
              "</table>\n",
              "[4 rows x 2 columns]<br/>\n",
              "</div>"
            ],
            "text/plain": [
              "Columns:\n",
              "\tpolitician\tstr\n",
              "\ttwitts_sum_score\tfloat\n",
              "\n",
              "Rows: 4\n",
              "\n",
              "Data:\n",
              "+--------------+------------------+\n",
              "|  politician  | twitts_sum_score |\n",
              "+--------------+------------------+\n",
              "| Mitt-Romney  |     -1605.0      |\n",
              "|  Joe-Biden   |     -2079.0      |\n",
              "|  John-Kerry  |      1162.0      |\n",
              "| Donald-Trump |      -520.0      |\n",
              "+--------------+------------------+\n",
              "[4 rows x 2 columns]"
            ]
          },
          "metadata": {},
          "execution_count": 575
        }
      ]
    },
    {
      "cell_type": "code",
      "metadata": {
        "colab": {
          "base_uri": "https://localhost:8080/",
          "height": 131
        },
        "id": "hQqq6U747cr6",
        "outputId": "e7a517d8-de56-4811-b7ed-236c314c631e"
      },
      "source": [
        "twitts_data_sf_gb_negPos_SF"
      ],
      "execution_count": null,
      "outputs": [
        {
          "output_type": "execute_result",
          "data": {
            "text/html": [
              "<div style=\"max-height:1000px;max-width:1500px;overflow:auto;\"><table frame=\"box\" rules=\"cols\">\n",
              "    <tr>\n",
              "        <th style=\"padding-left: 1em; padding-right: 1em; text-align: center\">politician</th>\n",
              "        <th style=\"padding-left: 1em; padding-right: 1em; text-align: center\">sentiment</th>\n",
              "        <th style=\"padding-left: 1em; padding-right: 1em; text-align: center\">twitts_sum_score_neg</th>\n",
              "        <th style=\"padding-left: 1em; padding-right: 1em; text-align: center\">sentiment.1</th>\n",
              "        <th style=\"padding-left: 1em; padding-right: 1em; text-align: center\">twitts_sum_score_pos</th>\n",
              "    </tr>\n",
              "    <tr>\n",
              "        <td style=\"padding-left: 1em; padding-right: 1em; text-align: center; vertical-align: top\">Joe-Biden</td>\n",
              "        <td style=\"padding-left: 1em; padding-right: 1em; text-align: center; vertical-align: top\">Negative</td>\n",
              "        <td style=\"padding-left: 1em; padding-right: 1em; text-align: center; vertical-align: top\">866</td>\n",
              "        <td style=\"padding-left: 1em; padding-right: 1em; text-align: center; vertical-align: top\">Positive</td>\n",
              "        <td style=\"padding-left: 1em; padding-right: 1em; text-align: center; vertical-align: top\">336</td>\n",
              "    </tr>\n",
              "    <tr>\n",
              "        <td style=\"padding-left: 1em; padding-right: 1em; text-align: center; vertical-align: top\">Donald-Trump</td>\n",
              "        <td style=\"padding-left: 1em; padding-right: 1em; text-align: center; vertical-align: top\">Negative</td>\n",
              "        <td style=\"padding-left: 1em; padding-right: 1em; text-align: center; vertical-align: top\">378</td>\n",
              "        <td style=\"padding-left: 1em; padding-right: 1em; text-align: center; vertical-align: top\">Positive</td>\n",
              "        <td style=\"padding-left: 1em; padding-right: 1em; text-align: center; vertical-align: top\">279</td>\n",
              "    </tr>\n",
              "    <tr>\n",
              "        <td style=\"padding-left: 1em; padding-right: 1em; text-align: center; vertical-align: top\">Mitt-Romney</td>\n",
              "        <td style=\"padding-left: 1em; padding-right: 1em; text-align: center; vertical-align: top\">Negative</td>\n",
              "        <td style=\"padding-left: 1em; padding-right: 1em; text-align: center; vertical-align: top\">731</td>\n",
              "        <td style=\"padding-left: 1em; padding-right: 1em; text-align: center; vertical-align: top\">Positive</td>\n",
              "        <td style=\"padding-left: 1em; padding-right: 1em; text-align: center; vertical-align: top\">543</td>\n",
              "    </tr>\n",
              "    <tr>\n",
              "        <td style=\"padding-left: 1em; padding-right: 1em; text-align: center; vertical-align: top\">John-Kerry</td>\n",
              "        <td style=\"padding-left: 1em; padding-right: 1em; text-align: center; vertical-align: top\">Negative</td>\n",
              "        <td style=\"padding-left: 1em; padding-right: 1em; text-align: center; vertical-align: top\">312</td>\n",
              "        <td style=\"padding-left: 1em; padding-right: 1em; text-align: center; vertical-align: top\">Positive</td>\n",
              "        <td style=\"padding-left: 1em; padding-right: 1em; text-align: center; vertical-align: top\">667</td>\n",
              "    </tr>\n",
              "</table>\n",
              "[4 rows x 5 columns]<br/>\n",
              "</div>"
            ],
            "text/plain": [
              "Columns:\n",
              "\tpolitician\tstr\n",
              "\tsentiment\tstr\n",
              "\ttwitts_sum_score_neg\tint\n",
              "\tsentiment.1\tstr\n",
              "\ttwitts_sum_score_pos\tint\n",
              "\n",
              "Rows: 4\n",
              "\n",
              "Data:\n",
              "+--------------+-----------+----------------------+-------------+----------------------+\n",
              "|  politician  | sentiment | twitts_sum_score_neg | sentiment.1 | twitts_sum_score_pos |\n",
              "+--------------+-----------+----------------------+-------------+----------------------+\n",
              "|  Joe-Biden   |  Negative |         866          |   Positive  |         336          |\n",
              "| Donald-Trump |  Negative |         378          |   Positive  |         279          |\n",
              "| Mitt-Romney  |  Negative |         731          |   Positive  |         543          |\n",
              "|  John-Kerry  |  Negative |         312          |   Positive  |         667          |\n",
              "+--------------+-----------+----------------------+-------------+----------------------+\n",
              "[4 rows x 5 columns]"
            ]
          },
          "metadata": {},
          "execution_count": 576
        }
      ]
    },
    {
      "cell_type": "code",
      "metadata": {
        "colab": {
          "base_uri": "https://localhost:8080/",
          "height": 148
        },
        "id": "ruNqEamZ7c4q",
        "outputId": "d50d499a-2c20-4c7b-c191-f163ed16f79f"
      },
      "source": [
        "all_data_NYT_BBC_UsaT_gb_negPos_SF"
      ],
      "execution_count": null,
      "outputs": [
        {
          "output_type": "execute_result",
          "data": {
            "text/html": [
              "<div style=\"max-height:1000px;max-width:1500px;overflow:auto;\"><table frame=\"box\" rules=\"cols\">\n",
              "    <tr>\n",
              "        <th style=\"padding-left: 1em; padding-right: 1em; text-align: center\">politician</th>\n",
              "        <th style=\"padding-left: 1em; padding-right: 1em; text-align: center\">sentiment</th>\n",
              "        <th style=\"padding-left: 1em; padding-right: 1em; text-align: center\">articles_sum_sentiment_ne<br>g ...</th>\n",
              "        <th style=\"padding-left: 1em; padding-right: 1em; text-align: center\">sentiment.1</th>\n",
              "        <th style=\"padding-left: 1em; padding-right: 1em; text-align: center\">articles_sum_sentiment_po<br>s ...</th>\n",
              "    </tr>\n",
              "    <tr>\n",
              "        <td style=\"padding-left: 1em; padding-right: 1em; text-align: center; vertical-align: top\">Joe-Biden</td>\n",
              "        <td style=\"padding-left: 1em; padding-right: 1em; text-align: center; vertical-align: top\">Negative</td>\n",
              "        <td style=\"padding-left: 1em; padding-right: 1em; text-align: center; vertical-align: top\">600</td>\n",
              "        <td style=\"padding-left: 1em; padding-right: 1em; text-align: center; vertical-align: top\">Positive</td>\n",
              "        <td style=\"padding-left: 1em; padding-right: 1em; text-align: center; vertical-align: top\">440</td>\n",
              "    </tr>\n",
              "    <tr>\n",
              "        <td style=\"padding-left: 1em; padding-right: 1em; text-align: center; vertical-align: top\">Donald-Trump</td>\n",
              "        <td style=\"padding-left: 1em; padding-right: 1em; text-align: center; vertical-align: top\">Negative</td>\n",
              "        <td style=\"padding-left: 1em; padding-right: 1em; text-align: center; vertical-align: top\">574</td>\n",
              "        <td style=\"padding-left: 1em; padding-right: 1em; text-align: center; vertical-align: top\">Positive</td>\n",
              "        <td style=\"padding-left: 1em; padding-right: 1em; text-align: center; vertical-align: top\">358</td>\n",
              "    </tr>\n",
              "    <tr>\n",
              "        <td style=\"padding-left: 1em; padding-right: 1em; text-align: center; vertical-align: top\">Mitt-Romney</td>\n",
              "        <td style=\"padding-left: 1em; padding-right: 1em; text-align: center; vertical-align: top\">Negative</td>\n",
              "        <td style=\"padding-left: 1em; padding-right: 1em; text-align: center; vertical-align: top\">419</td>\n",
              "        <td style=\"padding-left: 1em; padding-right: 1em; text-align: center; vertical-align: top\">Positive</td>\n",
              "        <td style=\"padding-left: 1em; padding-right: 1em; text-align: center; vertical-align: top\">503</td>\n",
              "    </tr>\n",
              "    <tr>\n",
              "        <td style=\"padding-left: 1em; padding-right: 1em; text-align: center; vertical-align: top\">John-Kerry</td>\n",
              "        <td style=\"padding-left: 1em; padding-right: 1em; text-align: center; vertical-align: top\">Negative</td>\n",
              "        <td style=\"padding-left: 1em; padding-right: 1em; text-align: center; vertical-align: top\">338</td>\n",
              "        <td style=\"padding-left: 1em; padding-right: 1em; text-align: center; vertical-align: top\">Positive</td>\n",
              "        <td style=\"padding-left: 1em; padding-right: 1em; text-align: center; vertical-align: top\">454</td>\n",
              "    </tr>\n",
              "</table>\n",
              "[4 rows x 5 columns]<br/>\n",
              "</div>"
            ],
            "text/plain": [
              "Columns:\n",
              "\tpolitician\tstr\n",
              "\tsentiment\tstr\n",
              "\tarticles_sum_sentiment_neg\tint\n",
              "\tsentiment.1\tstr\n",
              "\tarticles_sum_sentiment_pos\tint\n",
              "\n",
              "Rows: 4\n",
              "\n",
              "Data:\n",
              "+--------------+-----------+----------------------------+-------------+----------------------------+\n",
              "|  politician  | sentiment | articles_sum_sentiment_neg | sentiment.1 | articles_sum_sentiment_pos |\n",
              "+--------------+-----------+----------------------------+-------------+----------------------------+\n",
              "|  Joe-Biden   |  Negative |            600             |   Positive  |            440             |\n",
              "| Donald-Trump |  Negative |            574             |   Positive  |            358             |\n",
              "| Mitt-Romney  |  Negative |            419             |   Positive  |            503             |\n",
              "|  John-Kerry  |  Negative |            338             |   Positive  |            454             |\n",
              "+--------------+-----------+----------------------------+-------------+----------------------------+\n",
              "[4 rows x 5 columns]"
            ]
          },
          "metadata": {},
          "execution_count": 577
        }
      ]
    },
    {
      "cell_type": "code",
      "metadata": {
        "colab": {
          "base_uri": "https://localhost:8080/",
          "height": 131
        },
        "id": "b51nIuwd7c7y",
        "outputId": "9edcd47e-ebdb-4142-be55-3e67d3eca3e7"
      },
      "source": [
        "all_data_NYT_BBC_UsaT_gb_score_sf"
      ],
      "execution_count": null,
      "outputs": [
        {
          "output_type": "execute_result",
          "data": {
            "text/html": [
              "<div style=\"max-height:1000px;max-width:1500px;overflow:auto;\"><table frame=\"box\" rules=\"cols\">\n",
              "    <tr>\n",
              "        <th style=\"padding-left: 1em; padding-right: 1em; text-align: center\">politician</th>\n",
              "        <th style=\"padding-left: 1em; padding-right: 1em; text-align: center\">articles_sum_score</th>\n",
              "    </tr>\n",
              "    <tr>\n",
              "        <td style=\"padding-left: 1em; padding-right: 1em; text-align: center; vertical-align: top\">Mitt-Romney</td>\n",
              "        <td style=\"padding-left: 1em; padding-right: 1em; text-align: center; vertical-align: top\">486.0</td>\n",
              "    </tr>\n",
              "    <tr>\n",
              "        <td style=\"padding-left: 1em; padding-right: 1em; text-align: center; vertical-align: top\">Joe-Biden</td>\n",
              "        <td style=\"padding-left: 1em; padding-right: 1em; text-align: center; vertical-align: top\">-576.0</td>\n",
              "    </tr>\n",
              "    <tr>\n",
              "        <td style=\"padding-left: 1em; padding-right: 1em; text-align: center; vertical-align: top\">John-Kerry</td>\n",
              "        <td style=\"padding-left: 1em; padding-right: 1em; text-align: center; vertical-align: top\">525.0</td>\n",
              "    </tr>\n",
              "    <tr>\n",
              "        <td style=\"padding-left: 1em; padding-right: 1em; text-align: center; vertical-align: top\">Donald-Trump</td>\n",
              "        <td style=\"padding-left: 1em; padding-right: 1em; text-align: center; vertical-align: top\">-864.0</td>\n",
              "    </tr>\n",
              "</table>\n",
              "[4 rows x 2 columns]<br/>\n",
              "</div>"
            ],
            "text/plain": [
              "Columns:\n",
              "\tpolitician\tstr\n",
              "\tarticles_sum_score\tfloat\n",
              "\n",
              "Rows: 4\n",
              "\n",
              "Data:\n",
              "+--------------+--------------------+\n",
              "|  politician  | articles_sum_score |\n",
              "+--------------+--------------------+\n",
              "| Mitt-Romney  |       486.0        |\n",
              "|  Joe-Biden   |       -576.0       |\n",
              "|  John-Kerry  |       525.0        |\n",
              "| Donald-Trump |       -864.0       |\n",
              "+--------------+--------------------+\n",
              "[4 rows x 2 columns]"
            ]
          },
          "metadata": {},
          "execution_count": 578
        }
      ]
    },
    {
      "cell_type": "code",
      "metadata": {
        "colab": {
          "base_uri": "https://localhost:8080/",
          "height": 131
        },
        "id": "OmTgdZwd_wsa",
        "outputId": "229dc23a-2dc4-4fd6-f912-0f12d579486a"
      },
      "source": [
        "score_articles_twitts"
      ],
      "execution_count": null,
      "outputs": [
        {
          "output_type": "execute_result",
          "data": {
            "text/html": [
              "<div style=\"max-height:1000px;max-width:1500px;overflow:auto;\"><table frame=\"box\" rules=\"cols\">\n",
              "    <tr>\n",
              "        <th style=\"padding-left: 1em; padding-right: 1em; text-align: center\">politician</th>\n",
              "        <th style=\"padding-left: 1em; padding-right: 1em; text-align: center\">twitts_sum_score</th>\n",
              "        <th style=\"padding-left: 1em; padding-right: 1em; text-align: center\">articles_sum_score</th>\n",
              "    </tr>\n",
              "    <tr>\n",
              "        <td style=\"padding-left: 1em; padding-right: 1em; text-align: center; vertical-align: top\">Mitt-Romney</td>\n",
              "        <td style=\"padding-left: 1em; padding-right: 1em; text-align: center; vertical-align: top\">-1605.0</td>\n",
              "        <td style=\"padding-left: 1em; padding-right: 1em; text-align: center; vertical-align: top\">486.0</td>\n",
              "    </tr>\n",
              "    <tr>\n",
              "        <td style=\"padding-left: 1em; padding-right: 1em; text-align: center; vertical-align: top\">Joe-Biden</td>\n",
              "        <td style=\"padding-left: 1em; padding-right: 1em; text-align: center; vertical-align: top\">-2079.0</td>\n",
              "        <td style=\"padding-left: 1em; padding-right: 1em; text-align: center; vertical-align: top\">-576.0</td>\n",
              "    </tr>\n",
              "    <tr>\n",
              "        <td style=\"padding-left: 1em; padding-right: 1em; text-align: center; vertical-align: top\">John-Kerry</td>\n",
              "        <td style=\"padding-left: 1em; padding-right: 1em; text-align: center; vertical-align: top\">1162.0</td>\n",
              "        <td style=\"padding-left: 1em; padding-right: 1em; text-align: center; vertical-align: top\">525.0</td>\n",
              "    </tr>\n",
              "    <tr>\n",
              "        <td style=\"padding-left: 1em; padding-right: 1em; text-align: center; vertical-align: top\">Donald-Trump</td>\n",
              "        <td style=\"padding-left: 1em; padding-right: 1em; text-align: center; vertical-align: top\">-520.0</td>\n",
              "        <td style=\"padding-left: 1em; padding-right: 1em; text-align: center; vertical-align: top\">-864.0</td>\n",
              "    </tr>\n",
              "</table>\n",
              "[4 rows x 3 columns]<br/>\n",
              "</div>"
            ],
            "text/plain": [
              "Columns:\n",
              "\tpolitician\tstr\n",
              "\ttwitts_sum_score\tfloat\n",
              "\tarticles_sum_score\tfloat\n",
              "\n",
              "Rows: 4\n",
              "\n",
              "Data:\n",
              "+--------------+------------------+--------------------+\n",
              "|  politician  | twitts_sum_score | articles_sum_score |\n",
              "+--------------+------------------+--------------------+\n",
              "| Mitt-Romney  |     -1605.0      |       486.0        |\n",
              "|  Joe-Biden   |     -2079.0      |       -576.0       |\n",
              "|  John-Kerry  |      1162.0      |       525.0        |\n",
              "| Donald-Trump |      -520.0      |       -864.0       |\n",
              "+--------------+------------------+--------------------+\n",
              "[4 rows x 3 columns]"
            ]
          },
          "metadata": {},
          "execution_count": 579
        }
      ]
    },
    {
      "cell_type": "markdown",
      "metadata": {
        "id": "iHAYsfX5D8bt"
      },
      "source": [
        "## graphs"
      ]
    },
    {
      "cell_type": "code",
      "metadata": {
        "id": "yxYBdZLKxE8s"
      },
      "source": [
        "import pandas as pd \n",
        "import matplotlib.pyplot as plt \n",
        "\n",
        "\n",
        "df=pd.DataFrame(all_data_NYT_BBC_UsaT_gb_negPos_SF,columns=[\"politician\",\"articles_sum_sentiment_neg\",\"articles_sum_sentiment_pos\"])\n",
        "df.plot(x=\"politician\", y=[\"articles_sum_sentiment_neg\", \"articles_sum_sentiment_pos\"], kind=\"bar\",figsize=(9,8))\n",
        "\n",
        "# Adding Xticks\n",
        "plt.xlabel('politicians', fontweight ='bold', fontsize = 15)\n",
        "plt.ylabel('sum', fontweight ='bold', fontsize = 15)\n",
        "plt.title(\"politicians sum of articles by sentiment\", fontweight ='bold', fontsize = 15)\n",
        "plt.show()"
      ],
      "execution_count": null,
      "outputs": []
    },
    {
      "cell_type": "code",
      "metadata": {
        "id": "9J2w2Mt4yLeG"
      },
      "source": [
        "import pandas as pd \n",
        "import matplotlib.pyplot as plt \n",
        "\n",
        "\n",
        "df=pd.DataFrame(all_data_NYT_BBC_UsaT_gb_score_sf,columns=[\"politician\",\"articles_sum_score\"])\n",
        "df.plot(x=\"politician\", y=[\"articles_sum_score\"], kind=\"bar\",figsize=(9,8))\n",
        "\n",
        "# Adding Xticks\n",
        "plt.xlabel('politicians', fontweight ='bold', fontsize = 15)\n",
        "plt.ylabel('sum', fontweight ='bold', fontsize = 15)\n",
        "plt.title(\"politicians sum of articles by score\", fontweight ='bold', fontsize = 15)\n",
        "plt.show()"
      ],
      "execution_count": null,
      "outputs": []
    },
    {
      "cell_type": "code",
      "metadata": {
        "id": "EKqtm7LWEB7o"
      },
      "source": [
        "import pandas as pd \n",
        "import matplotlib.pyplot as plt \n",
        "\n",
        "\n",
        "df=pd.DataFrame(twitts_data_sf_gb_negPos_SF,columns=[\"politician\",\"twitts_sum_score_neg\",\"twitts_sum_score_pos\"])\n",
        "df.plot(x=\"politician\", y=[\"twitts_sum_score_neg\", \"twitts_sum_score_pos\"], kind=\"bar\",figsize=(9,8))\n",
        "\n",
        "# Adding Xticks\n",
        "plt.xlabel('politicians', fontweight ='bold', fontsize = 15)\n",
        "plt.ylabel('sum', fontweight ='bold', fontsize = 15)\n",
        "plt.title(\"politicians sum of twitts by sentiment\", fontweight ='bold', fontsize = 15)\n",
        "plt.show()"
      ],
      "execution_count": null,
      "outputs": []
    },
    {
      "cell_type": "code",
      "metadata": {
        "id": "fv1hwpu7xFCm"
      },
      "source": [
        "import pandas as pd \n",
        "import matplotlib.pyplot as plt \n",
        "\n",
        "\n",
        "df=pd.DataFrame(twitts_data_score_sf_gb,columns=[\"politician\",\"twitts_sum_score\"])\n",
        "df.plot(x=\"politician\", y=[\"twitts_sum_score\"], kind=\"bar\",figsize=(9,8))\n",
        "\n",
        "# Adding Xticks\n",
        "plt.xlabel('politicians', fontweight ='bold', fontsize = 15)\n",
        "plt.ylabel('sum', fontweight ='bold', fontsize = 15)\n",
        "plt.title(\"politicians sum of twitts by score\", fontweight ='bold', fontsize = 15)\n",
        "plt.show()"
      ],
      "execution_count": null,
      "outputs": []
    },
    {
      "cell_type": "code",
      "metadata": {
        "id": "y1vmMbPp6rRZ"
      },
      "source": [],
      "execution_count": null,
      "outputs": []
    },
    {
      "cell_type": "code",
      "metadata": {
        "id": "U-Au_1Sz6rTl",
        "colab": {
          "base_uri": "https://localhost:8080/",
          "height": 131
        },
        "outputId": "9f52376a-ed4e-4520-8f5f-989928a4729b"
      },
      "source": [
        "score_articles_twitts"
      ],
      "execution_count": null,
      "outputs": [
        {
          "output_type": "execute_result",
          "data": {
            "text/html": [
              "<div style=\"max-height:1000px;max-width:1500px;overflow:auto;\"><table frame=\"box\" rules=\"cols\">\n",
              "    <tr>\n",
              "        <th style=\"padding-left: 1em; padding-right: 1em; text-align: center\">politician</th>\n",
              "        <th style=\"padding-left: 1em; padding-right: 1em; text-align: center\">twitts_sum_score</th>\n",
              "        <th style=\"padding-left: 1em; padding-right: 1em; text-align: center\">articles_sum_score</th>\n",
              "    </tr>\n",
              "    <tr>\n",
              "        <td style=\"padding-left: 1em; padding-right: 1em; text-align: center; vertical-align: top\">Mitt-Romney</td>\n",
              "        <td style=\"padding-left: 1em; padding-right: 1em; text-align: center; vertical-align: top\">-1605.0</td>\n",
              "        <td style=\"padding-left: 1em; padding-right: 1em; text-align: center; vertical-align: top\">486.0</td>\n",
              "    </tr>\n",
              "    <tr>\n",
              "        <td style=\"padding-left: 1em; padding-right: 1em; text-align: center; vertical-align: top\">Joe-Biden</td>\n",
              "        <td style=\"padding-left: 1em; padding-right: 1em; text-align: center; vertical-align: top\">-2079.0</td>\n",
              "        <td style=\"padding-left: 1em; padding-right: 1em; text-align: center; vertical-align: top\">-576.0</td>\n",
              "    </tr>\n",
              "    <tr>\n",
              "        <td style=\"padding-left: 1em; padding-right: 1em; text-align: center; vertical-align: top\">John-Kerry</td>\n",
              "        <td style=\"padding-left: 1em; padding-right: 1em; text-align: center; vertical-align: top\">1162.0</td>\n",
              "        <td style=\"padding-left: 1em; padding-right: 1em; text-align: center; vertical-align: top\">525.0</td>\n",
              "    </tr>\n",
              "    <tr>\n",
              "        <td style=\"padding-left: 1em; padding-right: 1em; text-align: center; vertical-align: top\">Donald-Trump</td>\n",
              "        <td style=\"padding-left: 1em; padding-right: 1em; text-align: center; vertical-align: top\">-520.0</td>\n",
              "        <td style=\"padding-left: 1em; padding-right: 1em; text-align: center; vertical-align: top\">-864.0</td>\n",
              "    </tr>\n",
              "</table>\n",
              "[4 rows x 3 columns]<br/>\n",
              "</div>"
            ],
            "text/plain": [
              "Columns:\n",
              "\tpolitician\tstr\n",
              "\ttwitts_sum_score\tfloat\n",
              "\tarticles_sum_score\tfloat\n",
              "\n",
              "Rows: 4\n",
              "\n",
              "Data:\n",
              "+--------------+------------------+--------------------+\n",
              "|  politician  | twitts_sum_score | articles_sum_score |\n",
              "+--------------+------------------+--------------------+\n",
              "| Mitt-Romney  |     -1605.0      |       486.0        |\n",
              "|  Joe-Biden   |     -2079.0      |       -576.0       |\n",
              "|  John-Kerry  |      1162.0      |       525.0        |\n",
              "| Donald-Trump |      -520.0      |       -864.0       |\n",
              "+--------------+------------------+--------------------+\n",
              "[4 rows x 3 columns]"
            ]
          },
          "metadata": {},
          "execution_count": 581
        }
      ]
    },
    {
      "cell_type": "code",
      "metadata": {
        "id": "a9r2N2A76rWF"
      },
      "source": [
        "import pandas as pd \n",
        "import matplotlib.pyplot as plt \n",
        "\n",
        "\n",
        "df=pd.DataFrame(score_articles_twitts,columns=[\"politician\",\"twitts_sum_score\",\"articles_sum_score\"])\n",
        "df.plot(x=\"politician\", y=[\"twitts_sum_score\", \"articles_sum_score\"], kind=\"bar\",figsize=(9,8))\n",
        "\n",
        "# Adding Xticks\n",
        "plt.xlabel('politicians', fontweight ='bold', fontsize = 15)\n",
        "plt.ylabel('sum', fontweight ='bold', fontsize = 15)\n",
        "plt.title(\"politicians sentiment analasys - articles VS twitts\", fontweight ='bold', fontsize = 15)\n",
        "plt.show()"
      ],
      "execution_count": null,
      "outputs": []
    },
    {
      "cell_type": "markdown",
      "metadata": {
        "id": "XWEAfn7mNf2s"
      },
      "source": []
    },
    {
      "cell_type": "markdown",
      "metadata": {
        "id": "WLYO37V6l3JQ"
      },
      "source": [
        "# Part 3 - Prediction of political articles and twitts"
      ]
    },
    {
      "cell_type": "markdown",
      "metadata": {
        "id": "qer9G5iJnVvr"
      },
      "source": [
        "## data"
      ]
    },
    {
      "cell_type": "code",
      "metadata": {
        "id": "gFwd2ZuLnEOT"
      },
      "source": [
        "import turicreate as tc\n",
        "from nltk.corpus import stopwords\n",
        "from nltk.stem.porter import *\n",
        "from functools import lru_cache\n",
        "from collections import Counter\n",
        "from nltk.tokenize import word_tokenize\n",
        "import nltk"
      ],
      "execution_count": null,
      "outputs": []
    },
    {
      "cell_type": "code",
      "metadata": {
        "id": "17CJ6qI3n5uK"
      },
      "source": [
        "stop_words_set = set(stopwords.words(\"english\"))\n",
        "stemmer = PorterStemmer()\n",
        "\n",
        "#Using cahcing for faster performence\n",
        "@lru_cache(maxsize=None)\n",
        "def word_stemming(w):\n",
        "    return stemmer.stem(w)\n",
        "\n",
        "\n",
        "def skip_word(w):\n",
        "    if len(w) <2:\n",
        "        return True\n",
        "    if w.isdigit():\n",
        "        return True\n",
        "    if w in stop_words_set or stemmer.stem(w) in stop_words_set:\n",
        "        return True\n",
        "    return False\n",
        "\n",
        "def text_to_bow(text):\n",
        "    text = text.lower()\n",
        "    l = [word_stemming(w) for w in word_tokenize(text) if not skip_word(w) ]\n",
        "    l = [w for w in l if not skip_word(w)]\n",
        "    d = Counter(l)\n",
        "    return dict(d)"
      ],
      "execution_count": null,
      "outputs": []
    },
    {
      "cell_type": "code",
      "metadata": {
        "id": "Bj9F6bA0p0r6"
      },
      "source": [
        "all_data_NYT_BBC_DF = New_york_times_analasys"
      ],
      "execution_count": null,
      "outputs": []
    },
    {
      "cell_type": "code",
      "metadata": {
        "colab": {
          "base_uri": "https://localhost:8080/",
          "height": 419
        },
        "id": "xsb-iiOrskT8",
        "outputId": "8c5f6a9d-1093-4263-9664-ab6ecf0dc7e6"
      },
      "source": [
        "all_data_NYT_BBC_DF"
      ],
      "execution_count": null,
      "outputs": [
        {
          "output_type": "execute_result",
          "data": {
            "text/html": [
              "<div>\n",
              "<style scoped>\n",
              "    .dataframe tbody tr th:only-of-type {\n",
              "        vertical-align: middle;\n",
              "    }\n",
              "\n",
              "    .dataframe tbody tr th {\n",
              "        vertical-align: top;\n",
              "    }\n",
              "\n",
              "    .dataframe thead th {\n",
              "        text-align: right;\n",
              "    }\n",
              "</style>\n",
              "<table border=\"1\" class=\"dataframe\">\n",
              "  <thead>\n",
              "    <tr style=\"text-align: right;\">\n",
              "      <th></th>\n",
              "      <th>politician</th>\n",
              "      <th>content</th>\n",
              "      <th>content_afinn_score</th>\n",
              "      <th>sentiment</th>\n",
              "    </tr>\n",
              "  </thead>\n",
              "  <tbody>\n",
              "    <tr>\n",
              "      <th>0</th>\n",
              "      <td>John-Kerry</td>\n",
              "      <td>John Kerry Speaks.Mitt Romney has been knockin...</td>\n",
              "      <td>0.0</td>\n",
              "      <td>Positive</td>\n",
              "    </tr>\n",
              "    <tr>\n",
              "      <th>1</th>\n",
              "      <td>John-Kerry</td>\n",
              "      <td>John Kerry and War.Mitt Romney has been knocki...</td>\n",
              "      <td>-2.0</td>\n",
              "      <td>Negative</td>\n",
              "    </tr>\n",
              "    <tr>\n",
              "      <th>2</th>\n",
              "      <td>John-Kerry</td>\n",
              "      <td>Springtime for John Kerry.Mitt Romney has been...</td>\n",
              "      <td>0.0</td>\n",
              "      <td>Positive</td>\n",
              "    </tr>\n",
              "    <tr>\n",
              "      <th>3</th>\n",
              "      <td>John-Kerry</td>\n",
              "      <td>John Kerry for President.Mitt Romney has been ...</td>\n",
              "      <td>0.0</td>\n",
              "      <td>Positive</td>\n",
              "    </tr>\n",
              "    <tr>\n",
              "      <th>4</th>\n",
              "      <td>John-Kerry</td>\n",
              "      <td>John Kerry for President.Mitt Romney has been ...</td>\n",
              "      <td>0.0</td>\n",
              "      <td>Positive</td>\n",
              "    </tr>\n",
              "    <tr>\n",
              "      <th>...</th>\n",
              "      <td>...</td>\n",
              "      <td>...</td>\n",
              "      <td>...</td>\n",
              "      <td>...</td>\n",
              "    </tr>\n",
              "    <tr>\n",
              "      <th>3955</th>\n",
              "      <td>Mitt-Romney</td>\n",
              "      <td>Why the U.S. Needs the Romney Family Plan.Amer...</td>\n",
              "      <td>0.0</td>\n",
              "      <td>Positive</td>\n",
              "    </tr>\n",
              "    <tr>\n",
              "      <th>3956</th>\n",
              "      <td>Mitt-Romney</td>\n",
              "      <td>The Corrupt, the Clueless and Joe Biden.Unity ...</td>\n",
              "      <td>-3.0</td>\n",
              "      <td>Negative</td>\n",
              "    </tr>\n",
              "    <tr>\n",
              "      <th>3957</th>\n",
              "      <td>Mitt-Romney</td>\n",
              "      <td>Mitt! Mitt! Mitt!.How about a refresher on all...</td>\n",
              "      <td>2.0</td>\n",
              "      <td>Positive</td>\n",
              "    </tr>\n",
              "    <tr>\n",
              "      <th>3958</th>\n",
              "      <td>Mitt-Romney</td>\n",
              "      <td>Mitt Likes Music, Including This.The Gregory B...</td>\n",
              "      <td>4.0</td>\n",
              "      <td>Positive</td>\n",
              "    </tr>\n",
              "    <tr>\n",
              "      <th>3959</th>\n",
              "      <td>Mitt-Romney</td>\n",
              "      <td>The Curse of the Mitt.Mitt Romney has been kno...</td>\n",
              "      <td>-1.0</td>\n",
              "      <td>Negative</td>\n",
              "    </tr>\n",
              "  </tbody>\n",
              "</table>\n",
              "<p>3960 rows × 4 columns</p>\n",
              "</div>"
            ],
            "text/plain": [
              "       politician  ... sentiment\n",
              "0      John-Kerry  ...  Positive\n",
              "1      John-Kerry  ...  Negative\n",
              "2      John-Kerry  ...  Positive\n",
              "3      John-Kerry  ...  Positive\n",
              "4      John-Kerry  ...  Positive\n",
              "...           ...  ...       ...\n",
              "3955  Mitt-Romney  ...  Positive\n",
              "3956  Mitt-Romney  ...  Negative\n",
              "3957  Mitt-Romney  ...  Positive\n",
              "3958  Mitt-Romney  ...  Positive\n",
              "3959  Mitt-Romney  ...  Negative\n",
              "\n",
              "[3960 rows x 4 columns]"
            ]
          },
          "metadata": {},
          "execution_count": 48
        }
      ]
    },
    {
      "cell_type": "code",
      "metadata": {
        "id": "tvJOKccMn5wk"
      },
      "source": [
        "\n",
        "bow_list = []\n",
        "for t in all_data_NYT_BBC_DF['content']:\n",
        "    bow_list.append(text_to_bow(t))\n",
        "all_data_NYT_BBC_DF['bow'] = bow_list\n",
        "\n",
        "docs = all_data_NYT_BBC_DF['bow']"
      ],
      "execution_count": null,
      "outputs": []
    },
    {
      "cell_type": "code",
      "metadata": {
        "colab": {
          "base_uri": "https://localhost:8080/",
          "height": 419
        },
        "id": "RN_uu6DSn5zV",
        "outputId": "2ed1899b-d4ad-46ed-a9d4-a47d33949bfe"
      },
      "source": [
        "all_data_NYT_BBC_DF"
      ],
      "execution_count": null,
      "outputs": [
        {
          "output_type": "execute_result",
          "data": {
            "text/html": [
              "<div>\n",
              "<style scoped>\n",
              "    .dataframe tbody tr th:only-of-type {\n",
              "        vertical-align: middle;\n",
              "    }\n",
              "\n",
              "    .dataframe tbody tr th {\n",
              "        vertical-align: top;\n",
              "    }\n",
              "\n",
              "    .dataframe thead th {\n",
              "        text-align: right;\n",
              "    }\n",
              "</style>\n",
              "<table border=\"1\" class=\"dataframe\">\n",
              "  <thead>\n",
              "    <tr style=\"text-align: right;\">\n",
              "      <th></th>\n",
              "      <th>politician</th>\n",
              "      <th>content</th>\n",
              "      <th>content_afinn_score</th>\n",
              "      <th>sentiment</th>\n",
              "      <th>bow</th>\n",
              "    </tr>\n",
              "  </thead>\n",
              "  <tbody>\n",
              "    <tr>\n",
              "      <th>0</th>\n",
              "      <td>John-Kerry</td>\n",
              "      <td>John Kerry Speaks.The Gregory Brothers present...</td>\n",
              "      <td>2.0</td>\n",
              "      <td>Positive</td>\n",
              "      <td>{'john': 1, 'kerri': 1, 'speaks.th': 1, 'grego...</td>\n",
              "    </tr>\n",
              "    <tr>\n",
              "      <th>1</th>\n",
              "      <td>John-Kerry</td>\n",
              "      <td>Springtime for John Kerry.The Gregory Brothers...</td>\n",
              "      <td>2.0</td>\n",
              "      <td>Positive</td>\n",
              "      <td>{'springtim': 1, 'john': 1, 'kerry.th': 1, 'gr...</td>\n",
              "    </tr>\n",
              "    <tr>\n",
              "      <th>2</th>\n",
              "      <td>John-Kerry</td>\n",
              "      <td>John Kerry and War.The Gregory Brothers presen...</td>\n",
              "      <td>0.0</td>\n",
              "      <td>Positive</td>\n",
              "      <td>{'john': 1, 'kerri': 1, 'war.th': 1, 'gregori'...</td>\n",
              "    </tr>\n",
              "    <tr>\n",
              "      <th>3</th>\n",
              "      <td>John-Kerry</td>\n",
              "      <td>John Kerry for President.The Gregory Brothers ...</td>\n",
              "      <td>2.0</td>\n",
              "      <td>Positive</td>\n",
              "      <td>{'john': 1, 'kerri': 1, 'president.th': 1, 'gr...</td>\n",
              "    </tr>\n",
              "    <tr>\n",
              "      <th>4</th>\n",
              "      <td>John-Kerry</td>\n",
              "      <td>John Kerry for President.The Gregory Brothers ...</td>\n",
              "      <td>2.0</td>\n",
              "      <td>Positive</td>\n",
              "      <td>{'john': 1, 'kerri': 1, 'president.th': 1, 'gr...</td>\n",
              "    </tr>\n",
              "    <tr>\n",
              "      <th>...</th>\n",
              "      <td>...</td>\n",
              "      <td>...</td>\n",
              "      <td>...</td>\n",
              "      <td>...</td>\n",
              "      <td>...</td>\n",
              "    </tr>\n",
              "    <tr>\n",
              "      <th>3955</th>\n",
              "      <td>Mitt-Romney</td>\n",
              "      <td>Why the U.S. Needs the Romney Family Plan.Amer...</td>\n",
              "      <td>0.0</td>\n",
              "      <td>Positive</td>\n",
              "      <td>{'u.s.': 1, 'need': 2, 'romney': 1, 'famili': ...</td>\n",
              "    </tr>\n",
              "    <tr>\n",
              "      <th>3956</th>\n",
              "      <td>Mitt-Romney</td>\n",
              "      <td>The Corrupt, the Clueless and Joe Biden.Unity ...</td>\n",
              "      <td>-3.0</td>\n",
              "      <td>Negative</td>\n",
              "      <td>{'corrupt': 1, 'clueless': 1, 'joe': 1, 'biden...</td>\n",
              "    </tr>\n",
              "    <tr>\n",
              "      <th>3957</th>\n",
              "      <td>Mitt-Romney</td>\n",
              "      <td>Mitt! Mitt! Mitt!.How about a refresher on all...</td>\n",
              "      <td>2.0</td>\n",
              "      <td>Positive</td>\n",
              "      <td>{'mitt': 4, '.how': 1, 'refresh': 1, 'book': 1...</td>\n",
              "    </tr>\n",
              "    <tr>\n",
              "      <th>3958</th>\n",
              "      <td>Mitt-Romney</td>\n",
              "      <td>The Curse of the Mitt.Mitt Romney has been kno...</td>\n",
              "      <td>-1.0</td>\n",
              "      <td>Negative</td>\n",
              "      <td>{'curs': 1, 'mitt.mitt': 1, 'romney': 1, 'knoc...</td>\n",
              "    </tr>\n",
              "    <tr>\n",
              "      <th>3959</th>\n",
              "      <td>Mitt-Romney</td>\n",
              "      <td>Mitt Likes Music, Including This.The Gregory B...</td>\n",
              "      <td>4.0</td>\n",
              "      <td>Positive</td>\n",
              "      <td>{'mitt': 2, 'like': 2, 'music': 3, 'includ': 1...</td>\n",
              "    </tr>\n",
              "  </tbody>\n",
              "</table>\n",
              "<p>3960 rows × 5 columns</p>\n",
              "</div>"
            ],
            "text/plain": [
              "       politician  ...                                                bow\n",
              "0      John-Kerry  ...  {'john': 1, 'kerri': 1, 'speaks.th': 1, 'grego...\n",
              "1      John-Kerry  ...  {'springtim': 1, 'john': 1, 'kerry.th': 1, 'gr...\n",
              "2      John-Kerry  ...  {'john': 1, 'kerri': 1, 'war.th': 1, 'gregori'...\n",
              "3      John-Kerry  ...  {'john': 1, 'kerri': 1, 'president.th': 1, 'gr...\n",
              "4      John-Kerry  ...  {'john': 1, 'kerri': 1, 'president.th': 1, 'gr...\n",
              "...           ...  ...                                                ...\n",
              "3955  Mitt-Romney  ...  {'u.s.': 1, 'need': 2, 'romney': 1, 'famili': ...\n",
              "3956  Mitt-Romney  ...  {'corrupt': 1, 'clueless': 1, 'joe': 1, 'biden...\n",
              "3957  Mitt-Romney  ...  {'mitt': 4, '.how': 1, 'refresh': 1, 'book': 1...\n",
              "3958  Mitt-Romney  ...  {'curs': 1, 'mitt.mitt': 1, 'romney': 1, 'knoc...\n",
              "3959  Mitt-Romney  ...  {'mitt': 2, 'like': 2, 'music': 3, 'includ': 1...\n",
              "\n",
              "[3960 rows x 5 columns]"
            ]
          },
          "metadata": {},
          "execution_count": 44
        }
      ]
    },
    {
      "cell_type": "code",
      "metadata": {
        "id": "6Mdyw1m0B04k"
      },
      "source": [
        "import turicreate as tc\n",
        "all_data_NYT_BBC_SF = tc.SFrame.read_csv(all_data_NYT_BBC_DF)"
      ],
      "execution_count": null,
      "outputs": []
    },
    {
      "cell_type": "code",
      "metadata": {
        "id": "HEaphnlT5jww"
      },
      "source": [
        "import spacy\n",
        "from tqdm import tqdm\n",
        "\n",
        "nlp = spacy.load('en_core_web_lg')\n",
        "def get_entites_from_text(text):\n",
        "    entities_dict= {}\n",
        "    #using spaCy to get entities\n",
        "    doc = nlp(text)\n",
        "    for entity in doc.ents:\n",
        "        label = entity.label_\n",
        "        if  label not in entities_dict:\n",
        "            entities_dict[label] = set()\n",
        "        entities_dict[label].add(entity.text)        \n",
        "\n",
        "    return entities_dict\n",
        "\n",
        "l =[] \n",
        "for i in tqdm(range(len(all_data_NYT_BBC_DF['content']))):\n",
        "    t = all_data_NYT_BBC_DF[i]['content']\n",
        "    l.append(get_entites_from_text(t))\n",
        "\n",
        "\n"
      ],
      "execution_count": null,
      "outputs": []
    },
    {
      "cell_type": "code",
      "metadata": {
        "id": "IM-dnKsd5kES"
      },
      "source": [
        "all_data_NYT_BBC_DF['bow'] = tc.text_analytics.count_words(all_data_NYT_BBC_DF['content'])\n",
        "all_data_NYT_BBC_DF['bow'] = all_data_NYT_BBC_DF['bow'].apply(lambda d: {k:v for k,v in d.items() if v > 1})\n",
        "all_data_NYT_BBC_DF['tfidf'] = tc.text_analytics.tf_idf(all_data_NYT_BBC_DF['bow'])"
      ],
      "execution_count": null,
      "outputs": []
    },
    {
      "cell_type": "markdown",
      "metadata": {
        "id": "bI4sRyhenYf5"
      },
      "source": [
        "## create the model"
      ]
    },
    {
      "cell_type": "code",
      "metadata": {
        "id": "Pg3TGVBznERA"
      },
      "source": [
        "train, test = sf.random_split(0.8)\n",
        "cls = tc.classifier.create(train, features=[\"bow\", \"tfidf\"], target=\"Label\")"
      ],
      "execution_count": null,
      "outputs": []
    }
  ]
}